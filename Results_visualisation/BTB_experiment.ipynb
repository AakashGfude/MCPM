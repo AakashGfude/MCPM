{
 "cells": [
  {
   "cell_type": "code",
   "execution_count": 1,
   "metadata": {},
   "outputs": [],
   "source": [
    "import matplotlib.pyplot as plt\n",
    "import numpy as np\n",
    "import scipy \n",
    "import random\n",
    "import math\n",
    "import csv\n",
    "from scipy.stats import poisson \n",
    "import matplotlib as mpl\n",
    "from matplotlib import colors as mpl_colors\n",
    "import matplotlib\n",
    "from scipy.stats import ttest_rel"
   ]
  },
  {
   "cell_type": "markdown",
   "metadata": {},
   "source": [
    "# Set the pars and import the data"
   ]
  },
  {
   "cell_type": "code",
   "execution_count": 2,
   "metadata": {},
   "outputs": [],
   "source": [
    "N_all = 4096\n",
    "N = 64\n",
    "n_tasks = 4\n",
    "n_latent = 4\n",
    "missing_exp = True\n",
    "epochs = 500\n",
    "plot_interpolation = \"None\"\n",
    "inputs_dimension = 6\n"
   ]
  },
  {
   "cell_type": "code",
   "execution_count": 4,
   "metadata": {},
   "outputs": [],
   "source": [
    "outputs = np.loadtxt('../Data/btb_experiments/outputs_BTB')\n",
    "inputs = np.loadtxt('../Data/btb_experiments/inputs_BTB')\n",
    "cell_inside = np.loadtxt('../Data/btb_experiments/cell_inside.csv')\n",
    "surfaces_mLGCP_BTB = np.loadtxt('../Data/btb_experiments/surfaces_mLGCP_BTB')"
   ]
  },
  {
   "cell_type": "code",
   "execution_count": 5,
   "metadata": {},
   "outputs": [],
   "source": [
    "rotated = list(reversed(zip(*cell_inside)))\n",
    "matrix_rotated1 = np.zeros((N,N))\n",
    "for i in  xrange(len(rotated)):\n",
    "    matrix_rotated1[i,:] = rotated[i]\n",
    "cell_inside = matrix_rotated1\n",
    "cell_inside[cell_inside == 0] = np.nan"
   ]
  },
  {
   "cell_type": "code",
   "execution_count": 8,
   "metadata": {},
   "outputs": [],
   "source": [
    "# Import outputs with missing data\n",
    "data_final_with_NOna = outputs"
   ]
  },
  {
   "cell_type": "markdown",
   "metadata": {},
   "source": [
    "# Import predictions for missing data exps"
   ]
  },
  {
   "cell_type": "code",
   "execution_count": 10,
   "metadata": {},
   "outputs": [],
   "source": [
    "# If use covariates need to change this\n",
    "method = 'MCPM'\n",
    "prior_mixing_weights = 'Normal'\n",
    "missing_exp = True \n",
    "n_folds = 16\n",
    "n_missing_values = N_all/16\n"
   ]
  },
  {
   "cell_type": "code",
   "execution_count": 13,
   "metadata": {},
   "outputs": [],
   "source": [
    "final_dataset_MT_Normal = np.load('../Data/btb_experiments/'+ 'final_dataset_'+ prior_mixing_weights + \"_\" + 'MCPM' + \"_\" + str(missing_exp)+ \".npy\")\n",
    "latent_means_MT_Normal = np.load('../Data/btb_experiments/' + 'latent_means_'+ prior_mixing_weights + \"_\" + 'MCPM' + \"_\" + str(missing_exp)+ \".npy\")\n",
    "latent_vars_MT_Normal = np.load('../Data/btb_experiments/' + 'latent_variances_'+ prior_mixing_weights + \"_\" + 'MCPM' + \"_\" + str(missing_exp)+ \".npy\")\n",
    "means_w_MT_Normal = np.load('../Data/btb_experiments/' + 'means_weights_'+ prior_mixing_weights + \"_\" + 'MCPM' + \"_\" + str(missing_exp)+ \".npy\")\n",
    "vars_w_MT_Normal = np.load('../Data/btb_experiments/' + 'covars_weights_'+ prior_mixing_weights + \"_\" + 'MCPM' + \"_\" + str(missing_exp)+ \".npy\")\n",
    "offsets_MT_Normal = np.load('../Data/btb_experiments/' + 'offsets_'+ prior_mixing_weights + \"_\" + 'MCPM' + \"_\" + str(missing_exp)+ \".npy\")\n"
   ]
  },
  {
   "cell_type": "code",
   "execution_count": 21,
   "metadata": {},
   "outputs": [],
   "source": [
    "method = 'LGCP'\n",
    "prior_mixing_weights = 'Normal'\n",
    "missing_exp = True \n",
    "n_folds = 16\n",
    "n_missing_values = N_all/16\n",
    "\n",
    "final_dataset_ST_Normal = np.load('../Data/btb_experiments/'+ 'final_dataset_'+ prior_mixing_weights + \"_\" + 'MCPM' + \"_\" + str(missing_exp)+ \".npy\")\n",
    "latent_means_ST_Normal = np.load('../Data/btb_experiments/' + 'latent_means_'+ prior_mixing_weights + \"_\" + 'MCPM' + \"_\" + str(missing_exp)+ \".npy\")\n",
    "latent_vars_ST_Normal = np.load('../Data/btb_experiments/' + 'latent_variances_'+ prior_mixing_weights + \"_\" + 'MCPM' + \"_\" + str(missing_exp)+ \".npy\")\n",
    "means_w_ST_Normal = np.load('../Data/btb_experiments/' + 'means_weights_'+ prior_mixing_weights + \"_\" + 'MCPM' + \"_\" + str(missing_exp)+ \".npy\")\n",
    "vars_w_ST_Normal = np.load('../Data/btb_experiments/' + 'covars_weights_'+ prior_mixing_weights + \"_\" + 'MCPM' + \"_\" + str(missing_exp)+ \".npy\")\n",
    "offsets_ST_Normal = np.load('../Data/btb_experiments/' + 'offsets_'+ prior_mixing_weights + \"_\" + 'MCPM' + \"_\" + str(missing_exp)+ \".npy\")\n"
   ]
  },
  {
   "cell_type": "code",
   "execution_count": 22,
   "metadata": {},
   "outputs": [
    {
     "data": {
      "text/plain": [
       "(16, 4096, 10)"
      ]
     },
     "execution_count": 22,
     "metadata": {},
     "output_type": "execute_result"
    }
   ],
   "source": [
    "# Import outputs with missing data\n",
    "n_folds = 16\n",
    "method = 'MT'\n",
    "prior_mixing_weights = 'Normal'\n",
    "missing_exp = True\n",
    "data_final_with_na = np.loadtxt('../Data/btb_experiments/' + 'data_final_with_na_'+ prior_mixing_weights + \"_\" + method+ \"_\" + str(missing_exp)).reshape(n_folds, N_all, n_tasks + inputs_dimension)\n",
    "data_final_with_na.shape"
   ]
  },
  {
   "cell_type": "code",
   "execution_count": null,
   "metadata": {},
   "outputs": [],
   "source": []
  },
  {
   "cell_type": "code",
   "execution_count": 23,
   "metadata": {},
   "outputs": [],
   "source": [
    "data_NA = data_final_with_na[:]"
   ]
  },
  {
   "cell_type": "code",
   "execution_count": 24,
   "metadata": {},
   "outputs": [],
   "source": [
    "fold = 0\n",
    "na_data = np.zeros((n_tasks, N, N))\n",
    "masked_array = np.zeros((n_tasks, N, N))\n",
    "im = [None] * n_tasks\n",
    "for t in xrange(n_tasks):\n",
    "    na_data[t] = data_NA[fold,:,t+inputs_dimension].reshape(N,N)\n",
    "    na_data[t][~np.isnan(na_data[t])] =  0\n",
    "    na_data[t][np.isnan(na_data[t])] = 1\n",
    "    na_data[t][na_data[t] == 0] =  np.nan\n",
    "    \n",
    "    masked_array[t] = np.ma.array(na_data[t], mask=np.isnan(data_final_with_na[fold,:,t+inputs_dimension].reshape(N,N)))\n"
   ]
  },
  {
   "cell_type": "code",
   "execution_count": 25,
   "metadata": {},
   "outputs": [
    {
     "data": {
      "text/plain": [
       "[0, 3.5, 7]"
      ]
     },
     "execution_count": 25,
     "metadata": {},
     "output_type": "execute_result"
    }
   ],
   "source": [
    "bounds = [None] * n_tasks\n",
    "for t in xrange(n_tasks):\n",
    "    bounds[t] = [0,np.max(data_final_with_NOna[:,t])/2, int(np.max(data_final_with_NOna[:,t]))]\n",
    "bounds[0]"
   ]
  },
  {
   "cell_type": "markdown",
   "metadata": {},
   "source": [
    "# Plot the data"
   ]
  },
  {
   "cell_type": "code",
   "execution_count": 26,
   "metadata": {},
   "outputs": [
    {
     "data": {
      "image/png": "[encoded data removed]",
      "text/plain": [
       "<Figure size 1980x432 with 4 Axes>"
      ]
     },
     "metadata": {
      "needs_background": "light"
     },
     "output_type": "display_data"
    }
   ],
   "source": [
    "fold = 0\n",
    "cmap = \"gist_heat_r\"\n",
    "mpl.rcParams.update({'font.size': 20})\n",
    "size_cbar_ticks = 18\n",
    "transparency = 0.5\n",
    "shrink = 0.8\n",
    "pad=0.05\n",
    "rescale = 0.2\n",
    "cmap1 = mpl.cm.gray\n",
    "cmap1.set_bad('white',alpha = 0.0)\n",
    "\n",
    "xmin, xmax, ymin, ymax = np.amin(data_final_with_na[fold,:,1]), np.amax(data_final_with_na[fold,:,1]), np.amin(data_final_with_na[fold,:,0]), np.amax(data_final_with_na[fold,:,0])\n",
    "extent = xmin, xmax, ymin, ymax\n",
    "\n",
    "fig, axs = plt.subplots(1,4, sharex = 'col', sharey = 'row')\n",
    "fig.set_figheight(6)\n",
    "fig.set_figwidth(27.5)\n",
    "fig.subplots_adjust(hspace=0.2)\n",
    "fig.subplots_adjust(wspace=0.02)\n",
    "\n",
    "axs = axs.ravel()\n",
    "\n",
    "for i in range(4):\n",
    "#         print('i', i)\n",
    "        color_max = np.amax((((data_final_with_NOna[:,i])[~np.isnan(data_final_with_NOna[:,i])])))\n",
    "        color_min = np.amin((((data_final_with_NOna[:,i])[~np.isnan(data_final_with_NOna[:,i])])))\n",
    "#         print('color_max', color_max)\n",
    "#         print('color_min', color_min)\n",
    "        color_min = color_min - rescale\n",
    "        \n",
    "        im[i] = axs[i].imshow(data_final_with_NOna[:, i].reshape(N,N)*cell_inside, extent=extent, \n",
    "                 aspect = 'auto', cmap=cmap, interpolation='None',\n",
    "                 vmin = color_min, vmax = color_max)\n",
    "        \n",
    "        #axs[i].imshow(masked_array[i], interpolation='nearest', cmap = cmap1, alpha = transparency,\n",
    "        #  extent=extent)\n",
    "        \n",
    "        #axs[i].title.set_text(crime_list_name[i])\n",
    "        \n",
    "\n",
    "        #b = bounds[i]\n",
    "        #cbar = plt.colorbar(im[i], ax = axs[i],orientation=\"horizontal\", pad=pad, shrink = shrink, ticks = b)\n",
    "        #cbar.ax.tick_params(labelsize=size_cbar_ticks)\n",
    "\n",
    "#         axs[i].set_yticks([])\n",
    "#         axs[i].set_xticks([])         \n",
    "plt.show()"
   ]
  },
  {
   "cell_type": "code",
   "execution_count": null,
   "metadata": {},
   "outputs": [],
   "source": []
  },
  {
   "cell_type": "code",
   "execution_count": null,
   "metadata": {},
   "outputs": [],
   "source": []
  },
  {
   "cell_type": "code",
   "execution_count": 27,
   "metadata": {},
   "outputs": [],
   "source": [
    "# Estimated surfaces ST"
   ]
  },
  {
   "cell_type": "code",
   "execution_count": 28,
   "metadata": {},
   "outputs": [
    {
     "data": {
      "image/png": "[encoded data removed]",
      "text/plain": [
       "<Figure size 1512x216 with 4 Axes>"
      ]
     },
     "metadata": {},
     "output_type": "display_data"
    }
   ],
   "source": [
    "fold = 0\n",
    "mpl.rcParams.update({'font.size': 12.8})\n",
    "size_cbar_ticks = 15\n",
    "rescale = 20\n",
    "\n",
    "cmap = \"gist_heat_r\"\n",
    "norm = mpl.colors.Normalize(vmin=-100.,vmax=100)\n",
    "\n",
    "extent = (np.amin(final_dataset_ST_Normal[fold,:,0]), np.amax(final_dataset_ST_Normal[fold,:,0]), np.amin(final_dataset_ST_Normal[fold,:,1]), np.amax(final_dataset_ST_Normal[fold,:,1]))\n",
    "\n",
    "fig, axs = plt.subplots(1,4, sharex = 'col', sharey = 'row')\n",
    "fig.set_figheight(3)\n",
    "fig.set_figwidth(21)\n",
    "fig.subplots_adjust(hspace=0.02)\n",
    "fig.subplots_adjust(wspace=0.02)\n",
    "\n",
    "axs = axs.ravel()\n",
    "\n",
    "for i in range(n_tasks):\n",
    "#     print('i',i)\n",
    "#     print('i +9',i + 9)\n",
    "#     print('to plot',final_dataset_ST_Normal[fold,:, inputs_dimension + n_tasks + i ][~np.isnan(final_dataset_ST_Normal[fold,:, inputs_dimension + n_tasks + i])])\n",
    "    color_max = np.amax((final_dataset_ST_Normal[fold,:, inputs_dimension + n_tasks + i][~np.isnan(final_dataset_ST_Normal[fold,:, inputs_dimension + n_tasks + i])]))\n",
    "\n",
    "    color_min = np.amin((final_dataset_ST_Normal[fold,:, inputs_dimension + n_tasks + i][~np.isnan(final_dataset_ST_Normal[fold,:, inputs_dimension + n_tasks + i])]))\n",
    "#     print('min',color_max) \n",
    "#     print('max',color_min)\n",
    "\n",
    "    axs[i].imshow(final_dataset_ST_Normal[fold,:, inputs_dimension + n_tasks + i].reshape(N,N), extent=extent, aspect = 'auto', \n",
    "                  cmap=cmap, interpolation='None', vmin = color_min, vmax = color_max)\n",
    "    #axs[i].title.set_text(crime_list_name[i])\n",
    "    if i == 0:\n",
    "        axs[i].set_ylabel('Intensity', fontweight=\"bold\")\n",
    "\n",
    "\n",
    "    axs[i].grid(False)\n",
    "    axs[i].set_yticks([]) \n",
    "    axs[i].set_xticks([]) \n",
    "    axs[i].grid(False)\n",
    "    \n",
    "# name = \"Figure3\" + str(cmap)\n",
    "# fig.savefig(name + '.png')\n",
    "plt.show()"
   ]
  },
  {
   "cell_type": "code",
   "execution_count": null,
   "metadata": {},
   "outputs": [],
   "source": []
  },
  {
   "cell_type": "markdown",
   "metadata": {},
   "source": [
    "# Evaluation of performance missing data exp"
   ]
  },
  {
   "cell_type": "code",
   "execution_count": 29,
   "metadata": {},
   "outputs": [
    {
     "data": {
      "text/plain": [
       "array([0.12060547, 0.02661133, 0.04052734, 0.02539062])"
      ]
     },
     "execution_count": 29,
     "metadata": {},
     "output_type": "execute_result"
    }
   ],
   "source": [
    "mean_outputs = np.mean(outputs, axis = 0)\n",
    "range_outputs = np.ptp(outputs, axis = 0)\n",
    "mean_outputs"
   ]
  },
  {
   "cell_type": "code",
   "execution_count": 30,
   "metadata": {},
   "outputs": [],
   "source": [
    "np.random.seed(1)\n",
    "# cell_bool = np.ones((N, N))"
   ]
  },
  {
   "cell_type": "code",
   "execution_count": 31,
   "metadata": {},
   "outputs": [],
   "source": [
    "cell_inside[~np.isnan(cell_inside)] = True\n",
    "cell_inside[np.isnan(cell_inside)] = False\n"
   ]
  },
  {
   "cell_type": "code",
   "execution_count": 34,
   "metadata": {},
   "outputs": [],
   "source": [
    "MT_RMSE_results_inter = np.zeros((n_tasks, n_folds))\n",
    "MT_NLPL_results_inter = np.zeros((n_tasks, n_folds))\n",
    "MT_RMSE_results = np.zeros((n_tasks))\n",
    "MT_NLPL_results = np.zeros((n_tasks))\n",
    "\n",
    "ST_RMSE_results = np.zeros((n_tasks))\n",
    "ST_NLPL_results = np.zeros((n_tasks))\n",
    "ST_RMSE_results_inter = np.zeros((n_tasks, n_folds))\n",
    "ST_NLPL_results_inter = np.zeros((n_tasks, n_folds))"
   ]
  },
  {
   "cell_type": "code",
   "execution_count": 35,
   "metadata": {
    "scrolled": true
   },
   "outputs": [
    {
     "ename": "IndexError",
     "evalue": "index 1 is out of bounds for axis 0 with size 1",
     "output_type": "error",
     "traceback": [
      "\u001b[0;31m---------------------------------------------------------------------------\u001b[0m",
      "\u001b[0;31mIndexError\u001b[0m                                Traceback (most recent call last)",
      "\u001b[0;32m<ipython-input-35-8898393e9c74>\u001b[0m in \u001b[0;36m<module>\u001b[0;34m()\u001b[0m\n\u001b[1;32m     11\u001b[0m \u001b[0;31m#         print('true',true_counts.shape)\u001b[0m\u001b[0;34m\u001b[0m\u001b[0;34m\u001b[0m\u001b[0m\n\u001b[1;32m     12\u001b[0m \u001b[0;31m#         print('final_dataset_ST_Normal',final_dataset_ST_Normal.shape)\u001b[0m\u001b[0;34m\u001b[0m\u001b[0;34m\u001b[0m\u001b[0m\n\u001b[0;32m---> 13\u001b[0;31m         \u001b[0mpred_counts\u001b[0m \u001b[0;34m=\u001b[0m  \u001b[0mfinal_dataset_ST_Normal\u001b[0m\u001b[0;34m[\u001b[0m\u001b[0mfold\u001b[0m\u001b[0;34m,\u001b[0m\u001b[0mcond\u001b[0m\u001b[0;34m,\u001b[0m\u001b[0minputs_dimension\u001b[0m \u001b[0;34m+\u001b[0m \u001b[0mn_tasks\u001b[0m \u001b[0;34m+\u001b[0m \u001b[0mtask\u001b[0m\u001b[0;34m]\u001b[0m\u001b[0;34m\u001b[0m\u001b[0m\n\u001b[0m\u001b[1;32m     14\u001b[0m         \u001b[0;31m#print('pred_counts',pred_counts.shape)\u001b[0m\u001b[0;34m\u001b[0m\u001b[0;34m\u001b[0m\u001b[0m\n\u001b[1;32m     15\u001b[0m \u001b[0;34m\u001b[0m\u001b[0m\n",
      "\u001b[0;31mIndexError\u001b[0m: index 1 is out of bounds for axis 0 with size 1"
     ]
    }
   ],
   "source": [
    "n_folds = 16\n",
    "for fold in xrange(n_folds):\n",
    "\n",
    "    for task in xrange(n_tasks):\n",
    "        fold_task_subset = data_final_with_na[fold,:,task+inputs_dimension]\n",
    "        #cond = np.isnan(fold_task_subset)\n",
    "        cond = np.logical_and(cell_inside, np.isnan(fold_task_subset).reshape(N,N)).reshape(N_all,1)[:,0]\n",
    "#         print('cond',cond.shape)\n",
    "#         print('outputs',outputs.shape)\n",
    "        true_counts =  outputs[cond,task] \n",
    "#         print('true',true_counts.shape)\n",
    "#         print('final_dataset_ST_Normal',final_dataset_ST_Normal.shape)\n",
    "        pred_counts =  final_dataset_ST_Normal[fold,cond,inputs_dimension + n_tasks + task]\n",
    "        #print('pred_counts',pred_counts.shape)\n",
    "        \n",
    "        if pred_counts.shape[0] == 0:\n",
    "            ST_NLPL_results_inter[task,fold] = np.nan\n",
    "            ST_RMSE_results_inter[task,fold] = np.nan \n",
    "        else:\n",
    "            ST_NLPL_results_inter[task,fold] = - np.sum(poisson.logpmf(true_counts, pred_counts))/pred_counts.shape[0]\n",
    "            ST_RMSE_results_inter[task,fold] = np.sqrt(np.sum(np.square(true_counts - pred_counts))/pred_counts.shape[0])"
   ]
  },
  {
   "cell_type": "code",
   "execution_count": 27,
   "metadata": {},
   "outputs": [
    {
     "name": "stdout",
     "output_type": "stream",
     "text": [
      "('ST_RMSE_results mean', array([1.36595096, 0.61123246, 0.62951459, 1.24458678]))\n"
     ]
    }
   ],
   "source": [
    "for t in xrange(n_tasks):\n",
    "    ST_RMSE_results[t] = np.mean(ST_RMSE_results_inter[t][~np.isnan(ST_RMSE_results_inter[t])])\n",
    "print('ST_RMSE_results mean', ST_RMSE_results)"
   ]
  },
  {
   "cell_type": "code",
   "execution_count": 28,
   "metadata": {},
   "outputs": [
    {
     "name": "stdout",
     "output_type": "stream",
     "text": [
      "('ST_NLPL_results mean', array([1.12466775, 0.40336858, 0.45393265, 0.75611052]))\n"
     ]
    }
   ],
   "source": [
    "for t in xrange(n_tasks):\n",
    "    ST_NLPL_results[t] = np.mean(ST_NLPL_results_inter[t][~np.isnan(ST_NLPL_results_inter[t])])\n",
    "print('ST_NLPL_results mean', ST_NLPL_results)"
   ]
  },
  {
   "cell_type": "code",
   "execution_count": 29,
   "metadata": {
    "scrolled": true
   },
   "outputs": [
    {
     "name": "stdout",
     "output_type": "stream",
     "text": [
      "('ST_RMSE_results std', array([0.32697541, 0.13047572, 0.11845203, 0.5575689 ]))\n"
     ]
    }
   ],
   "source": [
    "for t in xrange(n_tasks):\n",
    "    ST_RMSE_results[t] = np.std(ST_RMSE_results_inter[t][~np.isnan(ST_RMSE_results_inter[t])])/np.sqrt(n_folds)\n",
    "print('ST_RMSE_results std', ST_RMSE_results)"
   ]
  },
  {
   "cell_type": "code",
   "execution_count": 30,
   "metadata": {},
   "outputs": [
    {
     "name": "stdout",
     "output_type": "stream",
     "text": [
      "('ST_NLPL_results std', array([0.22416308, 0.07868817, 0.08231063, 0.31167259]))\n"
     ]
    }
   ],
   "source": [
    "for t in xrange(n_tasks):\n",
    "    ST_NLPL_results[t] = np.std(ST_NLPL_results_inter[t][~np.isnan(ST_NLPL_results_inter[t])])/np.sqrt(n_folds)\n",
    "print('ST_NLPL_results std', ST_NLPL_results)"
   ]
  },
  {
   "cell_type": "code",
   "execution_count": 39,
   "metadata": {},
   "outputs": [
    {
     "ename": "IndexError",
     "evalue": "index 1 is out of bounds for axis 0 with size 1",
     "output_type": "error",
     "traceback": [
      "\u001b[0;31m---------------------------------------------------------------------------\u001b[0m",
      "\u001b[0;31mIndexError\u001b[0m                                Traceback (most recent call last)",
      "\u001b[0;32m<ipython-input-39-51474ee1b6b2>\u001b[0m in \u001b[0;36m<module>\u001b[0;34m()\u001b[0m\n\u001b[1;32m     12\u001b[0m \u001b[0;31m#         print('true',true_counts.shape)\u001b[0m\u001b[0;34m\u001b[0m\u001b[0;34m\u001b[0m\u001b[0m\n\u001b[1;32m     13\u001b[0m \u001b[0;31m#         print('final_dataset_ST_Normal',final_dataset_ST_Normal.shape)\u001b[0m\u001b[0;34m\u001b[0m\u001b[0;34m\u001b[0m\u001b[0m\n\u001b[0;32m---> 14\u001b[0;31m         \u001b[0mpred_counts\u001b[0m \u001b[0;34m=\u001b[0m  \u001b[0mfinal_dataset_MT_Normal\u001b[0m\u001b[0;34m[\u001b[0m\u001b[0mfold\u001b[0m\u001b[0;34m,\u001b[0m\u001b[0mcond\u001b[0m\u001b[0;34m,\u001b[0m\u001b[0minputs_dimension\u001b[0m \u001b[0;34m+\u001b[0m \u001b[0mn_tasks\u001b[0m \u001b[0;34m+\u001b[0m \u001b[0mtask\u001b[0m\u001b[0;34m]\u001b[0m\u001b[0;34m\u001b[0m\u001b[0m\n\u001b[0m\u001b[1;32m     15\u001b[0m \u001b[0;31m#         print('pred_counts',pred_counts.shape)\u001b[0m\u001b[0;34m\u001b[0m\u001b[0;34m\u001b[0m\u001b[0m\n\u001b[1;32m     16\u001b[0m         \u001b[0;32mif\u001b[0m \u001b[0mpred_counts\u001b[0m\u001b[0;34m.\u001b[0m\u001b[0mshape\u001b[0m\u001b[0;34m[\u001b[0m\u001b[0;36m0\u001b[0m\u001b[0;34m]\u001b[0m \u001b[0;34m==\u001b[0m \u001b[0;36m0\u001b[0m\u001b[0;34m:\u001b[0m\u001b[0;34m\u001b[0m\u001b[0m\n",
      "\u001b[0;31mIndexError\u001b[0m: index 1 is out of bounds for axis 0 with size 1"
     ]
    }
   ],
   "source": [
    "## Evaluate results for MT\n",
    "n_folds = 16\n",
    "for fold in xrange(n_folds):\n",
    "\n",
    "    for task in xrange(n_tasks):\n",
    "        fold_task_subset = data_final_with_na[fold,:,task+inputs_dimension]\n",
    "        #cond = np.isnan(fold_task_subset)\n",
    "        cond = np.logical_and(cell_inside, np.isnan(fold_task_subset).reshape(N,N)).reshape(N_all,1)[:,0]\n",
    "#         print('cond',cond.shape)\n",
    "#         print('outputs',outputs.shape)\n",
    "        true_counts =  outputs[cond,task] \n",
    "#         print('true',true_counts.shape)\n",
    "#         print('final_dataset_ST_Normal',final_dataset_ST_Normal.shape)\n",
    "        pred_counts =  final_dataset_MT_Normal[fold,cond,inputs_dimension + n_tasks + task]\n",
    "#         print('pred_counts',pred_counts.shape)\n",
    "        if pred_counts.shape[0] == 0:\n",
    "            MT_NLPL_results_inter[task,fold] = np.nan\n",
    "            MT_RMSE_results_inter[task,fold] = np.nan \n",
    "        else:\n",
    "            MT_NLPL_results_inter[task,fold] = - np.sum(poisson.logpmf(true_counts, pred_counts))/pred_counts.shape[0]\n",
    "            MT_RMSE_results_inter[task,fold] = np.sqrt(np.sum(np.square(true_counts - pred_counts))/pred_counts.shape[0])"
   ]
  },
  {
   "cell_type": "code",
   "execution_count": 34,
   "metadata": {},
   "outputs": [
    {
     "name": "stdout",
     "output_type": "stream",
     "text": [
      "('MT_RMSE_results mean', array([0.75975862, 0.22559239, 0.27148854, 0.27075389]))\n"
     ]
    }
   ],
   "source": [
    "for t in xrange(n_tasks):\n",
    "    MT_RMSE_results[t] = np.mean(MT_RMSE_results_inter[t][~np.isnan(MT_RMSE_results_inter[t])])\n",
    "print('MT_RMSE_results mean', MT_RMSE_results)"
   ]
  },
  {
   "cell_type": "code",
   "execution_count": 36,
   "metadata": {},
   "outputs": [
    {
     "name": "stdout",
     "output_type": "stream",
     "text": [
      "('MT_NLPL_results mean', array([1.02420264, 0.16651913, 0.28661342, 0.29611546]))\n"
     ]
    }
   ],
   "source": [
    "for t in xrange(n_tasks):\n",
    "    MT_NLPL_results[t] = np.mean(MT_NLPL_results_inter[t][~np.isnan(MT_NLPL_results_inter[t])])\n",
    "print('MT_NLPL_results mean', MT_NLPL_results)"
   ]
  },
  {
   "cell_type": "code",
   "execution_count": 38,
   "metadata": {},
   "outputs": [
    {
     "name": "stdout",
     "output_type": "stream",
     "text": [
      "('MT_RMSE_results std', array([0.14632862, 0.07307546, 0.06838324, 0.09665354]))\n"
     ]
    }
   ],
   "source": [
    "for t in xrange(n_tasks):\n",
    "    MT_RMSE_results[t] = np.std(MT_RMSE_results_inter[t][~np.isnan(MT_RMSE_results_inter[t])])/np.sqrt(n_folds)\n",
    "print('MT_RMSE_results std', MT_RMSE_results)"
   ]
  },
  {
   "cell_type": "code",
   "execution_count": 40,
   "metadata": {},
   "outputs": [
    {
     "name": "stdout",
     "output_type": "stream",
     "text": [
      "('MT_NLPL_results std', array([0.32985675, 0.05428784, 0.09684123, 0.13582312]))\n"
     ]
    }
   ],
   "source": [
    "for t in xrange(n_tasks):\n",
    "    MT_NLPL_results[t] = np.std(MT_NLPL_results_inter[t][~np.isnan(MT_NLPL_results_inter[t])])/np.sqrt(n_folds)\n",
    "print('MT_NLPL_results std', MT_NLPL_results)"
   ]
  },
  {
   "cell_type": "markdown",
   "metadata": {},
   "source": [
    "# Import results form ICM"
   ]
  },
  {
   "cell_type": "code",
   "execution_count": 40,
   "metadata": {},
   "outputs": [],
   "source": [
    "mu = np.load('../Data/btb_experiments/posterior_mean.npy')\n",
    "var = np.load('../Data/btb_experiments/posterior_var.npy')\n",
    "\n",
    "\n",
    "posterior_mean = np.exp(mu + 0.5*var)\n",
    "posterior_var = (np.exp(var) - 1.)*np.exp(2.0*mu + var)"
   ]
  },
  {
   "cell_type": "markdown",
   "metadata": {},
   "source": [
    "# Missing data MT plot"
   ]
  },
  {
   "cell_type": "code",
   "execution_count": 41,
   "metadata": {},
   "outputs": [],
   "source": [
    "fold = 0"
   ]
  },
  {
   "cell_type": "code",
   "execution_count": 42,
   "metadata": {},
   "outputs": [
    {
     "data": {
      "text/plain": [
       "(1, 4096, 4)"
      ]
     },
     "execution_count": 42,
     "metadata": {},
     "output_type": "execute_result"
    }
   ],
   "source": [
    "MT_pred_vector = final_dataset_MT_Normal[:,:,(inputs_dimension + n_tasks):(inputs_dimension + n_tasks + n_tasks)]\n",
    "MT_pred_vector.shape\n",
    "ST_pred_vector = final_dataset_ST_Normal[:,:,(inputs_dimension + n_tasks):(inputs_dimension + n_tasks + n_tasks)]\n",
    "ST_pred_vector.shape"
   ]
  },
  {
   "cell_type": "code",
   "execution_count": 43,
   "metadata": {},
   "outputs": [],
   "source": [
    "cp1_MTCP = (MT_pred_vector[fold,:,0].reshape(64,64))/ (MT_pred_vector[fold,:,0].reshape(64,64) + MT_pred_vector[fold,:,1].reshape(64,64) + MT_pred_vector[fold,:,2].reshape(64,64) + MT_pred_vector[fold,:,3].reshape(64,64)) \n",
    "cp2_MTCP = (MT_pred_vector[fold,:,1].reshape(64,64))/ (MT_pred_vector[fold,:,0].reshape(64,64) + MT_pred_vector[fold,:,1].reshape(64,64) + MT_pred_vector[fold,:,2].reshape(64,64) + MT_pred_vector[fold,:,3].reshape(64,64)) \n",
    "cp3_MTCP = (MT_pred_vector[fold,:,2].reshape(64,64))/ (MT_pred_vector[fold,:,0].reshape(64,64) + MT_pred_vector[fold,:,1].reshape(64,64) + MT_pred_vector[fold,:,2].reshape(64,64) + MT_pred_vector[fold,:,3].reshape(64,64)) \n",
    "cp4_MTCP = (MT_pred_vector[fold,:,3].reshape(64,64))/ (MT_pred_vector[fold,:,0].reshape(64,64) + MT_pred_vector[fold,:,1].reshape(64,64) + MT_pred_vector[fold,:,2].reshape(64,64) + MT_pred_vector[fold,:,3].reshape(64,64)) \n"
   ]
  },
  {
   "cell_type": "code",
   "execution_count": 44,
   "metadata": {},
   "outputs": [],
   "source": [
    "cp1_ICM = (posterior_mean[fold,:,0].reshape(64,64))/ (posterior_mean[fold,:,0].reshape(64,64) + posterior_mean[fold,:,1].reshape(64,64) + posterior_mean[fold,:,2].reshape(64,64) + posterior_mean[fold,:,3].reshape(64,64)) \n",
    "cp2_ICM = (posterior_mean[fold,:,1].reshape(64,64))/ (posterior_mean[fold,:,0].reshape(64,64) + posterior_mean[fold,:,1].reshape(64,64) + posterior_mean[fold,:,2].reshape(64,64) + posterior_mean[fold,:,3].reshape(64,64)) \n",
    "cp3_ICM = (posterior_mean[fold,:,2].reshape(64,64))/ (posterior_mean[fold,:,0].reshape(64,64) + posterior_mean[fold,:,1].reshape(64,64) + posterior_mean[fold,:,2].reshape(64,64) + posterior_mean[fold,:,3].reshape(64,64)) \n",
    "cp4_ICM = (posterior_mean[fold,:,3].reshape(64,64))/ (posterior_mean[fold,:,0].reshape(64,64) + posterior_mean[fold,:,1].reshape(64,64) + posterior_mean[fold,:,2].reshape(64,64) + posterior_mean[fold,:,3].reshape(64,64)) \n"
   ]
  },
  {
   "cell_type": "code",
   "execution_count": 45,
   "metadata": {},
   "outputs": [],
   "source": [
    "na_task1 = data_final_with_na[fold,:,inputs_dimension].reshape(64,64)\n",
    "na_task2 = data_final_with_na[fold,:,inputs_dimension+1].reshape(64,64)\n",
    "na_task3 = data_final_with_na[fold,:,inputs_dimension+2].reshape(64,64)\n",
    "na_task4 = data_final_with_na[fold,:,inputs_dimension+3].reshape(64,64)"
   ]
  },
  {
   "cell_type": "code",
   "execution_count": 46,
   "metadata": {},
   "outputs": [],
   "source": [
    "na_task1[~np.isnan(na_task1)] =  0\n",
    "na_task1[np.isnan(na_task1)] = 1\n",
    "na_task1[na_task1 == 0] =  np.nan\n",
    "na_task2[~np.isnan(na_task2)] =  0\n",
    "na_task2[np.isnan(na_task2)] = 1\n",
    "na_task2[na_task2 == 0] =  np.nan\n",
    "na_task3[~np.isnan(na_task3)] =  0\n",
    "na_task3[np.isnan(na_task3)] = 1\n",
    "na_task3[na_task3 == 0] =  np.nan\n",
    "na_task4[~np.isnan(na_task4)] =  0\n",
    "na_task4[np.isnan(na_task4)] = 1\n",
    "na_task4[na_task4 == 0] =  np.nan"
   ]
  },
  {
   "cell_type": "markdown",
   "metadata": {},
   "source": [
    "# This get the plot for the missing data experimemnt. Changing the data that are imported one can make the plot with covariate or no covariates. When using the cov the plot creates a problem in the first row. "
   ]
  },
  {
   "cell_type": "code",
   "execution_count": 47,
   "metadata": {},
   "outputs": [
    {
     "data": {
      "image/png": "[encoded data removed]",
      "text/plain": [
       "<Figure size 720x576 with 15 Axes>"
      ]
     },
     "metadata": {
      "needs_background": "light"
     },
     "output_type": "display_data"
    }
   ],
   "source": [
    "#cmap = 'jet'\n",
    "cmap = \"gist_heat_r\"\n",
    "\n",
    "inducing = 'ind'\n",
    "f, ((ax01,ax02,ax03,ax04),(ax3, ax5, ax7, ax9),(ax10,ax11,ax12,ax13)) = plt.subplots(3, 4, sharex = 'col', sharey = 'row')\n",
    "\n",
    "xmin, xmax, ymin, ymax = np.amin(data_final_with_na[fold,:,1]), np.amax(data_final_with_na[fold,:,1]), np.amin(data_final_with_na[fold,:,0]), np.amax(data_final_with_na[fold,:,0])\n",
    "extent = xmin, xmax, ymin, ymax\n",
    "\n",
    "f.set_figheight(8)\n",
    "f.set_figwidth(10)\n",
    "\n",
    "\n",
    "color_max = np.amax(((((outputs[:,0].reshape(N,N))*cell_inside)[~np.isnan(outputs[:,0].reshape(N,N)*cell_inside)],\n",
    "                                    (outputs[:,1].reshape(N,N)*cell_inside)[~np.isnan(outputs[:,1].reshape(N,N)*cell_inside)],\n",
    "                                    (outputs[:,2].reshape(N,N)*cell_inside)[~np.isnan(outputs[:,2].reshape(N,N)*cell_inside)],\n",
    "                                    (outputs[:,3].reshape(N,N)*cell_inside)[~np.isnan(outputs[:,3].reshape(N,N)*cell_inside)])))\n",
    "\n",
    "color_min = np.amin((((outputs[:,0].reshape(N,N)*cell_inside)[~np.isnan(outputs[:,0].reshape(N,N)*cell_inside)],\n",
    "                                    (outputs[:,1].reshape(N,N)*cell_inside)[~np.isnan(outputs[:,1].reshape(N,N)*cell_inside)],\n",
    "                                    (outputs[:,2].reshape(N,N)*cell_inside)[~np.isnan(outputs[:,2].reshape(N,N)*cell_inside)],\n",
    "                                    (outputs[:,3].reshape(N,N)*cell_inside)[~np.isnan(outputs[:,3].reshape(N,N)*cell_inside)])))\n",
    "color_min = color_min - 0.2\n",
    "\n",
    "# masked_array1 = np.ma.array(na_task1, mask=np.isnan(outputs[:,0].reshape(N,N)))\n",
    "# masked_array2 = np.ma.array(na_task2, mask=np.isnan(outputs[:,1].reshape(N,N)))\n",
    "# masked_array3 = np.ma.array(na_task3, mask=np.isnan(outputs[:,2].reshape(N,N)))\n",
    "# masked_array4 = np.ma.array(na_task4, mask=np.isnan(outputs[:,3].reshape(N,N)))\n",
    "\n",
    "\n",
    "# cmap1 = matplotlib.cm.gray\n",
    "# cmap1.set_bad('white',alpha = 0.0)\n",
    "\n",
    "# ax01.imshow(outputs[:,0].reshape(N,N)*cell_inside, \n",
    "#                  aspect = 'auto', cmap=cmap, interpolation=plot_interpolation, vmin = color_min, vmax = (color_max),\n",
    "#           extent=extent)\n",
    "\n",
    "# ax01.imshow(masked_array1, interpolation='nearest', cmap = cmap1, alpha = transparency,\n",
    "#           extent=extent)\n",
    "\n",
    "# ax01.set_yticks([]) \n",
    "# ax01.set_xticks([]) \n",
    "# ax01.set_title('GT 9', size=15)\n",
    "# ax01.set_ylabel('Training obs.', fontweight=\"bold\")\n",
    "\n",
    "\n",
    "\n",
    "# ax02.imshow(outputs[:,1].reshape(N,N)*cell_inside, \n",
    "#                  aspect = 'auto', cmap=cmap, interpolation=plot_interpolation, vmin = color_min, vmax = (color_max),\n",
    "#           extent=extent)\n",
    "\n",
    "# ax02.imshow(masked_array2, interpolation='nearest', cmap = cmap1, alpha = transparency,\n",
    "#           extent=extent)\n",
    "# # ax2.spines['top'].set_visible(False)\n",
    "# # ax2.spines['right'].set_visible(False)\n",
    "# ax02.set_yticks([]) \n",
    "# ax02.set_xticks([]) \n",
    "# #ax2.title.set_text('GT 12')\n",
    "# ax02.set_title('GT 12', size=15)\n",
    "\n",
    "\n",
    "# ax03.imshow(outputs[:,2].reshape(N,N)*cell_inside, \n",
    "#                  aspect = 'auto', cmap=cmap, interpolation=plot_interpolation, vmin = color_min, vmax = (color_max),\n",
    "#           extent=extent)\n",
    "\n",
    "# ax03.imshow(masked_array3, interpolation='nearest', cmap = cmap1, alpha = transparency,\n",
    "#           extent=extent)\n",
    "# # ax3.spines['top'].set_visible(False)\n",
    "# # ax3.spines['right'].set_visible(False)\n",
    "# ax03.set_yticks([]) \n",
    "# ax03.set_xticks([]) \n",
    "# #ax3.title.set_text('GT 15')\n",
    "# ax03.set_title('GT 15', size=15)\n",
    "\n",
    "\n",
    "\n",
    "img = ax04.imshow(outputs[:,3].reshape(N,N)*cell_inside, \n",
    "                 aspect = 'auto', cmap=cmap, interpolation=plot_interpolation, vmin = color_min, vmax = (color_max),\n",
    "          extent=extent)\n",
    "\n",
    "# ax04.imshow(masked_array4, interpolation='nearest', cmap = cmap1, alpha = transparency,\n",
    "#           extent=extent)\n",
    "# # ax4.spines['top'].set_visible(False)\n",
    "# # ax4.spines['right'].set_visible(False)\n",
    "\n",
    "# ax04.set_yticks([]) \n",
    "# ax04.set_xticks([]) \n",
    "# ax04.set_title('GT 20', size=15)\n",
    "# # ax4.title.set_text('GT 20', size=20)\n",
    "\n",
    "\n",
    "bounds = [0, 6.5, 13]\n",
    "cax = f.add_axes([0.9, 0.65, 0.05, 0.2], aspect=30)\n",
    "cbar = plt.colorbar(img, cax=cax, ticks = bounds)\n",
    "cbar.ax.set_yticklabels(['0', '6.5', '13'])  # vertically oriented colorbar\n",
    "cbar.ax.tick_params(labelsize=15)\n",
    "\n",
    "\n",
    "color_max = np.amax((np.concatenate((MT_pred_vector[fold,:,0].reshape(N_all,)[~np.isnan(MT_pred_vector[fold,:,0].reshape(N_all,))],\n",
    "                                    MT_pred_vector[fold,:,1].reshape(N_all,)[~np.isnan(MT_pred_vector[fold,:,1].reshape(N_all,))],\n",
    "                                    MT_pred_vector[fold,:,2].reshape(N_all,)[~np.isnan(MT_pred_vector[fold,:,2].reshape(N_all,))],\n",
    "                                    MT_pred_vector[fold,:,3].reshape(N_all,)[~np.isnan(MT_pred_vector[fold,:,3].reshape(N_all,))]))))\n",
    "\n",
    "color_min = np.amin((np.concatenate((MT_pred_vector[fold,:,0].reshape(N_all,)[~np.isnan(MT_pred_vector[fold,:,0].reshape(N_all,))],\n",
    "                                    MT_pred_vector[fold,:,1].reshape(N_all,)[~np.isnan(MT_pred_vector[fold,:,1].reshape(N_all,))],\n",
    "                                    MT_pred_vector[fold,:,2].reshape(N_all,)[~np.isnan(MT_pred_vector[fold,:,2].reshape(N_all,))],\n",
    "                                    MT_pred_vector[fold,:,3].reshape(N_all,)[~np.isnan(MT_pred_vector[fold,:,3].reshape(N_all,))]))))\n",
    "\n",
    "\n",
    "color_min = color_min - 0.2\n",
    "im1 = ax3.imshow(MT_pred_vector[fold,:,0].reshape(64,64)* cell_inside, extent=extent, aspect = 'auto', cmap=cmap, interpolation=plot_interpolation,\n",
    "          vmin = color_min, vmax = color_max)\n",
    "ax3.grid(False)\n",
    "ax3.xaxis.set_visible(True)\n",
    "ax3.tick_params(labelsize=8)\n",
    "#ax3.title.set_text('GT 9')\n",
    "ax3.set_yticks([]) \n",
    "ax3.set_xticks([]) \n",
    "ax3.set_ylabel('Intensity surface', fontweight=\"bold\")\n",
    "\n",
    "\n",
    "\n",
    "\n",
    "ax5.imshow(MT_pred_vector[fold,:,1].reshape(64,64)* cell_inside, extent=extent, \n",
    "           aspect = 'auto', cmap=cmap, interpolation=plot_interpolation,\n",
    "          vmin = color_min, vmax = color_max)\n",
    "ax5.grid(False)\n",
    "ax5.xaxis.set_visible(True)\n",
    "ax5.tick_params(labelsize=8)\n",
    "#ax5.title.set_text('GT 12')\n",
    "ax5.set_yticks([]) \n",
    "ax5.set_xticks([]) \n",
    "\n",
    "\n",
    "\n",
    "\n",
    "ax7.imshow(MT_pred_vector[fold,:,2].reshape(64,64)* cell_inside, extent=extent, \n",
    "           aspect = 'auto', cmap=cmap, interpolation=plot_interpolation,\n",
    "          vmin = color_min, vmax = color_max)\n",
    "ax7.grid(False)\n",
    "ax7.xaxis.set_visible(True)\n",
    "ax7.tick_params(labelsize=8)\n",
    "#ax7.title.set_text('GT 15')\n",
    "ax7.set_yticks([]) \n",
    "ax7.set_xticks([]) \n",
    "\n",
    "\n",
    "\n",
    "ax9.imshow(MT_pred_vector[fold,:,3].reshape(64,64)* cell_inside, extent=extent, \n",
    "           aspect = 'auto', cmap=cmap, interpolation=plot_interpolation,\n",
    "          vmin = color_min, vmax = color_max)\n",
    "ax9.grid(False)\n",
    "ax9.xaxis.set_visible(True)\n",
    "ax9.tick_params(labelsize=8)\n",
    "#ax9.title.set_text('GT 20')\n",
    "ax9.set_yticks([]) \n",
    "ax9.set_xticks([]) \n",
    "\n",
    "\n",
    "bounds = [color_min, (color_max-color_min)/2, color_max]\n",
    "cax2 = f.add_axes([0.9, 0.40, 0.05, 0.2], aspect=30)\n",
    "cbar = plt.colorbar(im1, cax=cax2, ticks = bounds)\n",
    "cbar.ax.set_yticklabels(['0', '3.8', '7.8'])  # vertically oriented colorbar\n",
    "cbar.ax.tick_params(labelsize=15)\n",
    "\n",
    "######\n",
    "color_max = 1\n",
    "color_min = 0 -0.02\n",
    "\n",
    "im2 = ax10.imshow(cp1_MTCP* cell_inside, extent=extent, aspect = 'auto', cmap=cmap, interpolation=plot_interpolation,\n",
    "          vmin = color_min, vmax = color_max)\n",
    "ax10.grid(False)\n",
    "ax10.xaxis.set_visible(True)\n",
    "ax10.tick_params(labelsize=8)\n",
    "ax10.set_yticks([]) \n",
    "ax10.set_xticks([]) \n",
    "ax10.set_ylabel('Conditional prob.', fontweight=\"bold\")\n",
    "\n",
    "\n",
    "\n",
    "ax11.imshow(cp2_MTCP* cell_inside, extent=extent, aspect = 'auto', cmap=cmap, interpolation=plot_interpolation,\n",
    "          vmin = color_min, vmax = color_max)\n",
    "ax11.grid(False)\n",
    "ax11.xaxis.set_visible(True)\n",
    "ax11.tick_params(labelsize=8)\n",
    "ax11.set_yticks([]) \n",
    "ax11.set_xticks([]) \n",
    "\n",
    "ax12.imshow(cp3_MTCP* cell_inside, extent=extent, aspect = 'auto', cmap=cmap, interpolation=plot_interpolation,\n",
    "          vmin = color_min, vmax = color_max)\n",
    "ax12.grid(False)\n",
    "ax12.xaxis.set_visible(True)\n",
    "ax12.tick_params(labelsize=8)\n",
    "ax12.set_yticks([]) \n",
    "ax12.set_xticks([]) \n",
    "\n",
    "ax13.imshow(cp4_MTCP* cell_inside, extent=extent, aspect = 'auto', cmap=cmap, interpolation=plot_interpolation,\n",
    "          vmin = color_min, vmax = color_max)\n",
    "ax13.grid(False)\n",
    "ax13.xaxis.set_visible(True)\n",
    "ax13.tick_params(labelsize=8)\n",
    "ax13.set_yticks([]) \n",
    "ax13.set_xticks([]) \n",
    "\n",
    "\n",
    "\n",
    "bounds = [0, 0.5, 1]\n",
    "cax2 = f.add_axes([0.9, 0.15, 0.05, 0.2], aspect=30)\n",
    "cbar = plt.colorbar(im2, cax=cax2, ticks = bounds)\n",
    "cbar.ax.set_yticklabels(['0', '0.5', '1'])  # vertically oriented colorbar\n",
    "cbar.ax.tick_params(labelsize=15)\n",
    "\n",
    "\n",
    "f.subplots_adjust(hspace=0.02)\n",
    "f.subplots_adjust(wspace=0.02)\n",
    "\n",
    "\n",
    "#name = \"BTB_missing_exp_inducing\"+ inducing + str(cmap)\n",
    "#f.savefig(name + '.png')\n",
    "\n",
    "plt.show()"
   ]
  },
  {
   "cell_type": "markdown",
   "metadata": {},
   "source": [
    "# Plot missing setting for paper"
   ]
  },
  {
   "cell_type": "code",
   "execution_count": 50,
   "metadata": {},
   "outputs": [
    {
     "name": "stdout",
     "output_type": "stream",
     "text": [
      "('colormax', 30.759510040283203)\n",
      "('color_min', 13.187155723571777)\n"
     ]
    },
    {
     "data": {
      "image/png": "[encoded data removed]",
      "text/plain": [
       "<Figure size 720x561.6 with 15 Axes>"
      ]
     },
     "metadata": {
      "needs_background": "light"
     },
     "output_type": "display_data"
    }
   ],
   "source": [
    "### cmap = 'jet'\n",
    "cmap = \"gist_heat_r\"\n",
    "\n",
    "inducing = 'ind'\n",
    "f, ((ax01,ax02,ax03,ax04),(ax3, ax5, ax7, ax9),(ax10,ax11,ax12,ax13)) = plt.subplots(3, 4, sharex = 'col', sharey = 'row')\n",
    "\n",
    "xmin, xmax, ymin, ymax = np.amin(data_final_with_na[fold,:,1]), np.amax(data_final_with_na[fold,:,1]), np.amin(data_final_with_na[fold,:,0]), np.amax(data_final_with_na[fold,:,0])\n",
    "extent = xmin, xmax, ymin, ymax\n",
    "\n",
    "f.set_figheight(7.8)\n",
    "f.set_figwidth(10)\n",
    "\n",
    "\n",
    "color_max = np.amax(((((outputs[:,0].reshape(N,N))*cell_inside)[~np.isnan(outputs[:,0].reshape(N,N)*cell_inside)],\n",
    "                                    (outputs[:,1].reshape(N,N)*cell_inside)[~np.isnan(outputs[:,1].reshape(N,N)*cell_inside)],\n",
    "                                    (outputs[:,2].reshape(N,N)*cell_inside)[~np.isnan(outputs[:,2].reshape(N,N)*cell_inside)],\n",
    "                                    (outputs[:,3].reshape(N,N)*cell_inside)[~np.isnan(outputs[:,3].reshape(N,N)*cell_inside)])))\n",
    "\n",
    "color_min = np.amin((((outputs[:,0].reshape(N,N)*cell_inside)[~np.isnan(outputs[:,0].reshape(N,N)*cell_inside)],\n",
    "                                    (outputs[:,1].reshape(N,N)*cell_inside)[~np.isnan(outputs[:,1].reshape(N,N)*cell_inside)],\n",
    "                                    (outputs[:,2].reshape(N,N)*cell_inside)[~np.isnan(outputs[:,2].reshape(N,N)*cell_inside)],\n",
    "                                    (outputs[:,3].reshape(N,N)*cell_inside)[~np.isnan(outputs[:,3].reshape(N,N)*cell_inside)])))\n",
    "color_min = color_min - 0.5\n",
    "\n",
    "masked_array1 = np.ma.array(na_task1, mask=np.isnan(outputs[:,0].reshape(N,N)))\n",
    "masked_array2 = np.ma.array(na_task2, mask=np.isnan(outputs[:,1].reshape(N,N)))\n",
    "masked_array3 = np.ma.array(na_task3, mask=np.isnan(outputs[:,2].reshape(N,N)))\n",
    "masked_array4 = np.ma.array(na_task4, mask=np.isnan(outputs[:,3].reshape(N,N)))\n",
    "\n",
    "\n",
    "#### DATA\n",
    "\n",
    "ax01.imshow(outputs[:,0].reshape(N,N)*cell_inside, \n",
    "                 aspect = 'auto', cmap=cmap, interpolation=plot_interpolation, vmin = color_min, vmax = (color_max),\n",
    "          extent=extent)\n",
    "\n",
    "#ax01.imshow(masked_array1, interpolation='nearest', cmap = cmap1, alpha = transparency,\n",
    "#          extent=extent)\n",
    "\n",
    "ax01.set_yticks([]) \n",
    "ax01.set_xticks([]) \n",
    "ax01.set_title('GT 9', size=15)\n",
    "#ax01.set_ylabel('Training obs.', fontweight=\"bold\")\n",
    "\n",
    "\n",
    "\n",
    "ax02.imshow(outputs[:,1].reshape(N,N)*cell_inside, \n",
    "                 aspect = 'auto', cmap=cmap, interpolation=plot_interpolation, vmin = color_min, vmax = (color_max),\n",
    "          extent=extent)\n",
    "\n",
    "#ax02.imshow(masked_array2, interpolation='nearest', cmap = cmap1, alpha = transparency,\n",
    " #         extent=extent)\n",
    "# ax2.spines['top'].set_visible(False)\n",
    "# ax2.spines['right'].set_visible(False)\n",
    "ax02.set_yticks([]) \n",
    "ax02.set_xticks([]) \n",
    "#ax2.title.set_text('GT 12')\n",
    "ax02.set_title('GT 12', size=15)\n",
    "\n",
    "\n",
    "ax03.imshow(outputs[:,2].reshape(N,N)*cell_inside, \n",
    "                 aspect = 'auto', cmap=cmap, interpolation=plot_interpolation, vmin = color_min, vmax = (color_max),\n",
    "          extent=extent)\n",
    "\n",
    "#ax03.imshow(masked_array3, interpolation='nearest', cmap = cmap1, alpha = transparency,\n",
    " #         extent=extent)\n",
    "# ax3.spines['top'].set_visible(False)\n",
    "# ax3.spines['right'].set_visible(False)\n",
    "ax03.set_yticks([]) \n",
    "ax03.set_xticks([]) \n",
    "#ax3.title.set_text('GT 15')\n",
    "ax03.set_title('GT 15', size=15)\n",
    "\n",
    "\n",
    "\n",
    "img = ax04.imshow(outputs[:,3].reshape(N,N)*cell_inside, \n",
    "                 aspect = 'auto', cmap=cmap, interpolation=plot_interpolation, vmin = color_min, vmax = (color_max),\n",
    "          extent=extent)\n",
    "\n",
    "#ax04.imshow(masked_array4, interpolation='nearest', cmap = cmap1, alpha = transparency,\n",
    "#          extent=extent)\n",
    "# ax4.spines['top'].set_visible(False)\n",
    "# ax4.spines['right'].set_visible(False)\n",
    "\n",
    "ax04.set_yticks([]) \n",
    "ax04.set_xticks([]) \n",
    "ax04.set_title('GT 20', size=15)\n",
    "# ax4.title.set_text('GT 20', size=20)\n",
    "\n",
    "\n",
    "#### MT predictions\n",
    "\n",
    "bounds = [0, 6.5, 13]\n",
    "cax = f.add_axes([0.9, 0.65, 0.05, 0.2], aspect=30)\n",
    "cbar = plt.colorbar(img, cax=cax, ticks = bounds)\n",
    "cbar.ax.set_yticklabels(['0', '6.5', '13'])  # vertically oriented colorbar\n",
    "cbar.ax.tick_params(labelsize=15)\n",
    "\n",
    "\n",
    "color_max = np.amax((np.concatenate((MT_pred_vector[fold,:,0].reshape(N_all,)[~np.isnan(MT_pred_vector[fold,:,0].reshape(N_all,))],\n",
    "                                    MT_pred_vector[fold,:,1].reshape(N_all,)[~np.isnan(MT_pred_vector[fold,:,1].reshape(N_all,))],\n",
    "                                    MT_pred_vector[fold,:,2].reshape(N_all,)[~np.isnan(MT_pred_vector[fold,:,2].reshape(N_all,))],\n",
    "                                    MT_pred_vector[fold,:,3].reshape(N_all,)[~np.isnan(MT_pred_vector[fold,:,3].reshape(N_all,))]))))\n",
    "\n",
    "color_min = np.amin((np.concatenate((MT_pred_vector[fold,:,0].reshape(N_all,)[~np.isnan(MT_pred_vector[fold,:,0].reshape(N_all,))],\n",
    "                                    MT_pred_vector[fold,:,1].reshape(N_all,)[~np.isnan(MT_pred_vector[fold,:,1].reshape(N_all,))],\n",
    "                                    MT_pred_vector[fold,:,2].reshape(N_all,)[~np.isnan(MT_pred_vector[fold,:,2].reshape(N_all,))],\n",
    "                                    MT_pred_vector[fold,:,3].reshape(N_all,)[~np.isnan(MT_pred_vector[fold,:,3].reshape(N_all,))]))))\n",
    "\n",
    "print('colormax', color_max)\n",
    "print('color_min', color_min)\n",
    "color_min = color_min - 0.2\n",
    "im1 = ax3.imshow(MT_pred_vector[fold,:,0].reshape(64,64)* cell_inside, extent=extent, aspect = 'auto', cmap=cmap, interpolation=plot_interpolation,\n",
    "          vmin = color_min, vmax = color_max)\n",
    "ax3.grid(False)\n",
    "ax3.xaxis.set_visible(True)\n",
    "ax3.tick_params(labelsize=8)\n",
    "#ax3.title.set_text('GT 9')\n",
    "ax3.set_yticks([]) \n",
    "ax3.set_xticks([]) \n",
    "ax3.set_ylabel('MCPM', fontweight=\"bold\")\n",
    "\n",
    "\n",
    "\n",
    "\n",
    "ax5.imshow(MT_pred_vector[fold,:,1].reshape(64,64)* cell_inside, extent=extent, \n",
    "           aspect = 'auto', cmap=cmap, interpolation=plot_interpolation,\n",
    "          vmin = color_min, vmax = color_max)\n",
    "ax5.grid(False)\n",
    "ax5.xaxis.set_visible(True)\n",
    "ax5.tick_params(labelsize=8)\n",
    "#ax5.title.set_text('GT 12')\n",
    "ax5.set_yticks([]) \n",
    "ax5.set_xticks([]) \n",
    "\n",
    "\n",
    "\n",
    "\n",
    "ax7.imshow(MT_pred_vector[fold,:,2].reshape(64,64)* cell_inside, extent=extent, \n",
    "           aspect = 'auto', cmap=cmap, interpolation=plot_interpolation,\n",
    "          vmin = color_min, vmax = color_max)\n",
    "ax7.grid(False)\n",
    "ax7.xaxis.set_visible(True)\n",
    "ax7.tick_params(labelsize=8)\n",
    "#ax7.title.set_text('GT 15')\n",
    "ax7.set_yticks([]) \n",
    "ax7.set_xticks([]) \n",
    "\n",
    "\n",
    "\n",
    "ax9.imshow(MT_pred_vector[fold,:,3].reshape(64,64)* cell_inside, extent=extent, \n",
    "           aspect = 'auto', cmap=cmap, interpolation=plot_interpolation,\n",
    "          vmin = color_min, vmax = color_max)\n",
    "ax9.grid(False)\n",
    "ax9.xaxis.set_visible(True)\n",
    "ax9.tick_params(labelsize=8)\n",
    "#ax9.title.set_text('GT 20')\n",
    "ax9.set_yticks([]) \n",
    "ax9.set_xticks([]) \n",
    "\n",
    "\n",
    "bounds = [color_min, (color_max-color_min)/2, color_max]\n",
    "cax2 = f.add_axes([0.9, 0.40, 0.05, 0.2], aspect=30)\n",
    "cbar = plt.colorbar(im1, cax=cax2, ticks = bounds)\n",
    "cbar.ax.set_yticklabels(['0', '2', '4'])  # vertically oriented colorbar\n",
    "cbar.ax.tick_params(labelsize=15)\n",
    "\n",
    "#### Predictions ST\n",
    "\n",
    "color_max = np.amax((np.concatenate((posterior_mean[fold,:,0].reshape(N_all,)[~np.isnan(posterior_mean[fold,:,0].reshape(N_all,))],\n",
    "                                    posterior_mean[fold,:,1].reshape(N_all,)[~np.isnan(posterior_mean[fold,:,1].reshape(N_all,))],\n",
    "                                    posterior_mean[fold,:,2].reshape(N_all,)[~np.isnan(posterior_mean[fold,:,2].reshape(N_all,))],\n",
    "                                    posterior_mean[fold,:,3].reshape(N_all,)[~np.isnan(posterior_mean[fold,:,3].reshape(N_all,))]))))\n",
    "\n",
    "color_min = np.amin((np.concatenate((posterior_mean[fold,:,0].reshape(N_all,)[~np.isnan(posterior_mean[fold,:,0].reshape(N_all,))],\n",
    "                                    posterior_mean[fold,:,1].reshape(N_all,)[~np.isnan(posterior_mean[fold,:,1].reshape(N_all,))],\n",
    "                                    posterior_mean[fold,:,2].reshape(N_all,)[~np.isnan(posterior_mean[fold,:,2].reshape(N_all,))],\n",
    "                                    posterior_mean[fold,:,3].reshape(N_all,)[~np.isnan(posterior_mean[fold,:,3].reshape(N_all,))]))))\n",
    "\n",
    "color_min = color_min - 0.2\n",
    "im2 = ax10.imshow(posterior_mean[fold,:,0].reshape(N,N)* cell_inside, \n",
    "                  extent=extent, aspect = 'auto', cmap=cmap, interpolation=plot_interpolation,\n",
    "                  vmin = color_min, vmax = color_max)\n",
    "ax10.grid(False)\n",
    "ax10.xaxis.set_visible(True)\n",
    "ax10.tick_params(labelsize=8)\n",
    "ax10.set_yticks([]) \n",
    "ax10.set_xticks([]) \n",
    "ax10.set_ylabel('ICM', fontweight=\"bold\")\n",
    "\n",
    "\n",
    "ax11.imshow(posterior_mean[fold,:,1].reshape(N,N)* cell_inside, extent=extent, aspect = 'auto', cmap=cmap, interpolation=plot_interpolation,\n",
    "          vmin = color_min, vmax = color_max)\n",
    "ax11.grid(False)\n",
    "ax11.xaxis.set_visible(True)\n",
    "ax11.tick_params(labelsize=8)\n",
    "ax11.set_yticks([]) \n",
    "ax11.set_xticks([]) \n",
    "\n",
    "\n",
    "\n",
    "ax12.imshow(posterior_mean[fold,:,2].reshape(N,N)* cell_inside, extent=extent, aspect = 'auto', cmap=cmap, interpolation=plot_interpolation,\n",
    "          vmin = color_min, vmax = color_max)\n",
    "ax12.grid(False)\n",
    "ax12.xaxis.set_visible(True)\n",
    "ax12.tick_params(labelsize=8)\n",
    "ax12.set_yticks([]) \n",
    "ax12.set_xticks([]) \n",
    "\n",
    "\n",
    "ax13.imshow(posterior_mean[fold,:,3].reshape(N,N)* cell_inside, extent=extent, aspect = 'auto', cmap=cmap, interpolation=plot_interpolation,\n",
    "          vmin = color_min, vmax = color_max)\n",
    "ax13.grid(False)\n",
    "ax13.xaxis.set_visible(True)\n",
    "ax13.tick_params(labelsize=8)\n",
    "ax13.set_yticks([]) \n",
    "ax13.set_xticks([]) \n",
    "\n",
    "\n",
    "\n",
    "bounds = [0, 1.5, 3.39]\n",
    "cax2 = f.add_axes([0.9, 0.15, 0.05, 0.2], aspect=30)\n",
    "cbar = plt.colorbar(im2, cax=cax2, ticks = bounds)\n",
    "cbar.ax.set_yticklabels(['0', '1.7', '3.4'])  # vertically oriented colorbar\n",
    "cbar.ax.tick_params(labelsize=15)\n",
    "\n",
    "\n",
    "f.subplots_adjust(hspace=0.02)\n",
    "f.subplots_adjust(wspace=0.02)\n",
    "\n",
    "\n",
    "#name = \"BTB_missing_exp_inducing_intensities_LGCPN_ICM\"+ inducing + str(cmap)\n",
    "#f.savefig(name + '.png')\n",
    "\n",
    "plt.show()"
   ]
  },
  {
   "cell_type": "code",
   "execution_count": 51,
   "metadata": {},
   "outputs": [],
   "source": [
    "task = 3"
   ]
  },
  {
   "cell_type": "code",
   "execution_count": 53,
   "metadata": {},
   "outputs": [
    {
     "data": {
      "image/png": "[encoded data removed]",
      "text/plain": [
       "<Figure size 720x561.6 with 15 Axes>"
      ]
     },
     "metadata": {
      "needs_background": "light"
     },
     "output_type": "display_data"
    }
   ],
   "source": [
    "### cmap = 'jet'\n",
    "cmap = \"gist_heat_r\"\n",
    "\n",
    "inducing = 'ind'\n",
    "f, ((ax01,ax02,ax03,ax04),(ax3, ax5, ax7, ax9),(ax10,ax11,ax12,ax13)) = plt.subplots(3, 4, sharex = 'col', sharey = 'row')\n",
    "\n",
    "xmin, xmax, ymin, ymax = np.amin(data_final_with_na[fold,:,1]), np.amax(data_final_with_na[fold,:,1]), np.amin(data_final_with_na[fold,:,0]), np.amax(data_final_with_na[fold,:,0])\n",
    "extent = xmin, xmax, ymin, ymax\n",
    "\n",
    "f.set_figheight(7.8)\n",
    "f.set_figwidth(10)\n",
    "\n",
    "\n",
    "color_max = np.amax(((((outputs[:,0].reshape(N,N))*cell_inside)[~np.isnan(outputs[:,0].reshape(N,N)*cell_inside)],\n",
    "                                    (outputs[:,1].reshape(N,N)*cell_inside)[~np.isnan(outputs[:,1].reshape(N,N)*cell_inside)],\n",
    "                                    (outputs[:,2].reshape(N,N)*cell_inside)[~np.isnan(outputs[:,2].reshape(N,N)*cell_inside)],\n",
    "                                    (outputs[:,3].reshape(N,N)*cell_inside)[~np.isnan(outputs[:,3].reshape(N,N)*cell_inside)])))\n",
    "\n",
    "color_min = np.amin((((outputs[:,0].reshape(N,N)*cell_inside)[~np.isnan(outputs[:,0].reshape(N,N)*cell_inside)],\n",
    "                                    (outputs[:,1].reshape(N,N)*cell_inside)[~np.isnan(outputs[:,1].reshape(N,N)*cell_inside)],\n",
    "                                    (outputs[:,2].reshape(N,N)*cell_inside)[~np.isnan(outputs[:,2].reshape(N,N)*cell_inside)],\n",
    "                                    (outputs[:,3].reshape(N,N)*cell_inside)[~np.isnan(outputs[:,3].reshape(N,N)*cell_inside)])))\n",
    "color_min = color_min - 0.5\n",
    "\n",
    "masked_array1 = np.ma.array(na_task1, mask=np.isnan(outputs[:,0].reshape(N,N)))\n",
    "masked_array2 = np.ma.array(na_task2, mask=np.isnan(outputs[:,1].reshape(N,N)))\n",
    "masked_array3 = np.ma.array(na_task3, mask=np.isnan(outputs[:,2].reshape(N,N)))\n",
    "masked_array4 = np.ma.array(na_task4, mask=np.isnan(outputs[:,3].reshape(N,N)))\n",
    "\n",
    "\n",
    "#### DATA\n",
    "\n",
    "ax01.imshow(outputs[:,0].reshape(N,N)*cell_inside, \n",
    "                 aspect = 'auto', cmap=cmap, interpolation=plot_interpolation, vmin = color_min, vmax = (color_max),\n",
    "          extent=extent)\n",
    "\n",
    "ax01.imshow(masked_array1, interpolation='nearest', cmap = cmap1, alpha = transparency,\n",
    "          extent=extent)\n",
    "\n",
    "ax01.set_yticks([]) \n",
    "ax01.set_xticks([]) \n",
    "ax01.set_title('GT 9', size=15)\n",
    "ax01.set_ylabel('Training obs.', fontweight=\"bold\")\n",
    "\n",
    "\n",
    "\n",
    "ax02.imshow(outputs[:,1].reshape(N,N)*cell_inside, \n",
    "                 aspect = 'auto', cmap=cmap, interpolation=plot_interpolation, vmin = color_min, vmax = (color_max),\n",
    "          extent=extent)\n",
    "\n",
    "ax02.imshow(masked_array2, interpolation='nearest', cmap = cmap1, alpha = transparency,\n",
    "          extent=extent)\n",
    "# ax2.spines['top'].set_visible(False)\n",
    "# ax2.spines['right'].set_visible(False)\n",
    "ax02.set_yticks([]) \n",
    "ax02.set_xticks([]) \n",
    "#ax2.title.set_text('GT 12')\n",
    "ax02.set_title('GT 12', size=15)\n",
    "\n",
    "\n",
    "ax03.imshow(outputs[:,2].reshape(N,N)*cell_inside, \n",
    "                 aspect = 'auto', cmap=cmap, interpolation=plot_interpolation, vmin = color_min, vmax = (color_max),\n",
    "          extent=extent)\n",
    "\n",
    "ax03.imshow(masked_array3, interpolation='nearest', cmap = cmap1, alpha = transparency,\n",
    "          extent=extent)\n",
    "# ax3.spines['top'].set_visible(False)\n",
    "# ax3.spines['right'].set_visible(False)\n",
    "ax03.set_yticks([]) \n",
    "ax03.set_xticks([]) \n",
    "#ax3.title.set_text('GT 15')\n",
    "ax03.set_title('GT 15', size=15)\n",
    "\n",
    "\n",
    "\n",
    "img = ax04.imshow(outputs[:,3].reshape(N,N)*cell_inside, \n",
    "                 aspect = 'auto', cmap=cmap, interpolation=plot_interpolation, vmin = color_min, vmax = (color_max),\n",
    "          extent=extent)\n",
    "\n",
    "ax04.imshow(masked_array4, interpolation='nearest', cmap = cmap1, alpha = transparency,\n",
    "          extent=extent)\n",
    "# ax4.spines['top'].set_visible(False)\n",
    "# ax4.spines['right'].set_visible(False)\n",
    "\n",
    "ax04.set_yticks([]) \n",
    "ax04.set_xticks([]) \n",
    "ax04.set_title('GT 20', size=15)\n",
    "# ax4.title.set_text('GT 20', size=20)\n",
    "\n",
    "bounds = [0, 6.5, 13.0]\n",
    "cax = f.add_axes([0.9, 0.65, 0.05, 0.2], aspect=30)\n",
    "cbar = plt.colorbar(img, cax=cax, ticks = bounds)\n",
    "cbar.ax.set_yticklabels(['0', '6.5', '13'])  # vertically oriented colorbar\n",
    "cbar.ax.tick_params(labelsize=15)\n",
    "\n",
    "\n",
    "#### MT predictions\n",
    "\n",
    "\n",
    "color_max = 1.0\n",
    "color_min = 0.0\n",
    "\n",
    "im1 = ax3.imshow(cp1_MTCP* cell_inside, extent=extent, aspect = 'auto', cmap=cmap, interpolation=plot_interpolation,\n",
    "          vmin = color_min, vmax = color_max)\n",
    "ax3.grid(False)\n",
    "ax3.xaxis.set_visible(True)\n",
    "ax3.tick_params(labelsize=8)\n",
    "#ax3.title.set_text('GT 9')\n",
    "ax3.set_yticks([]) \n",
    "ax3.set_xticks([]) \n",
    "ax3.set_ylabel('MCPM', fontweight=\"bold\")\n",
    "\n",
    "\n",
    "\n",
    "\n",
    "ax5.imshow(cp2_MTCP* cell_inside, extent=extent, \n",
    "           aspect = 'auto', cmap=cmap, interpolation=plot_interpolation,\n",
    "          vmin = color_min, vmax = color_max)\n",
    "ax5.grid(False)\n",
    "ax5.xaxis.set_visible(True)\n",
    "ax5.tick_params(labelsize=8)\n",
    "#ax5.title.set_text('GT 12')\n",
    "ax5.set_yticks([]) \n",
    "ax5.set_xticks([]) \n",
    "\n",
    "\n",
    "\n",
    "\n",
    "ax7.imshow(cp3_MTCP* cell_inside, extent=extent, \n",
    "           aspect = 'auto', cmap=cmap, interpolation=plot_interpolation,\n",
    "          vmin = color_min, vmax = color_max)\n",
    "ax7.grid(False)\n",
    "ax7.xaxis.set_visible(True)\n",
    "ax7.tick_params(labelsize=8)\n",
    "#ax7.title.set_text('GT 15')\n",
    "ax7.set_yticks([]) \n",
    "ax7.set_xticks([]) \n",
    "\n",
    "\n",
    "\n",
    "ax9.imshow(cp4_MTCP* cell_inside, extent=extent, \n",
    "           aspect = 'auto', cmap=cmap, interpolation=plot_interpolation,\n",
    "          vmin = color_min, vmax = color_max)\n",
    "ax9.grid(False)\n",
    "ax9.xaxis.set_visible(True)\n",
    "ax9.tick_params(labelsize=8)\n",
    "#ax9.title.set_text('GT 20')\n",
    "ax9.set_yticks([]) \n",
    "ax9.set_xticks([]) \n",
    "\n",
    "\n",
    "bounds = [0, 0.5, 1]\n",
    "cax2 = f.add_axes([0.9, 0.40, 0.05, 0.2], aspect=30)\n",
    "cbar = plt.colorbar(im1, cax=cax2, ticks = bounds)\n",
    "cbar.ax.set_yticklabels(['0', '0.5', '1.0'])  # vertically oriented colorbar\n",
    "cbar.ax.tick_params(labelsize=15)\n",
    "\n",
    "#### Predictions ST\n",
    "color_max = 1.0\n",
    "color_min = 0.0 -0.02\n",
    "\n",
    "im2 = ax10.imshow(cp1_ICM* cell_inside, \n",
    "                  extent=extent, aspect = 'auto', cmap=cmap, interpolation=plot_interpolation,\n",
    "                  vmin = color_min, vmax = color_max)\n",
    "ax10.grid(False)\n",
    "ax10.xaxis.set_visible(True)\n",
    "ax10.tick_params(labelsize=8)\n",
    "ax10.set_yticks([]) \n",
    "ax10.set_xticks([]) \n",
    "ax10.set_ylabel('ICM', fontweight=\"bold\")\n",
    "\n",
    "\n",
    "ax11.imshow(cp2_ICM* cell_inside, extent=extent, aspect = 'auto', cmap=cmap, interpolation=plot_interpolation,\n",
    "          vmin = color_min, vmax = color_max)\n",
    "ax11.grid(False)\n",
    "ax11.xaxis.set_visible(True)\n",
    "ax11.tick_params(labelsize=8)\n",
    "ax11.set_yticks([]) \n",
    "ax11.set_xticks([]) \n",
    "\n",
    "\n",
    "\n",
    "ax12.imshow(cp3_ICM* cell_inside, extent=extent, aspect = 'auto', cmap=cmap, interpolation=plot_interpolation,\n",
    "          vmin = color_min, vmax = color_max)\n",
    "ax12.grid(False)\n",
    "ax12.xaxis.set_visible(True)\n",
    "ax12.tick_params(labelsize=8)\n",
    "ax12.set_yticks([]) \n",
    "ax12.set_xticks([]) \n",
    "\n",
    "\n",
    "ax13.imshow(cp4_ICM* cell_inside, extent=extent, aspect = 'auto', cmap=cmap, interpolation=plot_interpolation,\n",
    "          vmin = color_min, vmax = color_max)\n",
    "ax13.grid(False)\n",
    "ax13.xaxis.set_visible(True)\n",
    "ax13.tick_params(labelsize=8)\n",
    "ax13.set_yticks([]) \n",
    "ax13.set_xticks([]) \n",
    "\n",
    "\n",
    "\n",
    "bounds = [0, 0.5, 1.0]\n",
    "cax2 = f.add_axes([0.9, 0.15, 0.05, 0.2], aspect=30)\n",
    "cbar = plt.colorbar(im2, cax=cax2, ticks = bounds)\n",
    "cbar.ax.set_yticklabels(['0', '0.5', '1.0'])  # vertically oriented colorbar\n",
    "cbar.ax.tick_params(labelsize=15)\n",
    "\n",
    "\n",
    "f.subplots_adjust(hspace=0.02)\n",
    "f.subplots_adjust(wspace=0.02)\n",
    "\n",
    "\n",
    "#name = \"BTB_missing_exp_intensity_LGCPN_ICM\"+ inducing + str(cmap)\n",
    "#f.savefig(name + '.png')\n",
    "\n",
    "plt.show()"
   ]
  },
  {
   "cell_type": "code",
   "execution_count": null,
   "metadata": {},
   "outputs": [],
   "source": []
  },
  {
   "cell_type": "markdown",
   "metadata": {},
   "source": [
    "# Alternative computation of NLPL"
   ]
  },
  {
   "cell_type": "code",
   "execution_count": 58,
   "metadata": {},
   "outputs": [],
   "source": [
    "## Use this if you want to compute the nlpl values by sampling from the posterior distributions"
   ]
  },
  {
   "cell_type": "code",
   "execution_count": 56,
   "metadata": {},
   "outputs": [],
   "source": [
    "# Import outputs with missing data\n",
    "n_folds = 16\n",
    "method = 'MT'\n",
    "prior_mixing_weights = 'Normal'\n",
    "missing_exp = True\n",
    "data_final_with_na = np.loadtxt('../Data/btb_experiments/' + 'data_final_with_na_'+ prior_mixing_weights + \"_\" + method+ \"_\" + str(missing_exp)).reshape(n_folds, N_all, n_tasks + inputs_dimension)\n"
   ]
  },
  {
   "cell_type": "code",
   "execution_count": 57,
   "metadata": {},
   "outputs": [
    {
     "ename": "ValueError",
     "evalue": "size is not compatible with inputs",
     "output_type": "error",
     "traceback": [
      "\u001b[0;31m---------------------------------------------------------------------------\u001b[0m",
      "\u001b[0;31mValueError\u001b[0m                                Traceback (most recent call last)",
      "\u001b[0;32m<ipython-input-57-905b03c9034b>\u001b[0m in \u001b[0;36m<module>\u001b[0;34m()\u001b[0m\n\u001b[1;32m     18\u001b[0m         \u001b[0mlatent_fun_sample\u001b[0m\u001b[0;34m[\u001b[0m\u001b[0mfold\u001b[0m\u001b[0;34m]\u001b[0m \u001b[0;34m=\u001b[0m \u001b[0mnp\u001b[0m\u001b[0;34m.\u001b[0m\u001b[0mrandom\u001b[0m\u001b[0;34m.\u001b[0m\u001b[0mnormal\u001b[0m\u001b[0;34m(\u001b[0m\u001b[0mlatent_means\u001b[0m\u001b[0;34m,\u001b[0m \u001b[0mnp\u001b[0m\u001b[0;34m.\u001b[0m\u001b[0msqrt\u001b[0m\u001b[0;34m(\u001b[0m\u001b[0mlatent_vars\u001b[0m\u001b[0;34m)\u001b[0m\u001b[0;34m,\u001b[0m \u001b[0msize\u001b[0m \u001b[0;34m=\u001b[0m \u001b[0;34m(\u001b[0m\u001b[0mn_samples\u001b[0m\u001b[0;34m,\u001b[0m \u001b[0mN_all\u001b[0m\u001b[0;34m,\u001b[0m \u001b[0mn_latent\u001b[0m\u001b[0;34m)\u001b[0m\u001b[0;34m)\u001b[0m\u001b[0;34m\u001b[0m\u001b[0m\n\u001b[1;32m     19\u001b[0m         \u001b[0mnp\u001b[0m\u001b[0;34m.\u001b[0m\u001b[0mrandom\u001b[0m\u001b[0;34m.\u001b[0m\u001b[0mseed\u001b[0m\u001b[0;34m(\u001b[0m\u001b[0;36m2\u001b[0m\u001b[0;34m)\u001b[0m\u001b[0;34m\u001b[0m\u001b[0m\n\u001b[0;32m---> 20\u001b[0;31m         \u001b[0mweights_sample\u001b[0m\u001b[0;34m[\u001b[0m\u001b[0mfold\u001b[0m\u001b[0;34m]\u001b[0m \u001b[0;34m=\u001b[0m \u001b[0mnp\u001b[0m\u001b[0;34m.\u001b[0m\u001b[0mrandom\u001b[0m\u001b[0;34m.\u001b[0m\u001b[0mnormal\u001b[0m\u001b[0;34m(\u001b[0m\u001b[0mmeans_w\u001b[0m\u001b[0;34m,\u001b[0m \u001b[0mnp\u001b[0m\u001b[0;34m.\u001b[0m\u001b[0msqrt\u001b[0m\u001b[0;34m(\u001b[0m\u001b[0mvars_w\u001b[0m\u001b[0;34m)\u001b[0m\u001b[0;34m,\u001b[0m \u001b[0msize\u001b[0m \u001b[0;34m=\u001b[0m \u001b[0;34m(\u001b[0m\u001b[0mn_samples\u001b[0m\u001b[0;34m,\u001b[0m \u001b[0mn_latent\u001b[0m\u001b[0;34m,\u001b[0m \u001b[0mn_tasks\u001b[0m\u001b[0;34m)\u001b[0m\u001b[0;34m)\u001b[0m\u001b[0;34m\u001b[0m\u001b[0m\n\u001b[0m",
      "\u001b[0;32mmtrand.pyx\u001b[0m in \u001b[0;36mmtrand.RandomState.normal\u001b[0;34m()\u001b[0m\n",
      "\u001b[0;32mmtrand.pyx\u001b[0m in \u001b[0;36mmtrand.cont2_array\u001b[0;34m()\u001b[0m\n",
      "\u001b[0;31mValueError\u001b[0m: size is not compatible with inputs"
     ]
    }
   ],
   "source": [
    "# Alternative computation of NLPL for MT\n",
    "n_samples = 1\n",
    "intensity_sample = np.zeros((n_folds, n_samples, N_all, n_tasks))\n",
    "latent_fun_sample = np.zeros((n_folds, n_samples, N_all, n_latent))\n",
    "weights_sample = np.zeros((n_folds, n_samples, n_latent, n_tasks))\n",
    "nlpl_fold_task = np.zeros((n_folds, n_samples, n_tasks))\n",
    "first_std = np.zeros((n_folds, n_tasks))\n",
    "first_mean = np.zeros((n_folds, n_tasks))\n",
    "std = np.zeros(( n_tasks))\n",
    "mean = np.zeros((n_tasks))\n",
    "for fold in xrange(n_folds):\n",
    "    for task in xrange(n_tasks):\n",
    "        latent_means = latent_means_MT_Normal[fold]    \n",
    "        latent_vars = latent_vars_MT_Normal[fold]\n",
    "        means_w = means_w_MT_Normal[fold]\n",
    "        vars_w = vars_w_MT_Normal[fold]\n",
    "        np.random.seed(1)\n",
    "        latent_fun_sample[fold] = np.random.normal(latent_means, np.sqrt(latent_vars), size = (n_samples, N_all, n_latent)) \n",
    "        np.random.seed(2)\n",
    "        weights_sample[fold] = np.random.normal(means_w, np.sqrt(vars_w), size = (n_samples, n_latent, n_tasks))\n"
   ]
  },
  {
   "cell_type": "code",
   "execution_count": null,
   "metadata": {},
   "outputs": [],
   "source": []
  },
  {
   "cell_type": "code",
   "execution_count": 62,
   "metadata": {},
   "outputs": [
    {
     "ename": "IndexError",
     "evalue": "index 1 is out of bounds for axis 0 with size 1",
     "output_type": "error",
     "traceback": [
      "\u001b[0;31m---------------------------------------------------------------------------\u001b[0m",
      "\u001b[0;31mIndexError\u001b[0m                                Traceback (most recent call last)",
      "\u001b[0;32m<ipython-input-62-8bc69e631f07>\u001b[0m in \u001b[0;36m<module>\u001b[0;34m()\u001b[0m\n\u001b[1;32m      1\u001b[0m \u001b[0;32mfor\u001b[0m \u001b[0mfold\u001b[0m \u001b[0;32min\u001b[0m \u001b[0mxrange\u001b[0m\u001b[0;34m(\u001b[0m\u001b[0mn_folds\u001b[0m\u001b[0;34m)\u001b[0m\u001b[0;34m:\u001b[0m\u001b[0;34m\u001b[0m\u001b[0m\n\u001b[1;32m      2\u001b[0m     \u001b[0;32mfor\u001b[0m \u001b[0mi\u001b[0m \u001b[0;32min\u001b[0m \u001b[0mxrange\u001b[0m\u001b[0;34m(\u001b[0m\u001b[0mn_samples\u001b[0m\u001b[0;34m)\u001b[0m\u001b[0;34m:\u001b[0m\u001b[0;34m\u001b[0m\u001b[0m\n\u001b[0;32m----> 3\u001b[0;31m         \u001b[0mintensity_sample\u001b[0m\u001b[0;34m[\u001b[0m\u001b[0mfold\u001b[0m\u001b[0;34m,\u001b[0m \u001b[0mi\u001b[0m\u001b[0;34m]\u001b[0m \u001b[0;34m=\u001b[0m \u001b[0mnp\u001b[0m\u001b[0;34m.\u001b[0m\u001b[0mexp\u001b[0m\u001b[0;34m(\u001b[0m\u001b[0mnp\u001b[0m\u001b[0;34m.\u001b[0m\u001b[0mtranspose\u001b[0m\u001b[0;34m(\u001b[0m\u001b[0mnp\u001b[0m\u001b[0;34m.\u001b[0m\u001b[0mdot\u001b[0m\u001b[0;34m(\u001b[0m\u001b[0mnp\u001b[0m\u001b[0;34m.\u001b[0m\u001b[0mtranspose\u001b[0m\u001b[0;34m(\u001b[0m\u001b[0mweights_sample\u001b[0m\u001b[0;34m[\u001b[0m\u001b[0mfold\u001b[0m\u001b[0;34m,\u001b[0m \u001b[0mi\u001b[0m\u001b[0;34m]\u001b[0m\u001b[0;34m)\u001b[0m\u001b[0;34m,\u001b[0m \u001b[0mnp\u001b[0m\u001b[0;34m.\u001b[0m\u001b[0mtranspose\u001b[0m\u001b[0;34m(\u001b[0m\u001b[0mlatent_fun_sample\u001b[0m\u001b[0;34m[\u001b[0m\u001b[0mfold\u001b[0m\u001b[0;34m,\u001b[0m \u001b[0mi\u001b[0m\u001b[0;34m]\u001b[0m\u001b[0;34m)\u001b[0m\u001b[0;34m)\u001b[0m\u001b[0;34m)\u001b[0m \u001b[0;34m+\u001b[0m \u001b[0moffsets_MT_Normal\u001b[0m\u001b[0;34m[\u001b[0m\u001b[0mfold\u001b[0m\u001b[0;34m]\u001b[0m\u001b[0;34m)\u001b[0m\u001b[0;34m\u001b[0m\u001b[0m\n\u001b[0m\u001b[1;32m      4\u001b[0m \u001b[0;34m\u001b[0m\u001b[0m\n",
      "\u001b[0;31mIndexError\u001b[0m: index 1 is out of bounds for axis 0 with size 1"
     ]
    }
   ],
   "source": [
    "for fold in xrange(n_folds):\n",
    "    for i in xrange(n_samples):\n",
    "        intensity_sample[fold, i] = np.exp(np.transpose(np.dot(np.transpose(weights_sample[fold, i]), np.transpose(latent_fun_sample[fold, i]))) + offsets_MT_Normal[fold])\n",
    "        "
   ]
  },
  {
   "cell_type": "code",
   "execution_count": 63,
   "metadata": {},
   "outputs": [
    {
     "name": "stderr",
     "output_type": "stream",
     "text": [
      "/home/virginia/.local/lib/python2.7/site-packages/numpy/core/_methods.py:140: RuntimeWarning: Degrees of freedom <= 0 for slice\n",
      "  keepdims=keepdims)\n",
      "/home/virginia/.local/lib/python2.7/site-packages/numpy/core/_methods.py:110: RuntimeWarning: invalid value encountered in true_divide\n",
      "  arrmean, rcount, out=arrmean, casting='unsafe', subok=False)\n",
      "/home/virginia/.local/lib/python2.7/site-packages/numpy/core/_methods.py:132: RuntimeWarning: invalid value encountered in double_scalars\n",
      "  ret = ret.dtype.type(ret / rcount)\n",
      "/home/virginia/.local/lib/python2.7/site-packages/numpy/core/fromnumeric.py:2920: RuntimeWarning: Mean of empty slice.\n",
      "  out=out, **kwargs)\n",
      "/home/virginia/.local/lib/python2.7/site-packages/numpy/core/_methods.py:85: RuntimeWarning: invalid value encountered in double_scalars\n",
      "  ret = ret.dtype.type(ret / rcount)\n",
      "/home/virginia/.local/lib/python2.7/site-packages/numpy/core/_methods.py:117: RuntimeWarning: invalid value encountered in subtract\n",
      "  x = asanyarray(arr - arrmean)\n"
     ]
    }
   ],
   "source": [
    "for fold in xrange(n_folds):\n",
    "    for i in xrange(n_samples):\n",
    "        for task in xrange(n_tasks):\n",
    "            fold_task_subset = data_final_with_na[fold,:,task+inputs_dimension]\n",
    "            #cond = np.isnan(fold_task_subset)\n",
    "\n",
    "            cond = np.logical_and(cell_inside, np.isnan(fold_task_subset).reshape(N,N)).reshape(N_all,1)[:,0]\n",
    "\n",
    "            true_counts =  outputs[cond,task]\n",
    "            pred_counts = intensity_sample[fold, i, :,task][cond]\n",
    "            if pred_counts.shape[0] == 0:\n",
    "                nlpl_fold_task[fold,i,task] = np.nan\n",
    "            else:\n",
    "                nlpl_fold_task[fold,i,task] = - np.sum(poisson.logpmf(true_counts, pred_counts))/pred_counts.shape[0]  \n",
    "\n",
    "for f in xrange(n_folds):\n",
    "    for t in xrange(n_tasks):\n",
    "#         print('f', f)\n",
    "#         print('t', t)\n",
    "        first_std[f,t] = np.std(nlpl_fold_task[f, :, t][~np.isnan(nlpl_fold_task[f, :, t])])\n",
    "#         print('first_std', first_std[f,t])\n",
    "        first_mean[f,t] = np.mean(nlpl_fold_task[f, :, t][~np.isnan(nlpl_fold_task[f, :, t])])\n",
    "#         print('first_mean', first_mean[f,t])\n",
    "        \n",
    "for t in xrange(n_tasks):\n",
    "    std[t] = np.std(first_mean[:,t][~np.isnan(first_mean[:,t])])/np.sqrt(n_folds)\n",
    "    mean[t] = np.mean(first_mean[:,t][~np.isnan(first_mean[:,t])])\n",
    "\n"
   ]
  },
  {
   "cell_type": "code",
   "execution_count": 67,
   "metadata": {},
   "outputs": [
    {
     "data": {
      "text/plain": [
       "array([nan, nan, nan, nan])"
      ]
     },
     "execution_count": 67,
     "metadata": {},
     "output_type": "execute_result"
    }
   ],
   "source": [
    "std"
   ]
  },
  {
   "cell_type": "code",
   "execution_count": 68,
   "metadata": {},
   "outputs": [
    {
     "data": {
      "text/plain": [
       "array([inf, inf, inf, inf])"
      ]
     },
     "execution_count": 68,
     "metadata": {},
     "output_type": "execute_result"
    }
   ],
   "source": [
    "mean"
   ]
  }
 ],
 "metadata": {
  "kernelspec": {
   "display_name": "Python 2",
   "language": "python",
   "name": "python2"
  },
  "language_info": {
   "codemirror_mode": {
    "name": "ipython",
    "version": 2
   },
   "file_extension": ".py",
   "mimetype": "text/x-python",
   "name": "python",
   "nbconvert_exporter": "python",
   "pygments_lexer": "ipython2",
   "version": "2.7.15"
  }
 },
 "nbformat": 4,
 "nbformat_minor": 2
}
