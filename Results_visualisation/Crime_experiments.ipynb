{
 "cells": [
  {
   "cell_type": "code",
   "execution_count": 31,
   "metadata": {},
   "outputs": [],
   "source": [
    "import matplotlib.pyplot as plt\n",
    "import numpy as np\n",
    "import scipy \n",
    "import random\n",
    "import math\n",
    "import csv\n",
    "from scipy.stats import poisson \n",
    "import matplotlib as mpl\n",
    "from matplotlib import colors as mpl_colors\n"
   ]
  },
  {
   "cell_type": "markdown",
   "metadata": {},
   "source": [
    "# Set the pars and import the data"
   ]
  },
  {
   "cell_type": "code",
   "execution_count": 32,
   "metadata": {},
   "outputs": [],
   "source": [
    "N_all = 1024\n",
    "N = 32\n",
    "n_tasks = 7\n",
    "n_latent = 4\n",
    "missing_exp = False\n",
    "epochs = 100\n",
    "plot_interpolation = \"None\"\n"
   ]
  },
  {
   "cell_type": "code",
   "execution_count": 33,
   "metadata": {},
   "outputs": [],
   "source": [
    "if missing_exp == True:\n",
    "    n_folds = 4\n",
    "    n_missing_values = 256\n",
    "else:\n",
    "    n_folds = 1\n",
    "    n_missing_values = 0"
   ]
  },
  {
   "cell_type": "code",
   "execution_count": 34,
   "metadata": {},
   "outputs": [],
   "source": [
    "results_paper = False\n",
    "if results_paper == True:\n",
    "    folder = 'Results_paper/'\n",
    "else:\n",
    "    folder = ''"
   ]
  },
  {
   "cell_type": "code",
   "execution_count": 35,
   "metadata": {},
   "outputs": [],
   "source": [
    "outputs = np.loadtxt('../Data/crime_experiments/outputs_crime')\n",
    "inputs = np.loadtxt('../Data/crime_experiments/inputs_crime')\n",
    "\n",
    "##### TO BE REDEFINED\n",
    "cell_inside = np.loadtxt('../Data/crime_experiments/cell_inside_ny')\n",
    "cell_inside = cell_inside.reshape(N,N)\n",
    "cell_inside[cell_inside == 0] = np.nan"
   ]
  },
  {
   "cell_type": "code",
   "execution_count": 36,
   "metadata": {},
   "outputs": [],
   "source": [
    "# Import outputs with missing data\n",
    "data_final_with_NOna = outputs"
   ]
  },
  {
   "cell_type": "code",
   "execution_count": 37,
   "metadata": {},
   "outputs": [],
   "source": [
    "crime_list_name = ['Burglary','Felony Assault','Grand Larceny', 'Grand Larceny of MV', 'Petit Larceny', \n",
    "                  'Petit Larceny of MV', 'Robbery']\n"
   ]
  },
  {
   "cell_type": "markdown",
   "metadata": {},
   "source": [
    "# Import the predictions for missing data exp"
   ]
  },
  {
   "cell_type": "code",
   "execution_count": 38,
   "metadata": {},
   "outputs": [],
   "source": [
    "method = 'MCPM'\n",
    "prior_mixing_weights = 'Normal'\n",
    "missing_exp = True \n",
    "inputs_dimension = 2\n",
    "n_folds = 4\n",
    "n_missing_values = N_all/4"
   ]
  },
  {
   "cell_type": "code",
   "execution_count": 39,
   "metadata": {},
   "outputs": [],
   "source": [
    "final_dataset_MT_Normal = np.load('../Data/crime_experiments/'+ folder + 'final_dataset_'+ prior_mixing_weights + \"_\" + method + \"_\" + str(missing_exp)+ \".npy\")\n",
    "latent_means_MT_Normal = np.load('../Data/crime_experiments/' + folder + 'latent_means_'+ prior_mixing_weights + \"_\" + method + \"_\" + str(missing_exp)+ \".npy\")\n",
    "latent_vars_MT_Normal = np.load('../Data/crime_experiments/' + folder + 'latent_variances_'+ prior_mixing_weights + \"_\" + method + \"_\" + str(missing_exp)+ \".npy\")\n",
    "means_w_MT_Normal = np.load('../Data/crime_experiments/' + folder + 'means_weights_'+ prior_mixing_weights + \"_\" + method + \"_\" + str(missing_exp)+ \".npy\")\n",
    "vars_w_MT_Normal = np.load('../Data/crime_experiments/' + folder + 'covars_weights_'+ prior_mixing_weights + \"_\" + method + \"_\" + str(missing_exp)+ \".npy\")\n",
    "offsets_MT_Normal = np.load('../Data/crime_experiments/' + folder + 'offsets_'+ prior_mixing_weights + \"_\" + method + \"_\" + str(missing_exp)+ \".npy\")\n",
    "\n",
    "cp_MCPM_Normal = np.zeros((N_all,n_tasks))\n",
    "for t in xrange(n_tasks):\n",
    "    cp_MCPM_Normal[:,t] = final_dataset_MT_Normal[0,:, t + 9]/np.sum(final_dataset_MT_Normal[0,:, 9:16], axis = 1)"
   ]
  },
  {
   "cell_type": "code",
   "execution_count": 42,
   "metadata": {},
   "outputs": [],
   "source": [
    "method = 'LGCP'\n",
    "prior_mixing_weights = 'Normal'\n",
    "missing_exp = True \n",
    "n_folds = 4\n",
    "n_missing_values = N_all/4\n",
    "\n",
    "final_dataset_ST_Normal = np.load('../Data/crime_experiments/'+ folder + 'final_dataset_'+ prior_mixing_weights + \"_\" + method + \"_\" + str(missing_exp)+ \".npy\")\n",
    "latent_means_ST_Normal = np.load('../Data/crime_experiments/' + folder + 'latent_means_'+ prior_mixing_weights + \"_\" + method + \"_\" + str(missing_exp)+ \".npy\")\n",
    "latent_vars_ST_Normal = np.load('../Data/crime_experiments/' + folder + 'latent_variances_'+ prior_mixing_weights + \"_\" + method + \"_\" + str(missing_exp)+ \".npy\")\n",
    "means_w_ST_Normal = np.load('../Data/crime_experiments/' + folder + 'means_weights_'+ prior_mixing_weights + \"_\" + method + \"_\" + str(missing_exp)+ \".npy\")\n",
    "vars_w_ST_Normal = np.load('../Data/crime_experiments/' + folder + 'covars_weights_'+ prior_mixing_weights + \"_\" + method + \"_\" + str(missing_exp)+ \".npy\")\n",
    "offsets_ST_Normal = np.load('../Data/crime_experiments/' + folder + 'offsets_'+ prior_mixing_weights + \"_\" + method + \"_\" + str(missing_exp)+ \".npy\")\n"
   ]
  },
  {
   "cell_type": "code",
   "execution_count": 77,
   "metadata": {},
   "outputs": [],
   "source": [
    "method = 'MCPM'\n",
    "prior_mixing_weights = 'GP'\n",
    "missing_exp = True \n",
    "inputs_dimension = 2\n",
    "n_folds = 4\n",
    "n_missing_values = N_all/4\n",
    "final_dataset_MT_GP = np.load('../Data/crime_experiments/'+ folder + 'final_dataset_'+ prior_mixing_weights + \"_\" + method + \"_\" + str(missing_exp)+ \".npy\")\n",
    "latent_means_MT_GP = np.load('../Data/crime_experiments/' + folder + 'latent_means_'+ prior_mixing_weights + \"_\" + method + \"_\" + str(missing_exp)+ \".npy\")\n",
    "latent_vars_MT_GP = np.load('../Data/crime_experiments/' + folder + 'latent_variances_'+ prior_mixing_weights + \"_\" + method + \"_\" + str(missing_exp)+ \".npy\")\n",
    "means_w_MT_GP = np.load('../Data/crime_experiments/' + folder + 'means_weights_'+ prior_mixing_weights + \"_\" + method + \"_\" + str(missing_exp)+ \".npy\")\n",
    "vars_w_MT_GP = np.load('../Data/crime_experiments/' + folder + 'covars_weights_'+ prior_mixing_weights + \"_\" + method + \"_\" + str(missing_exp)+ \".npy\")\n",
    "offsets_MT_GP = np.load('../Data/crime_experiments/' + folder + 'offsets_'+ prior_mixing_weights + \"_\" + method + \"_\" + str(missing_exp)+ \".npy\")\n"
   ]
  },
  {
   "cell_type": "markdown",
   "metadata": {},
   "source": [
    "# Plot crime data with missing NaN"
   ]
  },
  {
   "cell_type": "code",
   "execution_count": 78,
   "metadata": {},
   "outputs": [],
   "source": [
    "# Import outputs with missing data\n",
    "prior_mixing_weights = 'Normal'\n",
    "missing_exp = True\n",
    "inputs_dimension = 2\n",
    "data_final_with_na = np.loadtxt('../Data/crime_experiments/'+ folder + 'data_final_with_na_'+ prior_mixing_weights + \"_\" + 'MT'+ \"_\" + str(missing_exp)).reshape(n_folds, N_all, n_tasks + inputs_dimension)\n",
    "ytrain_non_missing_index = np.loadtxt('../Data/crime_experiments/ytrain_non_missing_index')\n"
   ]
  },
  {
   "cell_type": "code",
   "execution_count": 79,
   "metadata": {},
   "outputs": [],
   "source": [
    "# Plot missing locations\n",
    "# plt.imshow(ytrain_non_missing_index[:,1].reshape(32,32))\n",
    "# plt.show()"
   ]
  },
  {
   "cell_type": "code",
   "execution_count": 80,
   "metadata": {},
   "outputs": [],
   "source": [
    "fold = 0\n",
    "na_data = np.zeros((n_tasks, N, N))\n",
    "masked_array = np.zeros((n_tasks, N, N))\n",
    "im = [None] * n_tasks\n",
    "for t in xrange(n_tasks):\n",
    "    na_data[t] = data_final_with_na[fold,:,t+2].reshape(N,N)\n",
    "    na_data[t][~np.isnan(na_data[t])] =  0\n",
    "    na_data[t][np.isnan(na_data[t])] = 1\n",
    "    na_data[t][na_data[t] == 0] =  np.nan\n",
    "    \n",
    "    masked_array[t] = np.ma.array(na_data[t], mask=np.isnan(data_final_with_na[fold,:,t+2].reshape(N,N)))\n"
   ]
  },
  {
   "cell_type": "code",
   "execution_count": 81,
   "metadata": {},
   "outputs": [],
   "source": [
    "bounds = [None] * n_tasks\n",
    "for t in xrange(n_tasks):\n",
    "    bounds[t] = [0,np.max(data_final_with_NOna[:,t])/2, int(np.max(data_final_with_NOna[:,t]))]\n"
   ]
  },
  {
   "cell_type": "code",
   "execution_count": 82,
   "metadata": {},
   "outputs": [],
   "source": [
    "cell_inside = cell_inside.reshape(N,N)"
   ]
  },
  {
   "cell_type": "code",
   "execution_count": 83,
   "metadata": {},
   "outputs": [
    {
     "data": {
      "image/png": "[encoded data removed]",
      "text/plain": [
       "<Figure size 1296x216 with 14 Axes>"
      ]
     },
     "metadata": {
      "needs_background": "light"
     },
     "output_type": "display_data"
    }
   ],
   "source": [
    "cmap = \"gist_heat_r\"\n",
    "mpl.rcParams.update({'font.size': 9})\n",
    "size_cbar_ticks = 10\n",
    "transparency = 0.5\n",
    "shrink = 0.8\n",
    "pad=0.05\n",
    "cmap1 = mpl.cm.gray\n",
    "cmap1.set_bad('white',alpha = 0.0)\n",
    "\n",
    "xmin, xmax, ymin, ymax = np.amin(data_final_with_na[fold,:,1]), np.amax(data_final_with_na[fold,:,1]), np.amin(data_final_with_na[fold,:,0]), np.amax(data_final_with_na[fold,:,0])\n",
    "extent = xmin, xmax, ymin, ymax\n",
    "\n",
    "fig, axs = plt.subplots(1,7, sharex = 'col', sharey = 'row')\n",
    "fig.set_figheight(3)\n",
    "fig.set_figwidth(18)\n",
    "fig.subplots_adjust(hspace=0.2)\n",
    "fig.subplots_adjust(wspace=0.02)\n",
    "\n",
    "axs = axs.ravel()\n",
    "\n",
    "for i in range(7):\n",
    "\n",
    "        color_max = np.amax((((data_final_with_NOna[:,i])[~np.isnan(data_final_with_NOna[:,i])])))\n",
    "        color_min = np.amin((((data_final_with_NOna[:,i])[~np.isnan(data_final_with_NOna[:,i])])))\n",
    "\n",
    "        \n",
    "        im[i] = axs[i].imshow(data_final_with_NOna[:, i].reshape(N,N)*cell_inside, extent=extent, \n",
    "                 aspect = 'auto', cmap=cmap, interpolation='None',\n",
    "                 vmin = color_min, vmax = color_max)\n",
    "        \n",
    "        #axs[i].imshow(masked_array[i], interpolation='nearest', cmap = cmap1, alpha = transparency,\n",
    "          #extent=extent)\n",
    "        \n",
    "        axs[i].title.set_text(crime_list_name[i])\n",
    "        \n",
    "\n",
    "        b = bounds[i]\n",
    "        cbar = plt.colorbar(im[i], ax = axs[i],orientation=\"horizontal\", pad=pad, shrink = shrink, ticks = b)\n",
    "        cbar.ax.tick_params(labelsize=size_cbar_ticks)\n",
    "\n",
    "        axs[i].set_yticks([])\n",
    "        axs[i].set_xticks([])         \n",
    "\n",
    "    \n",
    "name = \"data_crime\" + str(cmap)\n",
    "fig.savefig(name + '.png')\n",
    "\n",
    "plt.show()"
   ]
  },
  {
   "cell_type": "markdown",
   "metadata": {},
   "source": [
    "# Plot with Normal prior"
   ]
  },
  {
   "cell_type": "code",
   "execution_count": 84,
   "metadata": {},
   "outputs": [
    {
     "data": {
      "image/png": "[encoded data removed]",
      "text/plain": [
       "<Figure size 1440x360 with 15 Axes>"
      ]
     },
     "metadata": {
      "needs_background": "light"
     },
     "output_type": "display_data"
    }
   ],
   "source": [
    "fold = 0\n",
    "task = 0\n",
    "mpl.rcParams.update({'font.size': 11})\n",
    "size_cbar_ticks = 15\n",
    "rescale = 20\n",
    "cmap = \"gist_heat_r\"\n",
    "inducing = 'ind'\n",
    "norm = mpl.colors.Normalize(vmin=-100.,vmax=100)\n",
    "\n",
    "extent = (np.amin(final_dataset_MT_Normal[fold,:,0]), \n",
    "          np.amax(final_dataset_MT_Normal[fold,:,0]), \n",
    "          np.amin(final_dataset_MT_Normal[fold,:,1]), \n",
    "          np.amax(final_dataset_MT_Normal[fold,:,1]))\n",
    "\n",
    "fig, axs = plt.subplots(2,7, sharex = 'col', sharey = 'row')\n",
    "fig.set_figheight(5)\n",
    "fig.set_figwidth(20)\n",
    "fig.subplots_adjust(hspace=0.02)\n",
    "fig.subplots_adjust(wspace=0.02)\n",
    "\n",
    "axs = axs.ravel()\n",
    "\n",
    "for i in range(14):\n",
    "\n",
    "    if i in range(0,7):\n",
    "\n",
    "\n",
    "        color_max = np.amax(final_dataset_MT_Normal[fold, :, i + 9])\n",
    "        color_min = np.amin(final_dataset_MT_Normal[fold, :, i + 9])\n",
    "        color_min = color_min - rescale\n",
    "\n",
    "        if i == 5:\n",
    "            color_max = np.amax(final_dataset_MT_Normal[fold, :, i + 9])\n",
    "            color_min = np.amin(final_dataset_MT_Normal[fold, :, i + 9])\n",
    "\n",
    "        axs[i].imshow(final_dataset_MT_Normal[fold, :, i + 9].reshape(N,N)*cell_inside, extent=extent, \n",
    "                 aspect = 'auto', cmap=cmap, interpolation='None',\n",
    "                 vmin = color_min, vmax = color_max)\n",
    "        axs[i].title.set_text(crime_list_name[i])\n",
    "\n",
    "        if i == 0:\n",
    "             axs[i].set_ylabel('Intensity', fontweight=\"bold\")\n",
    "\n",
    "    if i in range(7,14):\n",
    "\n",
    "        color_max = 1\n",
    "        color_min = 0 - 0.05\n",
    "        \n",
    "        axs[i].imshow(cp_LGCPN_Normal[:,i-7].reshape(N,N)*cell_inside, extent=extent, \n",
    "                      aspect = 'auto', cmap=cmap, interpolation='None',\n",
    "                      vmin = color_min, vmax = color_max)\n",
    "        if i == 13:\n",
    "            im = axs[i].imshow(cp_LGCPN_Normal[:,i-7].reshape(N,N)*cell_inside, extent=extent, \n",
    "                      aspect = 'auto', cmap=cmap, interpolation='None',\n",
    "                      vmin = color_min, vmax = color_max)\n",
    "            bounds = [0, 0.5, 1]\n",
    "            cax2 = fig.add_axes([0.88, 0.15, 0.05, 0.3], aspect=30)\n",
    "            cbar = plt.colorbar(im, cax=cax2, ticks = bounds)\n",
    "            cbar.ax.set_yticklabels(['0', '0.5', '1']) \n",
    "            cbar.ax.tick_params(labelsize=size_cbar_ticks)\n",
    "\n",
    "\n",
    "        if i == 7:\n",
    "             axs[i].set_ylabel('Cond. Prob', fontweight=\"bold\")\n",
    "\n",
    "    axs[i].grid(False)\n",
    "    axs[i].set_yticks([]) \n",
    "    axs[i].set_xticks([]) \n",
    "    axs[i].grid(False)\n",
    "    \n",
    "#name = \"Figure7_LGCPN\" + str(cmap)\n",
    "#fig.savefig(name + '.png')\n",
    "plt.show()"
   ]
  },
  {
   "cell_type": "markdown",
   "metadata": {
    "collapsed": true
   },
   "source": [
    "# Plot ST learning"
   ]
  },
  {
   "cell_type": "code",
   "execution_count": 85,
   "metadata": {},
   "outputs": [
    {
     "ename": "ValueError",
     "evalue": "cannot reshape array of size 23552 into shape (4,1024,23)",
     "output_type": "error",
     "traceback": [
      "\u001b[0;31m---------------------------------------------------------------------------\u001b[0m",
      "\u001b[0;31mValueError\u001b[0m                                Traceback (most recent call last)",
      "\u001b[0;32m<ipython-input-85-5401d4a74798>\u001b[0m in \u001b[0;36m<module>\u001b[0;34m()\u001b[0m\n\u001b[1;32m      1\u001b[0m \u001b[0mn_folds\u001b[0m \u001b[0;34m=\u001b[0m \u001b[0;36m4\u001b[0m\u001b[0;34m\u001b[0m\u001b[0m\n\u001b[1;32m      2\u001b[0m \u001b[0minputs_dimension\u001b[0m \u001b[0;34m=\u001b[0m \u001b[0;36m2\u001b[0m\u001b[0;34m\u001b[0m\u001b[0m\n\u001b[0;32m----> 3\u001b[0;31m \u001b[0mfinal_dataset_ST_Normal\u001b[0m \u001b[0;34m=\u001b[0m \u001b[0mfinal_dataset_ST_Normal\u001b[0m\u001b[0;34m.\u001b[0m\u001b[0mreshape\u001b[0m\u001b[0;34m(\u001b[0m\u001b[0mn_folds\u001b[0m\u001b[0;34m,\u001b[0m \u001b[0mN_all\u001b[0m\u001b[0;34m,\u001b[0m \u001b[0;34m(\u001b[0m\u001b[0mn_tasks\u001b[0m\u001b[0;34m*\u001b[0m\u001b[0;36m3\u001b[0m \u001b[0;34m+\u001b[0m \u001b[0minputs_dimension\u001b[0m\u001b[0;34m)\u001b[0m\u001b[0;34m)\u001b[0m\u001b[0;34m\u001b[0m\u001b[0m\n\u001b[0m",
      "\u001b[0;31mValueError\u001b[0m: cannot reshape array of size 23552 into shape (4,1024,23)"
     ]
    }
   ],
   "source": [
    "n_folds = 4\n",
    "inputs_dimension = 2\n",
    "final_dataset_ST_Normal = final_dataset_ST_Normal.reshape(n_folds, N_all, (n_tasks*3 + inputs_dimension))"
   ]
  },
  {
   "cell_type": "code",
   "execution_count": null,
   "metadata": {},
   "outputs": [],
   "source": [
    "# Conditional probabilities for ST"
   ]
  },
  {
   "cell_type": "code",
   "execution_count": 86,
   "metadata": {},
   "outputs": [],
   "source": [
    "fold = 0\n",
    "cp_LGCP_ST_Normal = np.zeros((N_all,n_tasks))\n",
    "for t in xrange(n_tasks):\n",
    "    cp_LGCP_ST_Normal[:,t] = final_dataset_ST_Normal[fold,:, t + 9]/np.sum(final_dataset_ST_Normal[fold,:, 9:16], axis = 1)"
   ]
  },
  {
   "cell_type": "code",
   "execution_count": null,
   "metadata": {},
   "outputs": [],
   "source": []
  },
  {
   "cell_type": "code",
   "execution_count": null,
   "metadata": {},
   "outputs": [],
   "source": []
  },
  {
   "cell_type": "code",
   "execution_count": 87,
   "metadata": {},
   "outputs": [
    {
     "data": {
      "image/png": "[encoded data removed]",
      "text/plain": [
       "<Figure size 1512x216 with 7 Axes>"
      ]
     },
     "metadata": {},
     "output_type": "display_data"
    }
   ],
   "source": [
    "mpl.rcParams.update({'font.size': 12.8})\n",
    "size_cbar_ticks = 15\n",
    "rescale = 20\n",
    "fold = 0\n",
    "cmap = \"gist_heat_r\"\n",
    "inducing = 'ind'\n",
    "norm = mpl.colors.Normalize(vmin=-100.,vmax=100)\n",
    "\n",
    "extent = (np.amin(final_dataset_ST_Normal[fold,:,0]), np.amax(final_dataset_ST_Normal[fold,:,0]), np.amin(final_dataset_ST_Normal[fold,:,1]), np.amax(final_dataset_ST_Normal[fold,:,1]))\n",
    "\n",
    "fig, axs = plt.subplots(1,7, sharex = 'col', sharey = 'row')\n",
    "fig.set_figheight(3)\n",
    "fig.set_figwidth(21)\n",
    "fig.subplots_adjust(hspace=0.02)\n",
    "fig.subplots_adjust(wspace=0.02)\n",
    "\n",
    "axs = axs.ravel()\n",
    "\n",
    "for i in range(n_tasks):\n",
    "#     print('i',i)\n",
    "#     print('i +9',i + 9)\n",
    "#     print('to plot',final_dataset_ST_Normal[fold,:, 9 + i ][~np.isnan(final_dataset_ST_Normal[fold,:, 9 + i])])\n",
    "    color_max = np.amax((final_dataset_ST_Normal[fold,:, 9 + i ][~np.isnan(final_dataset_ST_Normal[fold,:, 9 + i])]))\n",
    "\n",
    "    color_min = np.amin((final_dataset_ST_Normal[fold,:, 9 + i][~np.isnan(final_dataset_ST_Normal[fold,:, 9 + i])]))\n",
    "#     print('min',color_max) \n",
    "#     print('max',color_min)\n",
    "\n",
    "    axs[i].imshow(final_dataset_ST_Normal[fold,:, 9 + i].reshape(N,N), extent=extent, aspect = 'auto', \n",
    "                  cmap=cmap, interpolation='None', vmin = color_min, vmax = color_max)\n",
    "    axs[i].title.set_text(crime_list_name[i])\n",
    "    if i == 0:\n",
    "        axs[i].set_ylabel('Intensity', fontweight=\"bold\")\n",
    "\n",
    "\n",
    "    axs[i].grid(False)\n",
    "    axs[i].set_yticks([]) \n",
    "    axs[i].set_xticks([]) \n",
    "    axs[i].grid(False)\n",
    "    \n",
    "# name = \"Figure3\" + str(cmap)\n",
    "# fig.savefig(name + '.png')\n",
    "plt.show()"
   ]
  },
  {
   "cell_type": "code",
   "execution_count": 58,
   "metadata": {},
   "outputs": [],
   "source": [
    "# ST learning but cell inside"
   ]
  },
  {
   "cell_type": "code",
   "execution_count": 59,
   "metadata": {},
   "outputs": [
    {
     "data": {
      "image/png": "[encoded data removed]",
      "text/plain": [
       "<Figure size 1512x216 with 7 Axes>"
      ]
     },
     "metadata": {},
     "output_type": "display_data"
    }
   ],
   "source": [
    "mpl.rcParams.update({'font.size': 12.8})\n",
    "size_cbar_ticks = 15\n",
    "rescale = 20\n",
    "fold = 0\n",
    "cmap = \"gist_heat_r\"\n",
    "inducing = 'ind'\n",
    "norm = mpl.colors.Normalize(vmin=-100.,vmax=100)\n",
    "\n",
    "extent = (np.amin(final_dataset_ST_Normal[fold,:,0]), np.amax(final_dataset_ST_Normal[fold,:,0]), np.amin(final_dataset_ST_Normal[fold,:,1]), np.amax(final_dataset_ST_Normal[fold,:,1]))\n",
    "\n",
    "fig, axs = plt.subplots(1,7, sharex = 'col', sharey = 'row')\n",
    "fig.set_figheight(3)\n",
    "fig.set_figwidth(21)\n",
    "fig.subplots_adjust(hspace=0.02)\n",
    "fig.subplots_adjust(wspace=0.02)\n",
    "\n",
    "axs = axs.ravel()\n",
    "\n",
    "for i in range(n_tasks):\n",
    "#     print('i',i)\n",
    "#     print('i +9',i + 9)\n",
    "#     print('to plot',final_dataset_ST_Normal[fold,:, 9 + i ][~np.isnan(final_dataset_ST_Normal[fold,:, 9 + i])])\n",
    "    color_max = np.amax((final_dataset_ST_Normal[fold,:, 9 + i ][~np.isnan(final_dataset_ST_Normal[fold,:, 9 + i])]))\n",
    "\n",
    "    color_min = np.amin((final_dataset_ST_Normal[fold,:, 9 + i][~np.isnan(final_dataset_ST_Normal[fold,:, 9 + i])]))\n",
    "#     print('min',color_max) \n",
    "#     print('max',color_min)\n",
    "\n",
    "    axs[i].imshow(final_dataset_ST_Normal[fold,:, 9 + i].reshape(N,N)*cell_inside, extent=extent, aspect = 'auto', \n",
    "                  cmap=cmap, interpolation='None', vmin = color_min, vmax = color_max)\n",
    "    axs[i].title.set_text(crime_list_name[i])\n",
    "    if i == 0:\n",
    "        axs[i].set_ylabel('Intensity', fontweight=\"bold\")\n",
    "\n",
    "\n",
    "    axs[i].grid(False)\n",
    "    axs[i].set_yticks([]) \n",
    "    axs[i].set_xticks([]) \n",
    "    axs[i].grid(False)\n",
    "    \n",
    "# name = \"Figure3\" + str(cmap)\n",
    "# fig.savefig(name + '.png')\n",
    "plt.show()"
   ]
  },
  {
   "cell_type": "markdown",
   "metadata": {},
   "source": [
    "# Plot 5"
   ]
  },
  {
   "cell_type": "code",
   "execution_count": 60,
   "metadata": {},
   "outputs": [],
   "source": [
    "bounds = [None] * n_tasks\n",
    "for t in xrange(n_tasks):\n",
    "    bounds[t] = [0,np.max(data_final_with_NOna[:,t])/2, int(np.max(data_final_with_NOna[:,t]))]\n",
    "bounds[0]\n",
    "im = [None] * n_tasks"
   ]
  },
  {
   "cell_type": "code",
   "execution_count": 63,
   "metadata": {},
   "outputs": [
    {
     "data": {
      "image/png": "[encoded data removed]",
      "text/plain": [
       "<Figure size 1440x525.6 with 28 Axes>"
      ]
     },
     "metadata": {
      "needs_background": "light"
     },
     "output_type": "display_data"
    }
   ],
   "source": [
    "fold = 0\n",
    "task = 0\n",
    "mpl.rcParams.update({'font.size': 12.8})\n",
    "size_cbar_ticks = 13\n",
    "rescale = 20\n",
    "cmap = \"gist_heat_r\"\n",
    "inducing = 'ind'\n",
    "norm = mpl.colors.Normalize(vmin=-100.,vmax=100)\n",
    "\n",
    "extent = (np.amin(final_dataset_MT_Normal[fold,:,0]), \n",
    "          np.amax(final_dataset_MT_Normal[fold,:,0]), \n",
    "          np.amin(final_dataset_MT_Normal[fold,:,1]), \n",
    "          np.amax(final_dataset_MT_Normal[fold,:,1]))\n",
    "\n",
    "fig, axs = plt.subplots(3,7, sharex = 'col', sharey = 'row')\n",
    "fig.set_figheight(7.3)\n",
    "fig.set_figwidth(20)\n",
    "fig.subplots_adjust(hspace=0.02)\n",
    "fig.subplots_adjust(wspace=0.02)\n",
    "pad = 0.005\n",
    "axs = axs.ravel()\n",
    "\n",
    "for i in range(21):\n",
    "    if i in range(0,7):\n",
    "        color_max = np.amax(np.concatenate((final_dataset_MT_Normal[fold, :, i + 9], \n",
    "                                            final_dataset_ST_Normal[fold, :, i + 9],\n",
    "                                           data_final_with_NOna[:,i][~np.isnan(data_final_with_NOna[:,i])])))\n",
    "        color_min = np.amin(np.concatenate((final_dataset_MT_Normal[fold, :, i + 9], \n",
    "                                            final_dataset_ST_Normal[fold, :, i + 9],\n",
    "                                           data_final_with_NOna[:,i][~np.isnan(data_final_with_NOna[:,i])])))\n",
    "\n",
    "        \n",
    "        axs[i].imshow(data_final_with_NOna[:, i].reshape(N,N)*cell_inside, extent=extent, \n",
    "                 aspect = 'auto', cmap=cmap, interpolation='None',\n",
    "                 vmin = color_min, vmax = color_max)\n",
    "        \n",
    "        axs[i].imshow(masked_array[i], interpolation='nearest', cmap = cmap1, alpha = transparency,\n",
    "          extent=extent)\n",
    "        \n",
    "        axs[i].title.set_text(crime_list_name[i])\n",
    "        \n",
    "\n",
    "        \n",
    "        #cbar = plt.colorbar(im[i], ax = axs[i],orientation=\"horizontal\", pad=pad, shrink = shrink, ticks = b)\n",
    "        #cbar.ax.tick_params(labelsize=size_cbar_ticks)\n",
    "\n",
    "        axs[i].set_yticks([])\n",
    "        axs[i].set_xticks([])         \n",
    "        if i == 0:\n",
    "             axs[i].set_ylabel('Training obs', fontweight=\"bold\")\n",
    "\n",
    "    if i in range(7,14):\n",
    "        color_max = np.amax(np.concatenate((final_dataset_MT_Normal[fold, :, i + 9 - 7], \n",
    "                                            final_dataset_ST_Normal[fold, :, i + 9 - 7 ],\n",
    "                                           data_final_with_NOna[:,i-7][~np.isnan(data_final_with_NOna[:,i -7])])))\n",
    "        \n",
    "        color_min = np.amin(np.concatenate((final_dataset_MT_Normal[fold, :, i + 9 - 7], \n",
    "                                            final_dataset_ST_Normal[fold, :, i + 9 - 7],\n",
    "                                           data_final_with_NOna[:,i-7][~np.isnan(data_final_with_NOna[:,i -7])])))\n",
    "        color_min = color_min - rescale\n",
    "\n",
    "        if i == 12:\n",
    "            color_max = np.amax(np.concatenate((final_dataset_MT_Normal[fold, :, i + 9 - 7], \n",
    "                                            final_dataset_ST_Normal[fold, :, i + 9 - 7 ],\n",
    "                                           data_final_with_NOna[:,i-7][~np.isnan(data_final_with_NOna[:,i -7])])))\n",
    "        \n",
    "            color_min = np.amin(np.concatenate((final_dataset_MT_Normal[fold, :, i + 9 - 7], \n",
    "                                            final_dataset_ST_Normal[fold, :, i + 9 - 7],\n",
    "                                           data_final_with_NOna[:,i-7][~np.isnan(data_final_with_NOna[:,i -7])])))\n",
    "\n",
    "        axs[i].imshow(final_dataset_MT_Normal[fold, :, i + 9 - 7].reshape(N,N)*cell_inside, extent=extent, \n",
    "                 aspect = 'auto', cmap=cmap, interpolation='None',\n",
    "                 vmin = color_min, vmax = color_max)\n",
    "        if i == 7:\n",
    "             axs[i].set_ylabel('MCPM', fontweight=\"bold\")\n",
    "\n",
    "    if i in range(14,21):\n",
    "        color_max = np.amax(np.concatenate((final_dataset_MT_Normal[fold, :, i + 9 - 14], \n",
    "                                            final_dataset_ST_Normal[fold, :, i + 9 - 14 ],\n",
    "                                           data_final_with_NOna[:,i-14][~np.isnan(data_final_with_NOna[:,i -14])])))\n",
    "        \n",
    "        color_min = np.amin(np.concatenate((final_dataset_MT_Normal[fold, :, i + 9 - 14], \n",
    "                                            final_dataset_ST_Normal[fold, :, i + 9 - 14],\n",
    "                                           data_final_with_NOna[:,i-14][~np.isnan(data_final_with_NOna[:,i -14])])))\n",
    "        color_min = color_min - rescale\n",
    "        if i == 19:\n",
    "            color_max = np.amax(np.concatenate((final_dataset_MT_Normal[fold, :, i + 9 - 14], \n",
    "                                            final_dataset_ST_Normal[fold, :, i + 9 - 14 ],\n",
    "                                           data_final_with_NOna[:,i-14][~np.isnan(data_final_with_NOna[:,i -14])])))\n",
    "            color_min = np.amin(np.concatenate((final_dataset_MT_Normal[fold, :, i + 9 - 14], \n",
    "                                            final_dataset_ST_Normal[fold, :, i + 9 - 14],\n",
    "                                           data_final_with_NOna[:,i-14][~np.isnan(data_final_with_NOna[:,i -14])])))\n",
    "\n",
    "        im[i - 14] = axs[i].imshow(final_dataset_ST_Normal[fold,:, 9 + i - 14].reshape(N,N)*cell_inside, extent=extent, \n",
    "                      aspect = 'auto', cmap=cmap, interpolation='None',\n",
    "                      vmin = color_min, vmax = color_max)\n",
    "\n",
    "\n",
    "        if i == 14:\n",
    "             axs[i].set_ylabel('LGCP', fontweight=\"bold\")\n",
    "\n",
    "        b = bounds[i-14]\n",
    "        #cbar = plt.colorbar(im[i-14], ax = axs[i],orientation=\"horizontal\", pad=pad, shrink = shrink, ticks = b)\n",
    "        #cbar.ax.tick_params(labelsize=size_cbar_ticks)\n",
    "        if i == 14:\n",
    "\n",
    "            cbaxes1 = fig.add_axes([0.14, 0.09, 0.08, 0.015])\n",
    "            fig.colorbar(im[i-14], cax = cbaxes1, orientation=\"horizontal\", ticks = b)\n",
    "        if i == 15:\n",
    "            cbaxes2 = fig.add_axes([0.25, 0.09, 0.08, 0.015])\n",
    "            fig.colorbar(im[i-14], cax = cbaxes2, orientation=\"horizontal\", ticks = b)  \n",
    "        if i == 16:\n",
    "            cbaxes3 = fig.add_axes([0.36, 0.09, 0.08, 0.015])\n",
    "            fig.colorbar(im[i-14], cax = cbaxes3, orientation=\"horizontal\", ticks = b)  \n",
    "\n",
    "        if i == 17:\n",
    "            cbaxes4 = fig.add_axes([0.47, 0.09, 0.08, 0.015])\n",
    "            fig.colorbar(im[i-14], cax = cbaxes4, orientation=\"horizontal\", ticks = b)  \n",
    "\n",
    "        if i == 18:\n",
    "            cbaxes5 = fig.add_axes([0.58, 0.09, 0.08, 0.015])\n",
    "            fig.colorbar(im[i-14], cax = cbaxes5, orientation=\"horizontal\", ticks = b)  \n",
    "        if i == 19:\n",
    "            cbaxes6 = fig.add_axes([0.695, 0.09, 0.08, 0.015])\n",
    "            fig.colorbar(im[i-14], cax = cbaxes6, orientation=\"horizontal\", ticks = b)  \n",
    "        if i == 20:\n",
    "            cbaxes7 = fig.add_axes([0.805, 0.09, 0.08, 0.015])\n",
    "            fig.colorbar(im[i-14], cax = cbaxes7, orientation=\"horizontal\", ticks = b)  \n",
    "\n",
    "    axs[i].grid(False)\n",
    "    axs[i].set_yticks([]) \n",
    "    axs[i].set_xticks([]) \n",
    "    axs[i].grid(False)\n",
    "    \n",
    "#name = \"all_crime\" + str(cmap)\n",
    "#fig.savefig(name + '.png')\n",
    "\n",
    "plt.show()"
   ]
  },
  {
   "cell_type": "markdown",
   "metadata": {},
   "source": [
    "# Plot LGCPN - ICM for NIPS"
   ]
  },
  {
   "cell_type": "code",
   "execution_count": 65,
   "metadata": {},
   "outputs": [],
   "source": [
    "mu = np.load('../Data/crime_experiments/posterior_mean.npy')\n",
    "var = np.load('../Data/crime_experiments/posterior_var.npy')\n",
    "\n",
    "posterior_mean = np.exp(mu + 0.5*var)\n",
    "posterior_var = (np.exp(var) - 1.)*np.exp(2.0*mu + var)"
   ]
  },
  {
   "cell_type": "code",
   "execution_count": 66,
   "metadata": {},
   "outputs": [
    {
     "data": {
      "image/png": "[encoded data removed]",
      "text/plain": [
       "<Figure size 1440x360 with 14 Axes>"
      ]
     },
     "metadata": {},
     "output_type": "display_data"
    }
   ],
   "source": [
    "fold = 0\n",
    "task = 0\n",
    "mpl.rcParams.update({'font.size': 11.5})\n",
    "size_cbar_ticks = 15\n",
    "rescale = 20\n",
    "cmap = \"gist_heat_r\"\n",
    "inducing = 'ind'\n",
    "norm = mpl.colors.Normalize(vmin=-100.,vmax=100)\n",
    "\n",
    "extent = (np.amin(final_dataset_MT_Normal[fold,:,0]), \n",
    "          np.amax(final_dataset_MT_Normal[fold,:,0]), \n",
    "          np.amin(final_dataset_MT_Normal[fold,:,1]), \n",
    "          np.amax(final_dataset_MT_Normal[fold,:,1]))\n",
    "\n",
    "fig, axs = plt.subplots(2,7, sharex = 'col', sharey = 'row')\n",
    "fig.set_figheight(5)\n",
    "fig.set_figwidth(20)\n",
    "fig.subplots_adjust(hspace=0.02)\n",
    "fig.subplots_adjust(wspace=0.02)\n",
    "\n",
    "axs = axs.ravel()\n",
    "\n",
    "for i in range(14):\n",
    "\n",
    "\n",
    "    if i in range(0,7):\n",
    "        color_max = np.amax(np.concatenate((final_dataset_MT_Normal[fold, :, i + 9], posterior_mean[fold, :, i])))\n",
    "        color_min = np.amin(np.concatenate((final_dataset_MT_Normal[fold, :, i + 9], posterior_mean[fold, :, i])))\n",
    "        \n",
    "#         color_max = np.amax(final_dataset_MT_Normal[fold, :, i + 9])\n",
    "#         color_min = np.amin(final_dataset_MT_Normal[fold, :, i + 9])\n",
    "        color_min = color_min - rescale\n",
    "        if i == 5:\n",
    "            color_max = np.amax(np.concatenate((final_dataset_MT_Normal[fold, :, i + 9], posterior_mean[fold, :, i])))\n",
    "            color_min = np.amin(np.concatenate((final_dataset_MT_Normal[fold, :, i + 9], posterior_mean[fold, :, i])))\n",
    "            \n",
    "#             color_max = np.amax(final_dataset_MT_Normal[fold, :, i + 9])\n",
    "#             color_min = np.amin(final_dataset_MT_Normal[fold, :, i + 9])\n",
    "\n",
    "#         print('max', color_max)\n",
    "#         print('min', color_min)\n",
    "        axs[i].imshow(final_dataset_MT_Normal[fold, :, i + 9].reshape(N,N)*cell_inside, extent=extent, \n",
    "                 aspect = 'auto', cmap=cmap, interpolation='None',\n",
    "                 vmin = color_min, vmax = color_max)\n",
    "        axs[i].title.set_text(crime_list_name[i])\n",
    "\n",
    "        if i == 0:\n",
    "             axs[i].set_ylabel('LGCPN', fontweight=\"bold\")\n",
    "\n",
    "    if i in range(7,14):\n",
    "\n",
    "        color_max = np.amax(np.concatenate((final_dataset_MT_Normal[fold, :, i + 9 - 7], posterior_mean[fold, :, i-7])))\n",
    "        color_min = np.amin(np.concatenate((final_dataset_MT_Normal[fold, :, i + 9 - 7], posterior_mean[fold, :, i-7])))\n",
    "        color_min = color_min - rescale\n",
    "        if i == 12:\n",
    "            color_max = np.amax(np.concatenate((final_dataset_MT_Normal[fold, :, i + 9 - 7], posterior_mean[fold, :, i-7])))\n",
    "            color_min = np.amin(np.concatenate((final_dataset_MT_Normal[fold, :, i + 9 - 7], posterior_mean[fold, :, i-7])))\n",
    "            \n",
    "        axs[i].imshow(posterior_mean[fold,:, i - 7].reshape(N,N)*cell_inside, extent=extent, \n",
    "                      aspect = 'auto', cmap=cmap, interpolation='None',\n",
    "                      vmin = color_min, vmax = color_max)\n",
    "\n",
    "\n",
    "        if i == 7:\n",
    "             axs[i].set_ylabel('ICM', fontweight=\"bold\")\n",
    "\n",
    "    axs[i].grid(False)\n",
    "    axs[i].set_yticks([]) \n",
    "    axs[i].set_xticks([]) \n",
    "    axs[i].grid(False)\n",
    "    \n",
    "name = \"crime_NLPL_ICM\" + str(cmap)\n",
    "fig.savefig(name + '.png')\n",
    "plt.show()"
   ]
  },
  {
   "cell_type": "code",
   "execution_count": 67,
   "metadata": {},
   "outputs": [],
   "source": [
    "fold = 0\n",
    "cp_ICM = np.zeros((N_all,n_tasks))\n",
    "for t in xrange(n_tasks):\n",
    "    cp_ICM[:,t] = posterior_mean[fold,:, t]/np.sum(posterior_mean[fold,:, :], axis = 1)"
   ]
  },
  {
   "cell_type": "markdown",
   "metadata": {},
   "source": [
    "# Plot of cond prob for appendix\n"
   ]
  },
  {
   "cell_type": "code",
   "execution_count": 88,
   "metadata": {},
   "outputs": [
    {
     "data": {
      "image/png": "[encoded data removed]",
      "text/plain": [
       "<Figure size 1440x360 with 14 Axes>"
      ]
     },
     "metadata": {},
     "output_type": "display_data"
    }
   ],
   "source": [
    "fold = 0\n",
    "task = 0\n",
    "mpl.rcParams.update({'font.size': 12.8})\n",
    "size_cbar_ticks = 15\n",
    "rescale = 20\n",
    "cmap = \"gist_heat_r\"\n",
    "inducing = 'ind'\n",
    "norm = mpl.colors.Normalize(vmin=-100.,vmax=100)\n",
    "\n",
    "extent = (np.amin(final_dataset_MT_Normal[fold,:,0]), \n",
    "          np.amax(final_dataset_MT_Normal[fold,:,0]), \n",
    "          np.amin(final_dataset_MT_Normal[fold,:,1]), \n",
    "          np.amax(final_dataset_MT_Normal[fold,:,1]))\n",
    "\n",
    "fig, axs = plt.subplots(2,7, sharex = 'col', sharey = 'row')\n",
    "fig.set_figheight(5)\n",
    "fig.set_figwidth(20)\n",
    "fig.subplots_adjust(hspace=0.02)\n",
    "fig.subplots_adjust(wspace=0.02)\n",
    "\n",
    "axs = axs.ravel()\n",
    "\n",
    "for i in range(14):\n",
    "\n",
    "    color_max = 1\n",
    "    color_min = 0 - 0.05\n",
    "    if i in range(0,7):\n",
    "        axs[i].imshow(cp_LGCPN_Normal[:,i].reshape(N,N)*cell_inside, extent=extent, \n",
    "                 aspect = 'auto', cmap=cmap, interpolation='None',\n",
    "                 vmin = color_min, vmax = color_max)\n",
    "        axs[i].title.set_text(crime_list_name[i])\n",
    "\n",
    "        if i == 0:\n",
    "             axs[i].set_ylabel('Cond. prob. MT', fontweight=\"bold\")\n",
    "\n",
    "    if i in range(7,14):\n",
    "\n",
    "\n",
    "        axs[i].imshow(cp_LGCP_ST_Normal[:, i - 7].reshape(N,N)*cell_inside, extent=extent, \n",
    "                      aspect = 'auto', cmap=cmap, interpolation='None',\n",
    "                      vmin = color_min, vmax = color_max)\n",
    "\n",
    "\n",
    "        if i == 7:\n",
    "             axs[i].set_ylabel('Cond. prob. ST', fontweight=\"bold\")\n",
    "\n",
    "    axs[i].grid(False)\n",
    "    axs[i].set_yticks([]) \n",
    "    axs[i].set_xticks([]) \n",
    "    axs[i].grid(False)\n",
    "    \n",
    "#name = \"Figure_appendix_crime_condprob_MT_ST\" + str(cmap)\n",
    "#fig.savefig(name + '.png')\n",
    "plt.show()"
   ]
  },
  {
   "cell_type": "code",
   "execution_count": 89,
   "metadata": {},
   "outputs": [
    {
     "data": {
      "image/png": "[encoded data removed]",
      "text/plain": [
       "<Figure size 1440x360 with 14 Axes>"
      ]
     },
     "metadata": {},
     "output_type": "display_data"
    }
   ],
   "source": [
    "fold = 0\n",
    "task = 0\n",
    "mpl.rcParams.update({'font.size': 12.8})\n",
    "size_cbar_ticks = 15\n",
    "rescale = 20\n",
    "cmap = \"gist_heat_r\"\n",
    "inducing = 'ind'\n",
    "norm = mpl.colors.Normalize(vmin=-100.,vmax=100)\n",
    "\n",
    "extent = (np.amin(final_dataset_MT_Normal[fold,:,0]), \n",
    "          np.amax(final_dataset_MT_Normal[fold,:,0]), \n",
    "          np.amin(final_dataset_MT_Normal[fold,:,1]), \n",
    "          np.amax(final_dataset_MT_Normal[fold,:,1]))\n",
    "\n",
    "fig, axs = plt.subplots(2,7, sharex = 'col', sharey = 'row')\n",
    "fig.set_figheight(5)\n",
    "fig.set_figwidth(20)\n",
    "fig.subplots_adjust(hspace=0.02)\n",
    "fig.subplots_adjust(wspace=0.02)\n",
    "\n",
    "axs = axs.ravel()\n",
    "\n",
    "for i in range(14):\n",
    "\n",
    "    color_max = 1\n",
    "    color_min = 0 - 0.05\n",
    "    if i in range(0,7):\n",
    "        axs[i].imshow(cp_LGCPN_Normal[:,i].reshape(N,N)*cell_inside, extent=extent, \n",
    "                 aspect = 'auto', cmap=cmap, interpolation='None',\n",
    "                 vmin = color_min, vmax = color_max)\n",
    "        axs[i].title.set_text(crime_list_name[i])\n",
    "\n",
    "        if i == 0:\n",
    "             axs[i].set_ylabel('MCPM', fontweight=\"bold\")\n",
    "\n",
    "    if i in range(7,14):\n",
    "\n",
    "\n",
    "        axs[i].imshow(cp_ICM[:, i - 7].reshape(N,N)*cell_inside, extent=extent, \n",
    "                      aspect = 'auto', cmap=cmap, interpolation='None',\n",
    "                      vmin = color_min, vmax = color_max)\n",
    "\n",
    "\n",
    "        if i == 7:\n",
    "             axs[i].set_ylabel('ICM', fontweight=\"bold\")\n",
    "\n",
    "    axs[i].grid(False)\n",
    "    axs[i].set_yticks([]) \n",
    "    axs[i].set_xticks([]) \n",
    "    axs[i].grid(False)\n",
    "    \n",
    "#name = \"Figure_appendix_crime_condprob_LGCPN_ICM\" + str(cmap)\n",
    "#fig.savefig(name + '.png')\n",
    "plt.show()"
   ]
  },
  {
   "cell_type": "markdown",
   "metadata": {},
   "source": [
    "# Evaluation of performance for MT"
   ]
  },
  {
   "cell_type": "code",
   "execution_count": 90,
   "metadata": {},
   "outputs": [],
   "source": [
    "mean_outputs = np.mean(outputs, axis = 0)\n",
    "range_outputs = np.ptp(outputs, axis = 0)"
   ]
  },
  {
   "cell_type": "code",
   "execution_count": 91,
   "metadata": {},
   "outputs": [],
   "source": [
    "cell_inside = np.loadtxt('../Data/crime_experiments/cell_inside_ny')\n",
    "cell_inside = cell_inside.reshape(N,N)\n",
    "cell_inside[cell_inside == 0] = np.nan"
   ]
  },
  {
   "cell_type": "code",
   "execution_count": 92,
   "metadata": {},
   "outputs": [],
   "source": [
    "cell_inside[~np.isnan(cell_inside)] = True\n",
    "cell_inside[np.isnan(cell_inside)] = False\n"
   ]
  },
  {
   "cell_type": "code",
   "execution_count": 93,
   "metadata": {},
   "outputs": [],
   "source": [
    "MT_RMSE_results = np.zeros((n_tasks))\n",
    "MT_NLPL_results = np.zeros((n_tasks))\n",
    "MT_RMSE_results_inter = np.zeros((n_tasks, n_folds))\n",
    "MT_NLPL_results_inter = np.zeros((n_tasks, n_folds))\n",
    "\n",
    "MT_GP_NLPL_results = np.zeros((n_tasks))\n",
    "MT_GP_RMSE_results = np.zeros((n_tasks))\n",
    "MT_GP_NLPL_results_inter = np.zeros((n_tasks, n_folds))\n",
    "MT_GP_RMSE_results_inter = np.zeros((n_tasks, n_folds))\n",
    "\n",
    "\n",
    "ST_RMSE_results = np.zeros((n_tasks))\n",
    "ST_NLPL_results = np.zeros((n_tasks))\n",
    "ST_RMSE_results_inter = np.zeros((n_tasks, n_folds))\n",
    "ST_NLPL_results_inter = np.zeros((n_tasks, n_folds))\n"
   ]
  },
  {
   "cell_type": "code",
   "execution_count": 94,
   "metadata": {},
   "outputs": [
    {
     "ename": "IndexError",
     "evalue": "index 1 is out of bounds for axis 0 with size 1",
     "output_type": "error",
     "traceback": [
      "\u001b[0;31m---------------------------------------------------------------------------\u001b[0m",
      "\u001b[0;31mIndexError\u001b[0m                                Traceback (most recent call last)",
      "\u001b[0;32m<ipython-input-94-3eed8975103d>\u001b[0m in \u001b[0;36m<module>\u001b[0;34m()\u001b[0m\n\u001b[1;32m      8\u001b[0m         \u001b[0mtrue_counts\u001b[0m \u001b[0;34m=\u001b[0m  \u001b[0moutputs\u001b[0m\u001b[0;34m[\u001b[0m\u001b[0mcond\u001b[0m\u001b[0;34m,\u001b[0m\u001b[0mtask\u001b[0m\u001b[0;34m]\u001b[0m\u001b[0;34m\u001b[0m\u001b[0m\n\u001b[1;32m      9\u001b[0m         \u001b[0;31m#print('true counts size', true_counts.shape)\u001b[0m\u001b[0;34m\u001b[0m\u001b[0;34m\u001b[0m\u001b[0m\n\u001b[0;32m---> 10\u001b[0;31m         \u001b[0mpred_counts\u001b[0m \u001b[0;34m=\u001b[0m  \u001b[0mfinal_dataset_MT_Normal\u001b[0m\u001b[0;34m[\u001b[0m\u001b[0mfold\u001b[0m\u001b[0;34m,\u001b[0m\u001b[0mcond\u001b[0m\u001b[0;34m,\u001b[0m\u001b[0mtask\u001b[0m\u001b[0;34m+\u001b[0m\u001b[0;36m9\u001b[0m\u001b[0;34m]\u001b[0m\u001b[0;34m\u001b[0m\u001b[0m\n\u001b[0m\u001b[1;32m     11\u001b[0m \u001b[0;31m#         print('fold', fold)\u001b[0m\u001b[0;34m\u001b[0m\u001b[0;34m\u001b[0m\u001b[0m\n\u001b[1;32m     12\u001b[0m \u001b[0;31m#         print('task', task)\u001b[0m\u001b[0;34m\u001b[0m\u001b[0;34m\u001b[0m\u001b[0m\n",
      "\u001b[0;31mIndexError\u001b[0m: index 1 is out of bounds for axis 0 with size 1"
     ]
    }
   ],
   "source": [
    "for task in xrange(n_tasks):\n",
    "    for fold in xrange(n_folds):\n",
    "        fold_task_subset = data_final_with_na[fold,:,task+2]\n",
    "        #cond = np.isnan(fold_task_subset)\n",
    "        cond = np.logical_and(cell_inside, np.isnan(fold_task_subset).reshape(N,N)).reshape(N_all,1)[:,0]\n",
    "\n",
    "        # this is step is to consider cells inside, in this case they are all considered inside. \n",
    "        true_counts =  outputs[cond,task]\n",
    "        #print('true counts size', true_counts.shape)\n",
    "        pred_counts =  final_dataset_MT_Normal[fold,cond,task+9]\n",
    "#         print('fold', fold)\n",
    "#         print('task', task)\n",
    "#         print('pred counts size', pred_counts.shape[0])\n",
    "        if pred_counts.shape[0] == 0:\n",
    "            MT_NLPL_results_inter[task,fold] = np.nan\n",
    "            MT_RMSE_results_inter[task,fold] = np.nan \n",
    "        else:\n",
    "#             print('true_counts', true_counts)\n",
    "#             print('pred_counts', pred_counts)\n",
    "#             print('pred_counts.shape[0]', pred_counts.shape[0])\n",
    "#             print('ratio 1', np.sum(np.square(true_counts - pred_counts)))\n",
    "#             print('ratio', np.sum(np.square(true_counts - pred_counts))/pred_counts.shape[0])\n",
    "#             print('ratio 2', np.sqrt(np.sum(np.square(true_counts - pred_counts))/pred_counts.shape[0]))\n",
    "#             print('ratio 3', np.sqrt(np.sum(np.square(true_counts - pred_counts))))\n",
    "#             print('np.sum(np.square(true_counts - pred_counts)', np.sqrt(np.sum(np.square(true_counts - pred_counts))/pred_counts.shape[0]))\n",
    "            \n",
    "            MT_NLPL_results_inter[task,fold] = - np.sum(poisson.logpmf(true_counts, pred_counts))/pred_counts.shape[0]\n",
    "            MT_RMSE_results_inter[task,fold] = np.sqrt(np.sum(np.square(true_counts - pred_counts))/pred_counts.shape[0])        "
   ]
  },
  {
   "cell_type": "code",
   "execution_count": 95,
   "metadata": {},
   "outputs": [
    {
     "name": "stdout",
     "output_type": "stream",
     "text": [
      "('MT_RMSE_results mean', array([1.80894733, 0.        , 0.        , 0.        , 0.        ,\n",
      "       0.        , 0.        ]))\n",
      "('MT_NLPL_results mean', array([0.64160641, 0.        , 0.        , 0.        , 0.        ,\n",
      "       0.        , 0.        ]))\n"
     ]
    }
   ],
   "source": [
    "for t in xrange(n_tasks):\n",
    "    MT_RMSE_results[t] = np.mean(MT_RMSE_results_inter[t][~np.isnan(MT_RMSE_results_inter[t])]/mean_outputs[t])\n",
    "    MT_NLPL_results[t] = np.mean(MT_NLPL_results_inter[t][~np.isnan(MT_NLPL_results_inter[t])]/mean_outputs[t])\n",
    "print('MT_RMSE_results mean', MT_RMSE_results)\n",
    "print('MT_NLPL_results mean', MT_NLPL_results)"
   ]
  },
  {
   "cell_type": "code",
   "execution_count": 97,
   "metadata": {},
   "outputs": [
    {
     "ename": "IndexError",
     "evalue": "index 1 is out of bounds for axis 0 with size 1",
     "output_type": "error",
     "traceback": [
      "\u001b[0;31m---------------------------------------------------------------------------\u001b[0m",
      "\u001b[0;31mIndexError\u001b[0m                                Traceback (most recent call last)",
      "\u001b[0;32m<ipython-input-97-4054d23b1327>\u001b[0m in \u001b[0;36m<module>\u001b[0;34m()\u001b[0m\n\u001b[1;32m      8\u001b[0m         \u001b[0mtrue_counts\u001b[0m \u001b[0;34m=\u001b[0m  \u001b[0moutputs\u001b[0m\u001b[0;34m[\u001b[0m\u001b[0mcond\u001b[0m\u001b[0;34m,\u001b[0m\u001b[0mtask\u001b[0m\u001b[0;34m]\u001b[0m\u001b[0;34m\u001b[0m\u001b[0m\n\u001b[1;32m      9\u001b[0m \u001b[0;31m#         print('true counts size', true_counts.shape)\u001b[0m\u001b[0;34m\u001b[0m\u001b[0;34m\u001b[0m\u001b[0m\n\u001b[0;32m---> 10\u001b[0;31m         \u001b[0mpred_counts\u001b[0m \u001b[0;34m=\u001b[0m  \u001b[0mfinal_dataset_MT_GP\u001b[0m\u001b[0;34m[\u001b[0m\u001b[0mfold\u001b[0m\u001b[0;34m,\u001b[0m\u001b[0mcond\u001b[0m\u001b[0;34m,\u001b[0m\u001b[0mtask\u001b[0m\u001b[0;34m+\u001b[0m\u001b[0;36m9\u001b[0m\u001b[0;34m]\u001b[0m\u001b[0;34m\u001b[0m\u001b[0m\n\u001b[0m\u001b[1;32m     11\u001b[0m \u001b[0;31m#         print('pred counts size', pred_counts.shape)\u001b[0m\u001b[0;34m\u001b[0m\u001b[0;34m\u001b[0m\u001b[0m\n\u001b[1;32m     12\u001b[0m         \u001b[0;32mif\u001b[0m \u001b[0mpred_counts\u001b[0m\u001b[0;34m.\u001b[0m\u001b[0mshape\u001b[0m\u001b[0;34m[\u001b[0m\u001b[0;36m0\u001b[0m\u001b[0;34m]\u001b[0m \u001b[0;34m==\u001b[0m \u001b[0;36m0\u001b[0m\u001b[0;34m:\u001b[0m\u001b[0;34m\u001b[0m\u001b[0m\n",
      "\u001b[0;31mIndexError\u001b[0m: index 1 is out of bounds for axis 0 with size 1"
     ]
    }
   ],
   "source": [
    "for fold in xrange(n_folds):\n",
    "\n",
    "    for task in xrange(n_tasks):\n",
    "        fold_task_subset = data_final_with_na[fold,:,task+2]\n",
    "        cond = np.logical_and(cell_inside, np.isnan(fold_task_subset).reshape(N,N)).reshape(N_all,1)[:,0]\n",
    "\n",
    "        # this is step is to consider cells inside, in this case they are all considered inside. \n",
    "        true_counts =  outputs[cond,task]\n",
    "#         print('true counts size', true_counts.shape)\n",
    "        pred_counts =  final_dataset_MT_GP[fold,cond,task+9]\n",
    "#         print('pred counts size', pred_counts.shape)\n",
    "        if pred_counts.shape[0] == 0:\n",
    "            MT_GP_NLPL_results_inter[task,fold] = np.nan\n",
    "            MT_GP_RMSE_results_inter[task,fold] = np.nan \n",
    "        else:\n",
    "            MT_GP_NLPL_results_inter[task,fold] = - np.sum(poisson.logpmf(true_counts, pred_counts))/pred_counts.shape[0]\n",
    "            MT_GP_RMSE_results_inter[task,fold] = np.sqrt(np.sum(np.square(true_counts - pred_counts))/pred_counts.shape[0])             \n"
   ]
  },
  {
   "cell_type": "code",
   "execution_count": 98,
   "metadata": {},
   "outputs": [
    {
     "name": "stdout",
     "output_type": "stream",
     "text": [
      "('MT_GP_RMSE_results mean', array([1.80894733, 0.89895266, 0.35498737, 0.27577131, 2.91271585,\n",
      "       3.10880276, 0.7739915 ]))\n",
      "('MT_GP_NLPL_results mean', array([0.64160641, 0.33595044, 0.11337679, 0.13704659, 0.80778756,\n",
      "       2.78668406, 0.28343501]))\n"
     ]
    }
   ],
   "source": [
    "for t in xrange(n_tasks):\n",
    "    MT_GP_RMSE_results[t] = np.mean(MT_GP_RMSE_results_inter[t][~np.isnan(MT_GP_RMSE_results_inter[t])]/mean_outputs[t])\n",
    "    MT_GP_NLPL_results[t] = np.mean(MT_GP_NLPL_results_inter[t][~np.isnan(MT_GP_NLPL_results_inter[t])]/mean_outputs[t])\n",
    "print('MT_GP_RMSE_results mean', MT_GP_RMSE_results)\n",
    "print('MT_GP_NLPL_results mean', MT_GP_NLPL_results)\n",
    "\n"
   ]
  },
  {
   "cell_type": "code",
   "execution_count": 99,
   "metadata": {},
   "outputs": [
    {
     "ename": "IndexError",
     "evalue": "index 1 is out of bounds for axis 0 with size 1",
     "output_type": "error",
     "traceback": [
      "\u001b[0;31m---------------------------------------------------------------------------\u001b[0m",
      "\u001b[0;31mIndexError\u001b[0m                                Traceback (most recent call last)",
      "\u001b[0;32m<ipython-input-99-0ead4da5a3c6>\u001b[0m in \u001b[0;36m<module>\u001b[0;34m()\u001b[0m\n\u001b[1;32m      7\u001b[0m         \u001b[0;31m# this is step is to consider cells inside, in this case they are all considered inside.\u001b[0m\u001b[0;34m\u001b[0m\u001b[0;34m\u001b[0m\u001b[0m\n\u001b[1;32m      8\u001b[0m         \u001b[0mtrue_counts\u001b[0m \u001b[0;34m=\u001b[0m  \u001b[0moutputs\u001b[0m\u001b[0;34m[\u001b[0m\u001b[0mcond\u001b[0m\u001b[0;34m,\u001b[0m\u001b[0mtask\u001b[0m\u001b[0;34m]\u001b[0m\u001b[0;34m\u001b[0m\u001b[0m\n\u001b[0;32m----> 9\u001b[0;31m         \u001b[0mpred_counts\u001b[0m \u001b[0;34m=\u001b[0m  \u001b[0mfinal_dataset_ST_Normal\u001b[0m\u001b[0;34m[\u001b[0m\u001b[0mfold\u001b[0m\u001b[0;34m,\u001b[0m\u001b[0mcond\u001b[0m\u001b[0;34m,\u001b[0m\u001b[0mtask\u001b[0m\u001b[0;34m+\u001b[0m\u001b[0;36m9\u001b[0m\u001b[0;34m]\u001b[0m\u001b[0;34m\u001b[0m\u001b[0m\n\u001b[0m\u001b[1;32m     10\u001b[0m \u001b[0;31m#         print('true counts size', true_counts.shape)\u001b[0m\u001b[0;34m\u001b[0m\u001b[0;34m\u001b[0m\u001b[0m\n\u001b[1;32m     11\u001b[0m \u001b[0;31m#         print('pred counts size', pred_counts.shape)\u001b[0m\u001b[0;34m\u001b[0m\u001b[0;34m\u001b[0m\u001b[0m\n",
      "\u001b[0;31mIndexError\u001b[0m: index 1 is out of bounds for axis 0 with size 1"
     ]
    }
   ],
   "source": [
    "for fold in xrange(n_folds):\n",
    "\n",
    "    for task in xrange(n_tasks):\n",
    "        fold_task_subset = data_final_with_na[fold,:,task+2]\n",
    "        cond = np.logical_and(cell_inside, np.isnan(fold_task_subset).reshape(N,N)).reshape(N_all,1)[:,0]\n",
    "\n",
    "        # this is step is to consider cells inside, in this case they are all considered inside. \n",
    "        true_counts =  outputs[cond,task]\n",
    "        pred_counts =  final_dataset_ST_Normal[fold,cond,task+9]\n",
    "#         print('true counts size', true_counts.shape)\n",
    "#         print('pred counts size', pred_counts.shape)\n",
    "        if pred_counts.shape[0] == 0:\n",
    "            ST_NLPL_results_inter[task,fold] = np.nan\n",
    "            MST_RMSE_results_inter[task,fold] = np.nan \n",
    "        else:\n",
    "            ST_NLPL_results_inter[task,fold] = - np.sum(poisson.logpmf(true_counts, pred_counts))/pred_counts.shape[0]\n",
    "            ST_RMSE_results_inter[task,fold] = np.sqrt(np.sum(np.square(true_counts - pred_counts))/pred_counts.shape[0])             \n"
   ]
  },
  {
   "cell_type": "code",
   "execution_count": 100,
   "metadata": {},
   "outputs": [
    {
     "name": "stdout",
     "output_type": "stream",
     "text": [
      "('ST_RMSE_results mean', array([ 3.0119559 ,  1.77884006,  0.86543316,  0.51074284,  5.85263881,\n",
      "       32.49430087,  1.3628417 ]))\n",
      "('ST_NLPL_results mean', array([ 6.60087798,  2.75918012,  1.72231316,  0.42688301, 23.3893895 ,\n",
      "       31.3878713 ,  2.04905005]))\n"
     ]
    }
   ],
   "source": [
    "for t in xrange(n_tasks):\n",
    "    ST_RMSE_results[t] = np.mean(ST_RMSE_results_inter[t][~np.isnan(ST_RMSE_results_inter[t])]/mean_outputs[t])\n",
    "    ST_NLPL_results[t] = np.mean(ST_NLPL_results_inter[t][~np.isnan(ST_NLPL_results_inter[t])]/mean_outputs[t])\n",
    "print('ST_RMSE_results mean', ST_RMSE_results)\n",
    "print('ST_NLPL_results mean', ST_NLPL_results)\n"
   ]
  },
  {
   "cell_type": "code",
   "execution_count": 101,
   "metadata": {},
   "outputs": [],
   "source": [
    "# Alternative computation of NLPL\n",
    "# Use this if you want to compute the NLPL performance sampling from the posterior distrbutions\n",
    "# Same can be repeated for ST and MT_GP results\n",
    "np.random.seed(1)\n",
    "n_samples = 10\n",
    "intensity_sample = np.zeros((n_folds, n_samples, N_all,n_tasks ))\n",
    "latent_fun_sample = np.zeros((n_folds, n_samples, N_all,n_latent ))\n",
    "weights_sample = np.zeros((n_folds, n_samples, n_tasks,n_latent ))\n",
    "nlpl_fold_task = np.zeros((n_folds, n_samples, n_tasks))\n",
    "first_std = np.zeros((n_folds, n_tasks))\n",
    "first_mean = np.zeros((n_folds, n_tasks))\n",
    "std = np.zeros(( n_tasks))\n",
    "mean = np.zeros((n_tasks))"
   ]
  },
  {
   "cell_type": "code",
   "execution_count": 117,
   "metadata": {},
   "outputs": [
    {
     "ename": "IndexError",
     "evalue": "index 1 is out of bounds for axis 0 with size 1",
     "output_type": "error",
     "traceback": [
      "\u001b[0;31m---------------------------------------------------------------------------\u001b[0m",
      "\u001b[0;31mIndexError\u001b[0m                                Traceback (most recent call last)",
      "\u001b[0;32m<ipython-input-117-1942c8fb037d>\u001b[0m in \u001b[0;36m<module>\u001b[0;34m()\u001b[0m\n\u001b[1;32m      1\u001b[0m \u001b[0;32mfor\u001b[0m \u001b[0mfold\u001b[0m \u001b[0;32min\u001b[0m \u001b[0mxrange\u001b[0m\u001b[0;34m(\u001b[0m\u001b[0mn_folds\u001b[0m\u001b[0;34m)\u001b[0m\u001b[0;34m:\u001b[0m\u001b[0;34m\u001b[0m\u001b[0m\n\u001b[1;32m      2\u001b[0m     \u001b[0;32mfor\u001b[0m \u001b[0mtask\u001b[0m \u001b[0;32min\u001b[0m \u001b[0mxrange\u001b[0m\u001b[0;34m(\u001b[0m\u001b[0mn_tasks\u001b[0m\u001b[0;34m)\u001b[0m\u001b[0;34m:\u001b[0m\u001b[0;34m\u001b[0m\u001b[0m\n\u001b[0;32m----> 3\u001b[0;31m         \u001b[0mlatent_means\u001b[0m \u001b[0;34m=\u001b[0m \u001b[0mlatent_means_MT_Normal\u001b[0m\u001b[0;34m[\u001b[0m\u001b[0mfold\u001b[0m\u001b[0;34m]\u001b[0m\u001b[0;34m\u001b[0m\u001b[0m\n\u001b[0m\u001b[1;32m      4\u001b[0m         \u001b[0mlatent_vars\u001b[0m \u001b[0;34m=\u001b[0m \u001b[0mlatent_vars_MT_Normal\u001b[0m\u001b[0;34m[\u001b[0m\u001b[0mfold\u001b[0m\u001b[0;34m]\u001b[0m\u001b[0;34m\u001b[0m\u001b[0m\n\u001b[1;32m      5\u001b[0m         \u001b[0mmeans_w\u001b[0m \u001b[0;34m=\u001b[0m \u001b[0mnp\u001b[0m\u001b[0;34m.\u001b[0m\u001b[0mtranspose\u001b[0m\u001b[0;34m(\u001b[0m\u001b[0mmeans_w_MT_Normal\u001b[0m\u001b[0;34m[\u001b[0m\u001b[0mfold\u001b[0m\u001b[0;34m]\u001b[0m\u001b[0;34m)\u001b[0m\u001b[0;34m\u001b[0m\u001b[0m\n",
      "\u001b[0;31mIndexError\u001b[0m: index 1 is out of bounds for axis 0 with size 1"
     ]
    }
   ],
   "source": [
    "for fold in xrange(n_folds):\n",
    "    for task in xrange(n_tasks):\n",
    "        latent_means = latent_means_MT_Normal[fold]\n",
    "        latent_vars = latent_vars_MT_Normal[fold]\n",
    "        means_w = np.transpose(means_w_MT_Normal[fold])\n",
    "        vars_w = vars_w_MT_Normal[fold]\n",
    "        diagonal_variance = np.zeros((n_latent, n_tasks))\n",
    "        for q in xrange(n_latent):\n",
    "            diagonal_variance[q] = np.diagonal(vars_w[q])\n",
    "    \n",
    "        latent_fun_sample[fold] = np.random.normal(latent_means, np.sqrt(latent_vars), size = (n_samples, N_all, n_latent))\n",
    "        weights_sample[fold] = np.random.normal(means_w, np.transpose(np.sqrt(diagonal_variance)), size = (n_samples, n_tasks, n_latent))\n"
   ]
  },
  {
   "cell_type": "code",
   "execution_count": 118,
   "metadata": {},
   "outputs": [
    {
     "ename": "IndexError",
     "evalue": "index 1 is out of bounds for axis 0 with size 1",
     "output_type": "error",
     "traceback": [
      "\u001b[0;31m---------------------------------------------------------------------------\u001b[0m",
      "\u001b[0;31mIndexError\u001b[0m                                Traceback (most recent call last)",
      "\u001b[0;32m<ipython-input-118-bcef86106f02>\u001b[0m in \u001b[0;36m<module>\u001b[0;34m()\u001b[0m\n\u001b[1;32m      2\u001b[0m     \u001b[0;32mfor\u001b[0m \u001b[0mi\u001b[0m \u001b[0;32min\u001b[0m \u001b[0mxrange\u001b[0m\u001b[0;34m(\u001b[0m\u001b[0mn_samples\u001b[0m\u001b[0;34m)\u001b[0m\u001b[0;34m:\u001b[0m\u001b[0;34m\u001b[0m\u001b[0m\n\u001b[1;32m      3\u001b[0m         intensity_sample[fold, i] = np.exp(np.transpose(np.dot(weights_sample[fold, i],\n\u001b[0;32m----> 4\u001b[0;31m                                                                np.transpose(latent_fun_sample[fold, i]))) + offsets_MT_Normal[fold])\n\u001b[0m\u001b[1;32m      5\u001b[0m \u001b[0;34m\u001b[0m\u001b[0m\n",
      "\u001b[0;31mIndexError\u001b[0m: index 1 is out of bounds for axis 0 with size 1"
     ]
    }
   ],
   "source": [
    "for fold in xrange(n_folds):\n",
    "    for i in xrange(n_samples):\n",
    "        intensity_sample[fold, i] = np.exp(np.transpose(np.dot(weights_sample[fold, i],\n",
    "                                                               np.transpose(latent_fun_sample[fold, i]))) + offsets_MT_Normal[fold])\n",
    "    "
   ]
  },
  {
   "cell_type": "code",
   "execution_count": 119,
   "metadata": {},
   "outputs": [
    {
     "name": "stderr",
     "output_type": "stream",
     "text": [
      "/anaconda2/lib/python2.7/site-packages/numpy/core/_methods.py:117: RuntimeWarning: invalid value encountered in subtract\n",
      "  x = asanyarray(arr - arrmean)\n"
     ]
    }
   ],
   "source": [
    "for fold in xrange(n_folds):\n",
    "    for i in xrange(n_samples):\n",
    "        for task in xrange(n_tasks):\n",
    "            fold_task_subset = data_final_with_na[fold,:,task+2]\n",
    "            cond = np.logical_and(cell_inside, np.isnan(fold_task_subset).reshape(N,N)).reshape(N_all,1)[:,0]\n",
    "\n",
    "            true_counts =  outputs[cond,task]\n",
    "            pred_counts = intensity_sample[fold, i, :,task][cond]\n",
    "            if pred_counts.shape[0] == 0:\n",
    "                nlpl_fold_task[fold,i,task] = np.nan\n",
    "            else:\n",
    "                nlpl_fold_task[fold,i,task] = - np.sum(poisson.logpmf(true_counts, pred_counts))/pred_counts.shape[0]  \n",
    "\n",
    "for f in xrange(n_folds):\n",
    "    for t in xrange(n_tasks):\n",
    "#         print('f', f)\n",
    "#         print('t', t)\n",
    "        # This is computing the mean and std across S\n",
    "        first_std[f,t] = np.std(nlpl_fold_task[f, :, t][~np.isnan(nlpl_fold_task[f, :, t])])\n",
    "#         print('first_std', first_std[f,t])\n",
    "        first_mean[f,t] = np.mean(nlpl_fold_task[f, :, t][~np.isnan(nlpl_fold_task[f, :, t])])\n",
    "#         print('first_mean', first_mean[f,t])\n",
    "        \n",
    "for t in xrange(n_tasks):\n",
    "    # This is computing the mean and std across folds\n",
    "    std[t] = np.std(first_mean[:,t][~np.isnan(first_mean[:,t])]/mean_outputs[t])/np.sqrt(n_folds)\n",
    "    mean[t] = np.mean(first_mean[:,t][~np.isnan(first_mean[:,t])]/mean_outputs[t])\n",
    "\n"
   ]
  },
  {
   "cell_type": "code",
   "execution_count": 120,
   "metadata": {},
   "outputs": [
    {
     "data": {
      "text/plain": [
       "array([inf, inf, inf, inf, inf, inf, inf])"
      ]
     },
     "execution_count": 120,
     "metadata": {},
     "output_type": "execute_result"
    }
   ],
   "source": [
    "mean"
   ]
  },
  {
   "cell_type": "code",
   "execution_count": 121,
   "metadata": {},
   "outputs": [
    {
     "data": {
      "text/plain": [
       "array([nan, nan, nan, nan, nan, nan, nan])"
      ]
     },
     "execution_count": 121,
     "metadata": {},
     "output_type": "execute_result"
    }
   ],
   "source": [
    "std"
   ]
  },
  {
   "cell_type": "markdown",
   "metadata": {
    "collapsed": true
   },
   "source": [
    "# Costruct histograms for MT"
   ]
  },
  {
   "cell_type": "code",
   "execution_count": 81,
   "metadata": {},
   "outputs": [],
   "source": [
    "np.random.seed(1)"
   ]
  },
  {
   "cell_type": "code",
   "execution_count": 125,
   "metadata": {},
   "outputs": [
    {
     "ename": "ValueError",
     "evalue": "shape mismatch: objects cannot be broadcast to a single shape",
     "output_type": "error",
     "traceback": [
      "\u001b[0;31m---------------------------------------------------------------------------\u001b[0m",
      "\u001b[0;31mValueError\u001b[0m                                Traceback (most recent call last)",
      "\u001b[0;32m<ipython-input-125-e6ed5c9a7f7c>\u001b[0m in \u001b[0;36m<module>\u001b[0;34m()\u001b[0m\n\u001b[1;32m     22\u001b[0m         \u001b[0mvars_w\u001b[0m \u001b[0;34m=\u001b[0m \u001b[0mvars_w_MT_Normal\u001b[0m\u001b[0;34m[\u001b[0m\u001b[0mfold\u001b[0m\u001b[0;34m]\u001b[0m\u001b[0;34m\u001b[0m\u001b[0m\n\u001b[1;32m     23\u001b[0m         \u001b[0mlatent_fun_sample\u001b[0m\u001b[0;34m[\u001b[0m\u001b[0mfold\u001b[0m\u001b[0;34m]\u001b[0m \u001b[0;34m=\u001b[0m \u001b[0mnp\u001b[0m\u001b[0;34m.\u001b[0m\u001b[0mrandom\u001b[0m\u001b[0;34m.\u001b[0m\u001b[0mnormal\u001b[0m\u001b[0;34m(\u001b[0m\u001b[0mlatent_means\u001b[0m\u001b[0;34m,\u001b[0m \u001b[0mnp\u001b[0m\u001b[0;34m.\u001b[0m\u001b[0msqrt\u001b[0m\u001b[0;34m(\u001b[0m\u001b[0mlatent_vars\u001b[0m\u001b[0;34m)\u001b[0m\u001b[0;34m,\u001b[0m \u001b[0msize\u001b[0m \u001b[0;34m=\u001b[0m \u001b[0;34m(\u001b[0m\u001b[0mn_samples\u001b[0m\u001b[0;34m,\u001b[0m \u001b[0mN_all\u001b[0m\u001b[0;34m,\u001b[0m \u001b[0mn_latent\u001b[0m\u001b[0;34m)\u001b[0m\u001b[0;34m)\u001b[0m\u001b[0;34m\u001b[0m\u001b[0m\n\u001b[0;32m---> 24\u001b[0;31m         \u001b[0mweights_sample\u001b[0m\u001b[0;34m[\u001b[0m\u001b[0mfold\u001b[0m\u001b[0;34m]\u001b[0m \u001b[0;34m=\u001b[0m \u001b[0mnp\u001b[0m\u001b[0;34m.\u001b[0m\u001b[0mrandom\u001b[0m\u001b[0;34m.\u001b[0m\u001b[0mnormal\u001b[0m\u001b[0;34m(\u001b[0m\u001b[0mmeans_w\u001b[0m\u001b[0;34m,\u001b[0m \u001b[0mnp\u001b[0m\u001b[0;34m.\u001b[0m\u001b[0msqrt\u001b[0m\u001b[0;34m(\u001b[0m\u001b[0mvars_w\u001b[0m\u001b[0;34m)\u001b[0m\u001b[0;34m,\u001b[0m \u001b[0msize\u001b[0m \u001b[0;34m=\u001b[0m \u001b[0;34m(\u001b[0m\u001b[0mn_samples\u001b[0m\u001b[0;34m,\u001b[0m \u001b[0mn_tasks\u001b[0m\u001b[0;34m,\u001b[0m \u001b[0mn_latent\u001b[0m\u001b[0;34m)\u001b[0m\u001b[0;34m)\u001b[0m\u001b[0;34m\u001b[0m\u001b[0m\n\u001b[0m\u001b[1;32m     25\u001b[0m \u001b[0;34m\u001b[0m\u001b[0m\n\u001b[1;32m     26\u001b[0m \u001b[0;31m# Generate samples for the intensity\u001b[0m\u001b[0;34m\u001b[0m\u001b[0;34m\u001b[0m\u001b[0m\n",
      "\u001b[0;32mmtrand.pyx\u001b[0m in \u001b[0;36mmtrand.RandomState.normal\u001b[0;34m()\u001b[0m\n",
      "\u001b[0;32mmtrand.pyx\u001b[0m in \u001b[0;36mmtrand.cont2_array\u001b[0;34m()\u001b[0m\n",
      "\u001b[0;31mValueError\u001b[0m: shape mismatch: objects cannot be broadcast to a single shape"
     ]
    }
   ],
   "source": [
    "# Histograms for MT\n",
    "n_samples = 1\n",
    "divide = 1\n",
    "intensity_sample = np.zeros((n_folds, n_samples, N_all,n_tasks))\n",
    "latent_fun_sample = np.zeros((n_folds, n_samples, N_all,n_latent))\n",
    "weights_sample = np.zeros((n_folds, n_samples, n_tasks,n_latent))\n",
    "counts_to_aggregate = np.zeros((n_folds, n_samples, N_all,n_tasks))\n",
    "counts_alternative = np.zeros((n_folds, n_samples, n_tasks))\n",
    "\n",
    "\n",
    "counts_missing_to_aggregate = np.zeros((n_folds, (N_all/4), n_samples,n_tasks))\n",
    "counts_NONmissing_to_aggregate = np.zeros((n_folds, N_all-(N_all/4), n_samples,n_tasks))\n",
    "outputs_missing_to_aggregate = np.zeros((n_folds, N_all/4,n_tasks))\n",
    "\n",
    "\n",
    "# Sample from latent function and weights\n",
    "for fold in xrange(n_folds):\n",
    "    for task in xrange(n_tasks):\n",
    "        latent_means = latent_means_MT_Normal[fold]\n",
    "        latent_vars = latent_vars_MT_Normal[fold]\n",
    "        means_w = means_w_MT_Normal[fold]\n",
    "        vars_w = vars_w_MT_Normal[fold]\n",
    "        latent_fun_sample[fold] = np.random.normal(latent_means, np.sqrt(latent_vars), size = (n_samples, N_all, n_latent)) \n",
    "        weights_sample[fold] = np.random.normal(means_w, np.sqrt(vars_w), size = (n_samples, n_tasks, n_latent))\n",
    "\n",
    "# Generate samples for the intensity \n",
    "for fold in xrange(n_folds):\n",
    "    for i in xrange(n_samples):\n",
    "        intensity_sample[fold, i] = np.exp(np.transpose(np.dot(weights_sample[fold, i],\n",
    "                                                               np.transpose(latent_fun_sample[fold, i]))) + offsets_MT_Normal[fold])\n",
    "\n",
    "# Sample from Poisson with generated intensity and aggregates counts per cells to have overall\n",
    "# number of events in the area\n",
    "for fold in xrange(n_folds):\n",
    "    for i in xrange(n_samples):\n",
    "        for t in xrange(n_tasks):\n",
    "            #print('lambda', intensity_sample[fold, i,:,t])\n",
    "            #print('lambda2', np.sum(intensity_sample, axis = 2))\n",
    "            counts_to_aggregate[fold, i,:,t] = np.random.poisson(intensity_sample[fold, i,:,t]/divide)\n",
    "counts = np.sum(counts_to_aggregate, axis = 2)\n",
    "\n",
    "# Sample from Poisson(sum lambda)\n",
    "sum_intensity = np.sum(intensity_sample, axis = 2)\n",
    "for fold in xrange(n_folds):\n",
    "    for i in xrange(n_samples):\n",
    "        for t in xrange(n_tasks):\n",
    "            #print('lambda', sum_intensity[fold, i, t])\n",
    "            counts_alternative[fold, i, t] = np.random.poisson(sum_intensity[fold, i, t]/divide)\n",
    "\n",
    "\n",
    "\n",
    "\n",
    "# Aggregate only events for the missing data region \n",
    "for fold in xrange(n_folds):\n",
    "    for task in xrange(n_tasks):        \n",
    "        counts_missing_to_aggregate[fold, :,:,task] = counts_to_aggregate[fold,:,np.isnan(data_final_with_na[fold,:,task + 2]),task]\n",
    "        counts_NONmissing_to_aggregate[fold, :,:,task] = counts_to_aggregate[fold,:,~np.isnan(data_final_with_na[fold,:,task + 2]),task]\n",
    "\n",
    "counts_missing_region = np.sum(counts_missing_to_aggregate, axis = 1)/divide\n",
    "counts_NONmissing_region = np.sum(counts_NONmissing_to_aggregate, axis = 1)\n",
    "\n",
    "# Select data for the missing data region \n",
    "for fold in xrange(n_folds):\n",
    "    for task in xrange(n_tasks):\n",
    "        output_missing = outputs[np.isnan(data_final_with_na[fold,:,2+task]), task]\n",
    "        #output_missing = output_missing.reshape(N_all/4,n_tasks)\n",
    "        outputs_missing_to_aggregate[fold,:,task] = output_missing"
   ]
  },
  {
   "cell_type": "code",
   "execution_count": 126,
   "metadata": {},
   "outputs": [],
   "source": [
    "# Plot histogram for ICM\n",
    "mu = np.load('../Data/crime_experiments/posterior_mean.npy')\n",
    "var = np.load('../Data/crime_experiments/posterior_var.npy')\n"
   ]
  },
  {
   "cell_type": "code",
   "execution_count": 127,
   "metadata": {},
   "outputs": [],
   "source": [
    "# Histograms for ICM\n",
    "n_samples = 1000\n",
    "divide = 1\n",
    "intensity_sample = np.zeros((n_folds, n_samples, N_all,n_tasks))\n",
    "latent_fun_sample = np.zeros((n_folds, n_samples, N_all,n_latent))\n",
    "weights_sample = np.zeros((n_folds, n_samples, n_tasks,n_latent))\n",
    "counts_to_aggregate = np.zeros((n_folds, n_samples, N_all,n_tasks))\n",
    "counts_alternative = np.zeros((n_folds, n_samples, n_tasks))\n",
    "\n",
    "\n",
    "counts_missing_to_aggregate = np.zeros((n_folds, (N_all/4), n_samples,n_tasks))\n",
    "outputs_missing_to_aggregate = np.zeros((n_folds, N_all/4,n_tasks))\n",
    "outputs_NONmissing_to_aggregate = np.zeros((n_folds,N_all- N_all/4,n_tasks))\n",
    "\n",
    "# Simulate from the log normal with mean m_f and variance sigma_f\n",
    "# This gives sample for the intensity \n",
    "\n",
    "for fold in xrange(n_folds):\n",
    "    for i in xrange(n_samples):\n",
    "        latent_means = mu[fold]\n",
    "        latent_vars = var[fold]\n",
    "        intensity_sample[fold, i] = np.random.lognormal(mean=latent_means, sigma=np.sqrt(latent_vars))\n",
    "        \n",
    "# Simulate the counts\n",
    "for fold in xrange(n_folds):\n",
    "    for i in xrange(n_samples):\n",
    "         counts_to_aggregate[fold, i] = np.random.poisson(intensity_sample[fold, i])\n",
    "counts = np.sum(counts_to_aggregate, axis = 2) "
   ]
  },
  {
   "cell_type": "code",
   "execution_count": 128,
   "metadata": {},
   "outputs": [
    {
     "ename": "ValueError",
     "evalue": "could not broadcast input array from shape (768,1000) into shape (768,1)",
     "output_type": "error",
     "traceback": [
      "\u001b[0;31m---------------------------------------------------------------------------\u001b[0m",
      "\u001b[0;31mValueError\u001b[0m                                Traceback (most recent call last)",
      "\u001b[0;32m<ipython-input-128-9d34bfff1f63>\u001b[0m in \u001b[0;36m<module>\u001b[0;34m()\u001b[0m\n\u001b[1;32m      4\u001b[0m     \u001b[0;32mfor\u001b[0m \u001b[0mtask\u001b[0m \u001b[0;32min\u001b[0m \u001b[0mxrange\u001b[0m\u001b[0;34m(\u001b[0m\u001b[0mn_tasks\u001b[0m\u001b[0;34m)\u001b[0m\u001b[0;34m:\u001b[0m\u001b[0;34m\u001b[0m\u001b[0m\n\u001b[1;32m      5\u001b[0m         \u001b[0mcounts_missing_to_aggregate\u001b[0m\u001b[0;34m[\u001b[0m\u001b[0mfold\u001b[0m\u001b[0;34m,\u001b[0m \u001b[0;34m:\u001b[0m\u001b[0;34m,\u001b[0m\u001b[0;34m:\u001b[0m\u001b[0;34m,\u001b[0m\u001b[0mtask\u001b[0m\u001b[0;34m]\u001b[0m \u001b[0;34m=\u001b[0m \u001b[0mcounts_to_aggregate\u001b[0m\u001b[0;34m[\u001b[0m\u001b[0mfold\u001b[0m\u001b[0;34m,\u001b[0m\u001b[0;34m:\u001b[0m\u001b[0;34m,\u001b[0m\u001b[0mnp\u001b[0m\u001b[0;34m.\u001b[0m\u001b[0misnan\u001b[0m\u001b[0;34m(\u001b[0m\u001b[0mdata_final_with_na\u001b[0m\u001b[0;34m[\u001b[0m\u001b[0mfold\u001b[0m\u001b[0;34m,\u001b[0m\u001b[0;34m:\u001b[0m\u001b[0;34m,\u001b[0m\u001b[0mtask\u001b[0m \u001b[0;34m+\u001b[0m \u001b[0;36m2\u001b[0m\u001b[0;34m]\u001b[0m\u001b[0;34m)\u001b[0m\u001b[0;34m,\u001b[0m\u001b[0mtask\u001b[0m\u001b[0;34m]\u001b[0m\u001b[0;34m\u001b[0m\u001b[0m\n\u001b[0;32m----> 6\u001b[0;31m         \u001b[0mcounts_NONmissing_to_aggregate\u001b[0m\u001b[0;34m[\u001b[0m\u001b[0mfold\u001b[0m\u001b[0;34m,\u001b[0m \u001b[0;34m:\u001b[0m\u001b[0;34m,\u001b[0m\u001b[0;34m:\u001b[0m\u001b[0;34m,\u001b[0m\u001b[0mtask\u001b[0m\u001b[0;34m]\u001b[0m \u001b[0;34m=\u001b[0m \u001b[0mcounts_to_aggregate\u001b[0m\u001b[0;34m[\u001b[0m\u001b[0mfold\u001b[0m\u001b[0;34m,\u001b[0m\u001b[0;34m:\u001b[0m\u001b[0;34m,\u001b[0m\u001b[0;34m~\u001b[0m\u001b[0mnp\u001b[0m\u001b[0;34m.\u001b[0m\u001b[0misnan\u001b[0m\u001b[0;34m(\u001b[0m\u001b[0mdata_final_with_na\u001b[0m\u001b[0;34m[\u001b[0m\u001b[0mfold\u001b[0m\u001b[0;34m,\u001b[0m\u001b[0;34m:\u001b[0m\u001b[0;34m,\u001b[0m\u001b[0mtask\u001b[0m \u001b[0;34m+\u001b[0m \u001b[0;36m2\u001b[0m\u001b[0;34m]\u001b[0m\u001b[0;34m)\u001b[0m\u001b[0;34m,\u001b[0m\u001b[0mtask\u001b[0m\u001b[0;34m]\u001b[0m\u001b[0;34m\u001b[0m\u001b[0m\n\u001b[0m\u001b[1;32m      7\u001b[0m \u001b[0;34m\u001b[0m\u001b[0m\n\u001b[1;32m      8\u001b[0m \u001b[0;34m\u001b[0m\u001b[0m\n",
      "\u001b[0;31mValueError\u001b[0m: could not broadcast input array from shape (768,1000) into shape (768,1)"
     ]
    }
   ],
   "source": [
    "# Subset the counts to aggregate\n",
    "# Aggregate only events for the missing data region \n",
    "for fold in xrange(n_folds):\n",
    "    for task in xrange(n_tasks):        \n",
    "        counts_missing_to_aggregate[fold, :,:,task] = counts_to_aggregate[fold,:,np.isnan(data_final_with_na[fold,:,task + 2]),task]\n",
    "        counts_NONmissing_to_aggregate[fold, :,:,task] = counts_to_aggregate[fold,:,~np.isnan(data_final_with_na[fold,:,task + 2]),task]\n",
    "\n",
    "\n",
    "counts_missing_region = np.sum(counts_missing_to_aggregate, axis = 1)\n",
    "counts_NONmissing_region = np.sum(counts_NONmissing_to_aggregate, axis = 1)"
   ]
  },
  {
   "cell_type": "code",
   "execution_count": 129,
   "metadata": {},
   "outputs": [],
   "source": [
    "# Select data for the missing data region \n",
    "for fold in xrange(n_folds):\n",
    "    for task in xrange(n_tasks):\n",
    "        output_missing = outputs[np.isnan(data_final_with_na[fold,:,2+task]), task]\n",
    "        output_NONmissing = outputs[~np.isnan(data_final_with_na[fold,:,2+task]), task]\n",
    "        \n",
    "        #output_missing = output_missing.reshape(N_all/4,n_tasks)\n",
    "        outputs_missing_to_aggregate[fold,:,task] = output_missing\n",
    "        outputs_NONmissing_to_aggregate[fold,:,task] = output_NONmissing"
   ]
  },
  {
   "cell_type": "code",
   "execution_count": 130,
   "metadata": {},
   "outputs": [],
   "source": [
    "task = 0\n",
    "fold = 0 \n",
    "counts_observed = np.sum(outputs, axis = 0)\n",
    "counts_missing = np.sum(outputs_missing_to_aggregate, axis = 1)\n",
    "counts_NONmissing = np.sum(outputs_NONmissing_to_aggregate, axis = 1)\n",
    "\n",
    "intensity_aggregated = np.sum(intensity_sample, axis = 2)"
   ]
  },
  {
   "cell_type": "code",
   "execution_count": 131,
   "metadata": {},
   "outputs": [
    {
     "ename": "NameError",
     "evalue": "name 'counts_missing_region' is not defined",
     "output_type": "error",
     "traceback": [
      "\u001b[0;31m---------------------------------------------------------------------------\u001b[0m",
      "\u001b[0;31mNameError\u001b[0m                                 Traceback (most recent call last)",
      "\u001b[0;32m<ipython-input-131-38e8d168549f>\u001b[0m in \u001b[0;36m<module>\u001b[0;34m()\u001b[0m\n\u001b[0;32m----> 1\u001b[0;31m \u001b[0mICM_counts_missing\u001b[0m \u001b[0;34m=\u001b[0m  \u001b[0mcounts_missing_region\u001b[0m\u001b[0;34m\u001b[0m\u001b[0m\n\u001b[0m\u001b[1;32m      2\u001b[0m \u001b[0mICM_counts_NONmissing\u001b[0m \u001b[0;34m=\u001b[0m \u001b[0mcounts_NONmissing_region\u001b[0m\u001b[0;34m\u001b[0m\u001b[0m\n",
      "\u001b[0;31mNameError\u001b[0m: name 'counts_missing_region' is not defined"
     ]
    }
   ],
   "source": [
    "ICM_counts_missing =  counts_missing_region\n",
    "ICM_counts_NONmissing = counts_NONmissing_region"
   ]
  },
  {
   "cell_type": "code",
   "execution_count": 132,
   "metadata": {},
   "outputs": [
    {
     "ename": "NameError",
     "evalue": "name 'LGCPN_counts_non_missing' is not defined",
     "output_type": "error",
     "traceback": [
      "\u001b[0;31m---------------------------------------------------------------------------\u001b[0m",
      "\u001b[0;31mNameError\u001b[0m                                 Traceback (most recent call last)",
      "\u001b[0;32m<ipython-input-132-53197d1267ff>\u001b[0m in \u001b[0;36m<module>\u001b[0;34m()\u001b[0m\n\u001b[1;32m      9\u001b[0m \u001b[0mvertical_line_wid\u001b[0m \u001b[0;34m=\u001b[0m \u001b[0;36m2.5\u001b[0m\u001b[0;34m\u001b[0m\u001b[0m\n\u001b[1;32m     10\u001b[0m \u001b[0;34m\u001b[0m\u001b[0m\n\u001b[0;32m---> 11\u001b[0;31m \u001b[0mn\u001b[0m\u001b[0;34m,\u001b[0m \u001b[0mb\u001b[0m\u001b[0;34m,\u001b[0m \u001b[0mp\u001b[0m \u001b[0;34m=\u001b[0m \u001b[0max\u001b[0m\u001b[0;34m[\u001b[0m\u001b[0;36m0\u001b[0m\u001b[0;34m]\u001b[0m\u001b[0;34m.\u001b[0m\u001b[0mhist\u001b[0m\u001b[0;34m(\u001b[0m\u001b[0mLGCPN_counts_non_missing\u001b[0m\u001b[0;34m[\u001b[0m\u001b[0mfold\u001b[0m\u001b[0;34m,\u001b[0m \u001b[0;34m:\u001b[0m\u001b[0;34m,\u001b[0m \u001b[0mtask\u001b[0m\u001b[0;34m]\u001b[0m\u001b[0;34m,\u001b[0m \u001b[0;36m100\u001b[0m\u001b[0;34m,\u001b[0m \u001b[0malpha\u001b[0m\u001b[0;34m=\u001b[0m\u001b[0;36m0.75\u001b[0m\u001b[0;34m,\u001b[0m \u001b[0mcolor\u001b[0m\u001b[0;34m=\u001b[0m\u001b[0;34m'w'\u001b[0m\u001b[0;34m,\u001b[0m \u001b[0medgecolor\u001b[0m\u001b[0;34m=\u001b[0m\u001b[0;34m'k'\u001b[0m\u001b[0;34m)\u001b[0m\u001b[0;34m\u001b[0m\u001b[0m\n\u001b[0m\u001b[1;32m     12\u001b[0m \u001b[0max\u001b[0m\u001b[0;34m[\u001b[0m\u001b[0;36m0\u001b[0m\u001b[0;34m]\u001b[0m\u001b[0;34m.\u001b[0m\u001b[0maxvline\u001b[0m\u001b[0;34m(\u001b[0m\u001b[0mcounts_NONmissing\u001b[0m\u001b[0;34m[\u001b[0m\u001b[0mfold\u001b[0m\u001b[0;34m,\u001b[0m \u001b[0mtask\u001b[0m\u001b[0;34m]\u001b[0m\u001b[0;34m,\u001b[0m \u001b[0mcolor\u001b[0m\u001b[0;34m=\u001b[0m\u001b[0mcolor_line_obs\u001b[0m\u001b[0;34m,\u001b[0m \u001b[0mlinewidth\u001b[0m\u001b[0;34m=\u001b[0m\u001b[0mvertical_line_wid\u001b[0m\u001b[0;34m,\u001b[0m \u001b[0mlabel\u001b[0m\u001b[0;34m=\u001b[0m\u001b[0;34m'Observed N'\u001b[0m\u001b[0;34m)\u001b[0m\u001b[0;34m\u001b[0m\u001b[0m\n\u001b[1;32m     13\u001b[0m \u001b[0max\u001b[0m\u001b[0;34m[\u001b[0m\u001b[0;36m0\u001b[0m\u001b[0;34m]\u001b[0m\u001b[0;34m.\u001b[0m\u001b[0maxvline\u001b[0m\u001b[0;34m(\u001b[0m\u001b[0mnp\u001b[0m\u001b[0;34m.\u001b[0m\u001b[0mpercentile\u001b[0m\u001b[0;34m(\u001b[0m\u001b[0mLGCPN_counts_non_missing\u001b[0m\u001b[0;34m[\u001b[0m\u001b[0mfold\u001b[0m\u001b[0;34m,\u001b[0m \u001b[0;34m:\u001b[0m\u001b[0;34m,\u001b[0m \u001b[0mtask\u001b[0m\u001b[0;34m]\u001b[0m\u001b[0;34m,\u001b[0m \u001b[0;36m95\u001b[0m\u001b[0;34m)\u001b[0m\u001b[0;34m,\u001b[0m \u001b[0mcolor\u001b[0m\u001b[0;34m=\u001b[0m\u001b[0;34m'r'\u001b[0m\u001b[0;34m,\u001b[0m \u001b[0mlinestyle\u001b[0m\u001b[0;34m=\u001b[0m\u001b[0;34m'dashed'\u001b[0m\u001b[0;34m,\u001b[0m \u001b[0mlinewidth\u001b[0m\u001b[0;34m=\u001b[0m\u001b[0mvertical_line_wid\u001b[0m\u001b[0;34m)\u001b[0m\u001b[0;34m\u001b[0m\u001b[0m\n",
      "\u001b[0;31mNameError\u001b[0m: name 'LGCPN_counts_non_missing' is not defined"
     ]
    },
    {
     "data": {
      "image/png": "[encoded data removed]",
      "text/plain": [
       "<Figure size 1080x360 with 4 Axes>"
      ]
     },
     "metadata": {
      "needs_background": "light"
     },
     "output_type": "display_data"
    }
   ],
   "source": [
    "fig, ax = plt.subplots(1,4)\n",
    "fig.set_figheight(5)\n",
    "fig.set_figwidth(15)\n",
    "fig.subplots_adjust(hspace=0.02)\n",
    "fig.subplots_adjust(wspace=0.02)\n",
    "label_size = 11\n",
    "color_line_mean = 'black'\n",
    "color_line_obs = 'lime'\n",
    "vertical_line_wid = 2.5\n",
    "\n",
    "n, b, p = ax[0].hist(LGCPN_counts_non_missing[fold, :, task], 100, alpha=0.75, color='w', edgecolor='k')\n",
    "ax[0].axvline(counts_NONmissing[fold, task], color=color_line_obs, linewidth=vertical_line_wid, label='Observed N')\n",
    "ax[0].axvline(np.percentile(LGCPN_counts_non_missing[fold, :, task], 95), color='r', linestyle='dashed', linewidth=vertical_line_wid)\n",
    "ax[0].axvline(np.percentile(LGCPN_counts_non_missing[fold, :, task], 5), color='r', linestyle='dashed', linewidth=vertical_line_wid, label='90% CI')\n",
    "ax[0].axvline(np.percentile(LGCPN_counts_non_missing[fold, :, task], 50), color=color_line_mean, linestyle='dashed', linewidth=vertical_line_wid, label='Post. mean')\n",
    "ax[0].set_yticks([]) \n",
    "#ax[0].set_xlim([8000,16000])\n",
    "ax[0].legend(loc=8)\n",
    "ax[0].tick_params(axis = 'both', which = 'major', labelsize = label_size)\n",
    "ax[0].set_title(r\"MCPM  \" r'$p(N|\\mathcal{D})$')\n",
    "\n",
    "ax[1].hist(ICM_counts_NONmissing[fold, :, task], 100, alpha=0.75, color='w', edgecolor='k')\n",
    "ax[1].axvline(counts_NONmissing[fold, task], color=color_line_obs, linewidth=vertical_line_wid, label='Observed N')\n",
    "ax[1].axvline(np.percentile(ICM_counts_NONmissing[fold, :, task], 95), color='r', linestyle='dashed', linewidth=vertical_line_wid)\n",
    "ax[1].axvline(np.percentile(ICM_counts_NONmissing[fold, :, task], 5), color='r', linestyle='dashed', linewidth=vertical_line_wid, label='90% CI')\n",
    "ax[1].axvline(np.percentile(ICM_counts_NONmissing[fold, :, task], 50), color=color_line_mean, linestyle='dashed', linewidth=vertical_line_wid, label='Post. mean')\n",
    "ax[1].set_yticks([]) \n",
    "ax[1].tick_params(axis = 'both', which = 'major', labelsize = label_size)\n",
    "ax[1].set_title(r\"ICM  \" r'$p(N|\\mathcal{D})$')\n",
    "ax[1].legend(loc=8)\n",
    "\n",
    "\n",
    "ax[2].hist(LGCPN_counts_missing[fold, :, task], 100, alpha=0.75, color='w', edgecolor='k')\n",
    "ax[2].axvline(counts_missing[fold, task], color=color_line_obs, linewidth=vertical_line_wid, label='Observed N')\n",
    "ax[2].axvline(np.percentile(LGCPN_counts_missing[fold, :, task], 95), color='r', linestyle='dashed', linewidth=vertical_line_wid)\n",
    "ax[2].axvline(np.percentile(LGCPN_counts_missing[fold, :, task], 5), color='r', linestyle='dashed', linewidth=vertical_line_wid, label='90% CI')\n",
    "ax[2].axvline(np.percentile(LGCPN_counts_missing[fold, :, task], 50), color=color_line_mean, linestyle='dashed', linewidth=vertical_line_wid, label='Post. mean')\n",
    "ax[2].set_yticks([])\n",
    "ax[2].legend(loc=8)\n",
    "ax[2].tick_params(axis = 'both', which = 'major', labelsize = label_size)\n",
    "ax[2].set_title(r\"MCPM  \" r'$p(N^*|\\mathcal{D})$')\n",
    "\n",
    "\n",
    "ax[0].xaxis.set_ticks(np.arange(10500, 14000, 1000))\n",
    "ax[1].xaxis.set_ticks(np.arange(10500, 14000, 1000))\n",
    "ax[2].xaxis.set_ticks(np.arange(900, 2000, 300))\n",
    "ax[3].xaxis.set_ticks(np.arange(900, 2000, 300))\n",
    "\n",
    "ax[0].set_xlim(10000,14000)\n",
    "ax[1].set_xlim(10000,14000)\n",
    "ax[2].set_xlim(800,2000)\n",
    "ax[3].set_xlim(800,2000)\n",
    "\n",
    "\n",
    "\n",
    "ax[3].hist(ICM_counts_missing[fold, :, task], 100, alpha=0.75, color='w', edgecolor='k')\n",
    "ax[3].axvline(counts_missing[fold, task], color=color_line_obs, linewidth=vertical_line_wid, label='Observed N')\n",
    "ax[3].axvline(np.percentile(ICM_counts_missing[fold, :, task], 95), color='r', linestyle='dashed', linewidth=vertical_line_wid)\n",
    "ax[3].axvline(np.percentile(ICM_counts_missing[fold, :, task], 5), color='r', linestyle='dashed', linewidth=vertical_line_wid, label='90% CI')\n",
    "ax[3].axvline(np.percentile(ICM_counts_missing[fold, :, task], 50), color=color_line_mean, linestyle='dashed', linewidth=vertical_line_wid, label='Post. mean')\n",
    "ax[3].set_yticks([]) \n",
    "# axs[i].set_xticks([])\n",
    "ax[3].legend(loc=8)\n",
    "ax[3].tick_params(axis = 'both', which = 'major', labelsize = label_size)\n",
    "ax[3].set_title(r\"ICM  \" r'$p(N^*|\\mathcal{D})$')\n",
    "#ax[3].xaxis.set_ticks(np.arange(900, 1200, 200))\n",
    "\n",
    "\n",
    "#fontsize=40\n",
    "#name = \"Histograms_icm_lgcpn_crime\" + str(cmap)\n",
    "#fig.savefig(name + '.png')\n",
    "plt.show()"
   ]
  },
  {
   "cell_type": "code",
   "execution_count": null,
   "metadata": {},
   "outputs": [],
   "source": []
  }
 ],
 "metadata": {
  "kernelspec": {
   "display_name": "Python 2",
   "language": "python",
   "name": "python2"
  },
  "language_info": {
   "codemirror_mode": {
    "name": "ipython",
    "version": 2
   },
   "file_extension": ".py",
   "mimetype": "text/x-python",
   "name": "python",
   "nbconvert_exporter": "python",
   "pygments_lexer": "ipython2",
   "version": "2.7.15"
  }
 },
 "nbformat": 4,
 "nbformat_minor": 2
}
