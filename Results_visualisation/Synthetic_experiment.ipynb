{
 "cells": [
  {
   "cell_type": "code",
   "execution_count": 1,
   "metadata": {},
   "outputs": [],
   "source": [
    "import matplotlib.pyplot as plt\n",
    "import numpy as np\n",
    "import scipy \n",
    "import random\n",
    "import math\n",
    "import csv\n",
    "from scipy.stats import poisson \n",
    "from scipy.integrate import quad\n",
    "import sklearn.metrics.pairwise as sk"
   ]
  },
  {
   "cell_type": "markdown",
   "metadata": {},
   "source": [
    "# Set the parameters and import the data"
   ]
  },
  {
   "cell_type": "code",
   "execution_count": 2,
   "metadata": {},
   "outputs": [],
   "source": [
    "N_all = 200\n",
    "n_tasks = 4\n",
    "n_latent = 2\n",
    "n_missing_values = 50\n",
    "n_folds = 1\n",
    "epochs = 500\n",
    "plot_interpolation = \"None\"\n",
    "missing_experiment = True\n",
    "folder = '../Data/synthetic_experiments/'"
   ]
  },
  {
   "cell_type": "code",
   "execution_count": 15,
   "metadata": {},
   "outputs": [],
   "source": [
    "# Data\n",
    "outputs_txt = np.loadtxt('../Data/synthetic_experiments/outputs')\n",
    "inputs = np.loadtxt('../Data/synthetic_experiments/inputs')\n",
    "intensities = np.transpose(np.loadtxt('../Data/synthetic_experiments/sample_intensity')) \n",
    "weights_data_task_noisy = np.load('../Data/synthetic_experiments/weights_data_task_noisy.npy')\n",
    "process_values_noisy = np.load('../Data/synthetic_experiments/process_values_noisy.npy')\n",
    "offset_data_noisy = np.load('../Data/synthetic_experiments/offset_data_noisy.npy')\n",
    "\n",
    "nelbo_values = np.load('../Data/synthetic_experiments/nelbo_values_Normal_LGCP_False10.npy')"
   ]
  },
  {
   "cell_type": "code",
   "execution_count": 4,
   "metadata": {},
   "outputs": [],
   "source": [
    "outputs_noMissing = np.load('../Data/synthetic_experiments/outputs_noMissing.npy')\n",
    "outputs = np.load('../Data/synthetic_experiments/outputs.npy')\n",
    "inputs = np.load('../Data/synthetic_experiments/inputs.npy')\n",
    "intensities = np.transpose(np.load('../Data/synthetic_experiments/sample_intensity.npy'))[0] + 15\n",
    "original_inputs = np.load('../Data/synthetic_experiments/original_inputs_synthetic.npy')"
   ]
  },
  {
   "cell_type": "code",
   "execution_count": 5,
   "metadata": {},
   "outputs": [],
   "source": [
    "random_noise_vector = np.load('../Data/synthetic_experiments/random_noise_vector.npy')"
   ]
  },
  {
   "cell_type": "code",
   "execution_count": 6,
   "metadata": {},
   "outputs": [],
   "source": [
    "# Results for ST\n",
    "final_dataset_ST_Normal = np.load(folder + 'final_dataset_Normal_LGCP_'+ str(missing_experiment)+'.npy')[0]\n",
    "latent_means_ST_Normal = np.load(folder + 'latent_means_Normal_LGCP_'+str(missing_experiment)+'.npy')[0]\n",
    "latent_vars_ST_Normal = np.load(folder + 'latent_variances_Normal_LGCP_'+str(missing_experiment)+'.npy')[0]\n",
    "means_w_ST_Normal = np.load(folder + 'means_weights_Normal_LGCP_'+str(missing_experiment)+'.npy')[0]\n",
    "vars_w_ST_Normal = np.load(folder + 'covars_weights_Normal_LGCP_'+str(missing_experiment)+'.npy')[0]\n",
    "offsets_ST_Normal = np.load(folder + 'offsets_Normal_LGCP_'+str(missing_experiment)+'.npy')[0]"
   ]
  },
  {
   "cell_type": "code",
   "execution_count": 7,
   "metadata": {},
   "outputs": [],
   "source": [
    "# Results for MT Normal\n",
    "final_dataset_MT_Normal = np.load(folder + 'final_dataset_Normal_MCPM_'+ str(missing_experiment)+'.npy')[0]\n",
    "latent_means_MT_Normal = np.load(folder + 'latent_means_Normal_MCPM_'+str(missing_experiment)+'.npy')\n",
    "latent_vars_MT_Normal = np.load(folder + 'latent_variances_Normal_MCPM_'+str(missing_experiment)+'.npy')\n",
    "means_w_MT_Normal = np.load(folder + 'means_weights_Normal_MCPM_'+str(missing_experiment)+'.npy')\n",
    "vars_w_MT_Normal = np.load(folder + 'covars_weights_Normal_MCPM_'+str(missing_experiment)+'.npy')\n",
    "offsets_MT_Normal = np.load(folder + 'offsets_Normal_MCPM_'+str(missing_experiment)+'.npy')"
   ]
  },
  {
   "cell_type": "code",
   "execution_count": 8,
   "metadata": {},
   "outputs": [
    {
     "ename": "FileNotFoundError",
     "evalue": "[Errno 2] No such file or directory: '../Data/synthetic_experiments/final_dataset_GP_MCPM_True.npy'",
     "output_type": "error",
     "traceback": [
      "\u001b[0;31m---------------------------------------------------------------------------\u001b[0m",
      "\u001b[0;31mFileNotFoundError\u001b[0m                         Traceback (most recent call last)",
      "\u001b[0;32m<ipython-input-8-86c96be9eea9>\u001b[0m in \u001b[0;36m<module>\u001b[0;34m\u001b[0m\n\u001b[1;32m      1\u001b[0m \u001b[0;31m# Results for MT GP\u001b[0m\u001b[0;34m\u001b[0m\u001b[0;34m\u001b[0m\u001b[0;34m\u001b[0m\u001b[0m\n\u001b[0;32m----> 2\u001b[0;31m \u001b[0mfinal_dataset_MT_GP\u001b[0m \u001b[0;34m=\u001b[0m \u001b[0mnp\u001b[0m\u001b[0;34m.\u001b[0m\u001b[0mload\u001b[0m\u001b[0;34m(\u001b[0m\u001b[0mfolder\u001b[0m \u001b[0;34m+\u001b[0m \u001b[0;34m'final_dataset_GP_MCPM_'\u001b[0m\u001b[0;34m+\u001b[0m \u001b[0mstr\u001b[0m\u001b[0;34m(\u001b[0m\u001b[0mmissing_experiment\u001b[0m\u001b[0;34m)\u001b[0m\u001b[0;34m+\u001b[0m\u001b[0;34m'.npy'\u001b[0m\u001b[0;34m)\u001b[0m\u001b[0;34m[\u001b[0m\u001b[0;36m0\u001b[0m\u001b[0;34m]\u001b[0m\u001b[0;34m\u001b[0m\u001b[0;34m\u001b[0m\u001b[0m\n\u001b[0m\u001b[1;32m      3\u001b[0m \u001b[0mlatent_means_MT_GP\u001b[0m \u001b[0;34m=\u001b[0m \u001b[0mnp\u001b[0m\u001b[0;34m.\u001b[0m\u001b[0mload\u001b[0m\u001b[0;34m(\u001b[0m\u001b[0mfolder\u001b[0m \u001b[0;34m+\u001b[0m \u001b[0;34m'latent_means_GP_MCPM_'\u001b[0m\u001b[0;34m+\u001b[0m\u001b[0mstr\u001b[0m\u001b[0;34m(\u001b[0m\u001b[0mmissing_experiment\u001b[0m\u001b[0;34m)\u001b[0m\u001b[0;34m+\u001b[0m\u001b[0;34m'.npy'\u001b[0m\u001b[0;34m)\u001b[0m\u001b[0;34m\u001b[0m\u001b[0;34m\u001b[0m\u001b[0m\n\u001b[1;32m      4\u001b[0m \u001b[0mlatent_vars_MT_GP\u001b[0m \u001b[0;34m=\u001b[0m \u001b[0mnp\u001b[0m\u001b[0;34m.\u001b[0m\u001b[0mload\u001b[0m\u001b[0;34m(\u001b[0m\u001b[0mfolder\u001b[0m \u001b[0;34m+\u001b[0m \u001b[0;34m'latent_variances_GP_MCPM_'\u001b[0m\u001b[0;34m+\u001b[0m\u001b[0mstr\u001b[0m\u001b[0;34m(\u001b[0m\u001b[0mmissing_experiment\u001b[0m\u001b[0;34m)\u001b[0m\u001b[0;34m+\u001b[0m\u001b[0;34m'.npy'\u001b[0m\u001b[0;34m)\u001b[0m\u001b[0;34m\u001b[0m\u001b[0;34m\u001b[0m\u001b[0m\n\u001b[1;32m      5\u001b[0m \u001b[0mmeans_w_MT_GP\u001b[0m \u001b[0;34m=\u001b[0m \u001b[0mnp\u001b[0m\u001b[0;34m.\u001b[0m\u001b[0mload\u001b[0m\u001b[0;34m(\u001b[0m\u001b[0mfolder\u001b[0m \u001b[0;34m+\u001b[0m \u001b[0;34m'means_weights_GP_MCPM_'\u001b[0m\u001b[0;34m+\u001b[0m\u001b[0mstr\u001b[0m\u001b[0;34m(\u001b[0m\u001b[0mmissing_experiment\u001b[0m\u001b[0;34m)\u001b[0m\u001b[0;34m+\u001b[0m\u001b[0;34m'.npy'\u001b[0m\u001b[0;34m)\u001b[0m\u001b[0;34m\u001b[0m\u001b[0;34m\u001b[0m\u001b[0m\n",
      "\u001b[0;32m~/anaconda3/lib/python3.7/site-packages/numpy/lib/npyio.py\u001b[0m in \u001b[0;36mload\u001b[0;34m(file, mmap_mode, allow_pickle, fix_imports, encoding)\u001b[0m\n\u001b[1;32m    413\u001b[0m         \u001b[0mown_fid\u001b[0m \u001b[0;34m=\u001b[0m \u001b[0;32mFalse\u001b[0m\u001b[0;34m\u001b[0m\u001b[0;34m\u001b[0m\u001b[0m\n\u001b[1;32m    414\u001b[0m     \u001b[0;32melse\u001b[0m\u001b[0;34m:\u001b[0m\u001b[0;34m\u001b[0m\u001b[0;34m\u001b[0m\u001b[0m\n\u001b[0;32m--> 415\u001b[0;31m         \u001b[0mfid\u001b[0m \u001b[0;34m=\u001b[0m \u001b[0mopen\u001b[0m\u001b[0;34m(\u001b[0m\u001b[0mos_fspath\u001b[0m\u001b[0;34m(\u001b[0m\u001b[0mfile\u001b[0m\u001b[0;34m)\u001b[0m\u001b[0;34m,\u001b[0m \u001b[0;34m\"rb\"\u001b[0m\u001b[0;34m)\u001b[0m\u001b[0;34m\u001b[0m\u001b[0;34m\u001b[0m\u001b[0m\n\u001b[0m\u001b[1;32m    416\u001b[0m         \u001b[0mown_fid\u001b[0m \u001b[0;34m=\u001b[0m \u001b[0;32mTrue\u001b[0m\u001b[0;34m\u001b[0m\u001b[0;34m\u001b[0m\u001b[0m\n\u001b[1;32m    417\u001b[0m \u001b[0;34m\u001b[0m\u001b[0m\n",
      "\u001b[0;31mFileNotFoundError\u001b[0m: [Errno 2] No such file or directory: '../Data/synthetic_experiments/final_dataset_GP_MCPM_True.npy'"
     ]
    }
   ],
   "source": [
    "# Results for MT GP\n",
    "final_dataset_MT_GP = np.load(folder + 'final_dataset_GP_MCPM_'+ str(missing_experiment)+'.npy')[0]\n",
    "latent_means_MT_GP = np.load(folder + 'latent_means_GP_MCPM_'+str(missing_experiment)+'.npy')\n",
    "latent_vars_MT_GP = np.load(folder + 'latent_variances_GP_MCPM_'+str(missing_experiment)+'.npy')\n",
    "means_w_MT_GP = np.load(folder + 'means_weights_GP_MCPM_'+str(missing_experiment)+'.npy')\n",
    "vars_w_MT_GP = np.load(folder + 'covars_weights_GP_MCPM_'+str(missing_experiment)+'.npy')\n",
    "offsets_MT_GP = np.load(folder + 'offsets_GP_MCPM_'+str(missing_experiment)+'.npy')"
   ]
  },
  {
   "cell_type": "code",
   "execution_count": 9,
   "metadata": {},
   "outputs": [],
   "source": [
    "# Results for ICM\n",
    "mu_0 = np.loadtxt('../Data/synthetic_experiments/mu_0')\n",
    "mu_1 = np.loadtxt('../Data/synthetic_experiments/mu_1')\n",
    "mu_2 = np.loadtxt('../Data/synthetic_experiments/mu_2')\n",
    "mu_3 = np.loadtxt('../Data/synthetic_experiments/mu_3')\n",
    "var_0 = np.loadtxt('../Data/synthetic_experiments/var_0')\n",
    "var_1 = np.loadtxt('../Data/synthetic_experiments/var_1')\n",
    "var_2 = np.loadtxt('../Data/synthetic_experiments/var_2')\n",
    "var_3 = np.loadtxt('../Data/synthetic_experiments/var_3')\n",
    "mu = np.zeros((200,4))\n",
    "mu[:,0] = mu_0\n",
    "mu[:,1] = mu_1\n",
    "mu[:,2] = mu_2\n",
    "mu[:,3] = mu_3\n",
    "var = np.zeros((200,4))\n",
    "var[:,0] = var_0\n",
    "var[:,1] = var_1\n",
    "var[:,2] = var_2\n",
    "var[:,3] = var_3\n",
    "posterior_mean = np.exp(mu + 0.5*var)\n",
    "posterior_var = (np.exp(var) - 1.)*np.exp(2.0*mu + var)"
   ]
  },
  {
   "cell_type": "markdown",
   "metadata": {},
   "source": [
    "# Get the predictions for each method and prior specification"
   ]
  },
  {
   "cell_type": "code",
   "execution_count": 10,
   "metadata": {},
   "outputs": [
    {
     "ename": "NameError",
     "evalue": "name 'final_dataset_MT_GP' is not defined",
     "output_type": "error",
     "traceback": [
      "\u001b[0;31m---------------------------------------------------------------------------\u001b[0m",
      "\u001b[0;31mNameError\u001b[0m                                 Traceback (most recent call last)",
      "\u001b[0;32m<ipython-input-10-d3a8c7de5385>\u001b[0m in \u001b[0;36m<module>\u001b[0;34m\u001b[0m\n\u001b[1;32m      1\u001b[0m \u001b[0mpredictions_MT_Normal\u001b[0m \u001b[0;34m=\u001b[0m \u001b[0mfinal_dataset_MT_Normal\u001b[0m\u001b[0;34m[\u001b[0m\u001b[0;34m:\u001b[0m\u001b[0;34m,\u001b[0m\u001b[0;36m5\u001b[0m\u001b[0;34m:\u001b[0m\u001b[0;36m9\u001b[0m\u001b[0;34m]\u001b[0m\u001b[0;34m\u001b[0m\u001b[0;34m\u001b[0m\u001b[0m\n\u001b[1;32m      2\u001b[0m \u001b[0mpredictions_ST_Normal\u001b[0m \u001b[0;34m=\u001b[0m \u001b[0mfinal_dataset_ST_Normal\u001b[0m\u001b[0;34m[\u001b[0m\u001b[0;34m:\u001b[0m\u001b[0;34m,\u001b[0m\u001b[0;36m5\u001b[0m\u001b[0;34m:\u001b[0m\u001b[0;36m9\u001b[0m\u001b[0;34m]\u001b[0m\u001b[0;34m\u001b[0m\u001b[0;34m\u001b[0m\u001b[0m\n\u001b[0;32m----> 3\u001b[0;31m \u001b[0mpredictions_MT_GP\u001b[0m \u001b[0;34m=\u001b[0m \u001b[0mfinal_dataset_MT_GP\u001b[0m\u001b[0;34m[\u001b[0m\u001b[0;34m:\u001b[0m\u001b[0;34m,\u001b[0m\u001b[0;36m5\u001b[0m\u001b[0;34m:\u001b[0m\u001b[0;36m9\u001b[0m\u001b[0;34m]\u001b[0m\u001b[0;34m\u001b[0m\u001b[0;34m\u001b[0m\u001b[0m\n\u001b[0m",
      "\u001b[0;31mNameError\u001b[0m: name 'final_dataset_MT_GP' is not defined"
     ]
    }
   ],
   "source": [
    "predictions_MT_Normal = final_dataset_MT_Normal[:,5:9]\n",
    "predictions_ST_Normal = final_dataset_ST_Normal[:,5:9]\n",
    "predictions_MT_GP = final_dataset_MT_GP[:,5:9]"
   ]
  },
  {
   "cell_type": "markdown",
   "metadata": {},
   "source": [
    "# Define the indeces of missing values"
   ]
  },
  {
   "cell_type": "code",
   "execution_count": 13,
   "metadata": {},
   "outputs": [],
   "source": [
    "index1 = range(10,60)\n",
    "index1_non_missing1 = range(0,10)\n",
    "index1_non_missing2 = range(60,200)\n",
    "\n",
    "index2 = range(30,80)\n",
    "index2_non_missing1 = range(0,30)\n",
    "index2_non_missing2 = range(80,200)\n",
    "\n",
    "index3 = range(140,190)\n",
    "index3_non_missing1 = range(0,140)\n",
    "index3_non_missing2 = range(190,200)\n",
    "\n",
    "index4 = range(50,100)\n",
    "index4_non_missing1 = range(0,50)\n",
    "index4_non_missing2 = range(100,200)\n",
    "\n",
    "indeces_missing = np.transpose(np.reshape(np.concatenate((index1,index2, index3, index4)), \n",
    "                                          (n_tasks, n_missing_values)))\n"
   ]
  },
  {
   "cell_type": "code",
   "execution_count": 14,
   "metadata": {
    "scrolled": false
   },
   "outputs": [
    {
     "name": "stderr",
     "output_type": "stream",
     "text": [
      "/Users/virginiaaglietti/anaconda3/lib/python3.7/site-packages/matplotlib/patches.py:75: UserWarning: Setting the 'color' property will overridethe edgecolor or facecolor properties.\n",
      "  warnings.warn(\"Setting the 'color' property will override\"\n"
     ]
    },
    {
     "data": {
      "image/png": "[encoded data removed]",
      "text/plain": [
       "<Figure size 648x648 with 4 Axes>"
      ]
     },
     "metadata": {
      "needs_background": "light"
     },
     "output_type": "display_data"
    }
   ],
   "source": [
    "# Figure 1 - Normal prior\n",
    "length=6\n",
    "width=4\n",
    "markersize = 5\n",
    "trans_point = 0.7\n",
    "trans_line = 0.9\n",
    "col_true = 'dimgrey'\n",
    "col_mt = 'red'\n",
    "col_mt_gp = 'green'\n",
    "style_gp = '--'\n",
    "col_st = 'green'\n",
    "style_st = '--'\n",
    "col_pooling = \"darkviolet\"\n",
    "col_dots = 'black'\n",
    "col_icm = 'blue'\n",
    "style_icm = '--'\n",
    "lenght_interval = 2\n",
    "style_arrow = '|-|'\n",
    "style_data = 'o'\n",
    "face_color= 'none'\n",
    "color_interval = 'orange'\n",
    "\n",
    "# font = {'family': 'serif',\n",
    "#         'color':  'black',\n",
    "#         'weight': 'normal',\n",
    "#         'size': 16,\n",
    "#         }\n",
    "\n",
    "font = {'color':  'black',\n",
    "        'weight': 'normal',\n",
    "        'size': 16,\n",
    "        }\n",
    "\n",
    "\n",
    "f, ((ax1, ax2), (ax3, ax4)) = plt.subplots(2, 2, sharey = 'row', sharex = True)\n",
    "#f, ((ax1, ax2), (ax3, ax4)) = plt.subplots(2, 2)\n",
    "# sharex = 'col', sharey = 'row'\n",
    "\n",
    "f.set_figheight(9)\n",
    "f.set_figwidth(9)\n",
    "\n",
    "\n",
    "ax1.plot(original_inputs[indeces_missing[:,0],], outputs[indeces_missing[:,0],0], style_data, mew=2, color = col_dots,  markersize=markersize, alpha=trans_point, markerfacecolor=face_color)\n",
    "ax1.plot(original_inputs[index1_non_missing1,], outputs[index1_non_missing1,0], style_data, mew=2, color = col_dots,  markersize=markersize, alpha=trans_point, markerfacecolor=face_color)\n",
    "ax1.plot(original_inputs[index1_non_missing2,], outputs[index1_non_missing2,0],style_data, mew=2, color = col_dots,  markersize=markersize, alpha=trans_point, markerfacecolor=face_color)\n",
    "ax1.plot(original_inputs, posterior_mean[:,0], '--', mew=2,linewidth=2.0, color = col_icm)\n",
    "\n",
    "ax1.plot(original_inputs, predictions_MT_Normal[:,0], '--', mew=2, linewidth=2.0, color = col_mt)\n",
    "#ax1.plot(inputs, predictions_MT_GP[:,0], '--', mew=2, linewidth=2.0, color = col_mt_gp)\n",
    "ax1.plot(original_inputs, predictions_ST_Normal[:,0], '--', mew=2, linewidth=2.0, color = col_st)\n",
    "ax1.plot(original_inputs, intensities[:,0], '-', mew=2, color = col_true, markersize=4, alpha=trans_line)\n",
    "\n",
    "ax1.xaxis.set_visible(True)\n",
    "ax1.tick_params(labelsize=11)\n",
    "ax1.spines['top'].set_visible(False)\n",
    "ax1.spines['right'].set_visible(False)\n",
    "\n",
    "a, b = inputs[10], inputs[60]\n",
    "#ax1.set_xticks(())\n",
    "#ax1.set_xticklabels(('',''),color = 'red', visible = True)\n",
    "# ax1.tick_params(axis = \"x\", color = 'red',length=length,width=width)\n",
    "\n",
    "ax1.annotate('', xy=(1.5, 2.3),xytext=(0.3,2.3),                     #draws an arrow from one set of coordinates to the other\n",
    "            arrowprops=dict(arrowstyle=style_arrow,facecolor='red',color='red', linewidth = lenght_interval),   #sets style of arrow and colour\n",
    "            annotation_clip=False)  \n",
    "\n",
    "\n",
    "ax2.plot(original_inputs[indeces_missing[:,1],], outputs[indeces_missing[:,1],1], style_data, mew=2, color = col_dots,  markersize=markersize, alpha=trans_point, markerfacecolor=face_color)\n",
    "training_points, = ax2.plot(original_inputs[index2_non_missing1,], outputs[index2_non_missing1,1], style_data, mew=2, color = col_dots,  markersize=markersize, alpha=trans_point, markerfacecolor=face_color)\n",
    "ax2.plot(original_inputs[index2_non_missing2,], outputs[index2_non_missing2,1], style_data, mew=2, color = col_dots,  markersize=markersize, alpha=trans_point, markerfacecolor=face_color)\n",
    "ICM, = ax2.plot(original_inputs, posterior_mean[:,1], '--', mew=2,linewidth=2.0, color = col_icm)\n",
    "\n",
    "mtLGCP, = ax2.plot(original_inputs, predictions_MT_Normal[:,1], '--', mew=2, linewidth=2.0, color = col_mt)\n",
    "#mtLGCP_GP, = ax2.plot(inputs, predictions_MT_GP[:,1], '--', mew=2, linewidth=2.0, color = col_mt_gp)\n",
    "single_LGCP, = ax2.plot(original_inputs, predictions_ST_Normal[:,1], '--', mew=2, linewidth=2.0, color = col_st)\n",
    "true_intensity, =ax2.plot(original_inputs, intensities[:,1], '-', mew=2, color = col_true, markersize=4, alpha=trans_line)\n",
    "\n",
    "ax2.xaxis.set_visible(True)\n",
    "ax2.tick_params(labelsize=11)\n",
    "ax2.spines['top'].set_visible(False)\n",
    "ax2.spines['right'].set_visible(False)\n",
    "\n",
    "a, b = inputs[30], inputs[80]\n",
    "#ax2.set_xticks(())\n",
    "#ax2.set_xticklabels(('',''),color = 'red', visible = True)\n",
    "#ax2.tick_params(axis = \"x\", color = 'red',length=length,width=width)\n",
    "ax2.annotate('', xy=(2.0, 2.3),xytext=(0.8,2.3),                     #draws an arrow from one set of coordinates to the other\n",
    "            arrowprops=dict(arrowstyle=style_arrow,facecolor='red',color='red', linewidth = lenght_interval),   #sets style of arrow and colour\n",
    "            annotation_clip=False)  \n",
    "\n",
    "\n",
    "\n",
    "ax3.plot(original_inputs[indeces_missing[:,2],], outputs[indeces_missing[:,2],2], style_data, mew=2, color = col_dots,  markersize=markersize, alpha=trans_point, markerfacecolor=face_color)\n",
    "ax3.plot(original_inputs[index3_non_missing1,], outputs[index3_non_missing1,2],style_data, mew=2, color = col_dots,  markersize=markersize, alpha=trans_point, markerfacecolor=face_color)\n",
    "ax3.plot(original_inputs[index3_non_missing2,], outputs[index3_non_missing2,2], style_data, mew=2, color = col_dots,  markersize=markersize, alpha=trans_point, markerfacecolor=face_color)\n",
    "ax3.plot(original_inputs, posterior_mean[:,2], '--', mew=2,linewidth=2.0, color = col_icm)\n",
    "\n",
    "ax3.plot(original_inputs, predictions_MT_Normal[:,2], '--', mew=2, linewidth=2.0, color = col_mt)\n",
    "#ax3.plot(inputs, predictions_MT_GP[:,2], '--', mew=2, linewidth=2.0, color = col_mt_gp)\n",
    "ax3.plot(original_inputs, predictions_ST_Normal[:,2], '--', mew=2, linewidth=2.0, color = col_st)\n",
    "ax3.plot(original_inputs, intensities[:,2], '-', mew=2, color = col_true, markersize=4, alpha=trans_line)\n",
    "\n",
    "ax3.xaxis.set_visible(True)\n",
    "ax3.tick_params(labelsize=11)\n",
    "ax3.spines['top'].set_visible(False)\n",
    "ax3.spines['right'].set_visible(False)\n",
    "\n",
    "a, b = inputs[140], inputs[190]\n",
    "#ax3.set_xticks(())\n",
    "#ax3.set_xticklabels(('',''),color = 'red', visible = True)\n",
    "#ax3.tick_params(axis = \"x\", color = 'red',length=length,width=width)\n",
    "#ax3.set_yticks((0,30,60))\n",
    "ax3.annotate('', xy=(4.8, 1.2),xytext=(3.6,1.2),                     #draws an arrow from one set of coordinates to the other\n",
    "            arrowprops=dict(arrowstyle=style_arrow,facecolor='red',color='red', linewidth = lenght_interval),   #sets style of arrow and colour\n",
    "            annotation_clip=False)  \n",
    "\n",
    "\n",
    "\n",
    "\n",
    "\n",
    "ax4.plot(original_inputs[indeces_missing[:,3],], outputs[indeces_missing[:,3],3], style_data, mew=2, color = col_dots,  markersize=markersize, alpha=trans_point, markerfacecolor=face_color)\n",
    "ax4.plot(original_inputs[index4_non_missing1,], outputs[index4_non_missing1,3], style_data, mew=2, color = col_dots,  markersize=markersize, alpha=trans_point, markerfacecolor=face_color)\n",
    "ax4.plot(original_inputs[index4_non_missing2,], outputs[index4_non_missing2,3], style_data, mew=2, color = col_dots,  markersize=markersize, alpha=trans_point, markerfacecolor=face_color)\n",
    "ax4.plot(original_inputs, posterior_mean[:,3], '--', mew=2,linewidth=2.0, color = col_icm)\n",
    "\n",
    "ax4.plot(original_inputs, predictions_MT_Normal[:,3], '--', mew=2, linewidth=2.0, color = col_mt)\n",
    "#ax4.plot(inputs, predictions_MT_GP[:,3], '--', mew=2, linewidth=2.0, color = col_mt_gp)\n",
    "ax4.plot(original_inputs, predictions_ST_Normal[:,3], '--', mew=2, linewidth=2.0, color = col_st)\n",
    "ax4.plot(original_inputs, intensities[:,3], '-', mew=2, color = col_true, markersize=4, alpha=trans_line)\n",
    "\n",
    "ax4.xaxis.set_visible(True)\n",
    "ax4.tick_params(labelsize=11)\n",
    "ax4.spines['top'].set_visible(False)\n",
    "ax4.spines['right'].set_visible(False)\n",
    "\n",
    "a, b = inputs[50], inputs[100]\n",
    "#ax4.set_xticks(())\n",
    "#ax4.set_xticklabels(('',''),color = 'red', visible = True)\n",
    "#ax4.tick_params(axis = \"x\", color = 'red',length=length,width=width)\n",
    "ax4.annotate('', xy=(2.5, 1.2),xytext=(1.3,1.2),                     #draws an arrow from one set of coordinates to the other\n",
    "            arrowprops=dict(arrowstyle=style_arrow,facecolor='red',color='red', linewidth = lenght_interval),   #sets style of arrow and colour\n",
    "            annotation_clip=False)  \n",
    "\n",
    "#ax4.annotate('', xy=(-0.92, -4),xytext=(0.08,-4),                     #draws an arrow from one set of coordinates to the other\n",
    "#           arrowprops=dict(arrowstyle=style_arrow,facecolor='red',color='red', linewidth = lenght_interval),   #sets style of arrow and colour\n",
    "#          annotation_clip=False)  \n",
    "#ax4.legend([training_points, true_intensity, mtLGCP,mtLGCP_GP, single_LGCP, ICM], \n",
    "#           ['Training points', 'True intensity', 'LGCPN-Normal','LGCPN-GP', 'LGCP', 'ICM'],prop={'size': 12},\n",
    "#           loc='upper right',fancybox=True, shadow=False, ncol=1)\n",
    "\n",
    "ax4.legend([training_points, true_intensity, mtLGCP,single_LGCP, ICM], \n",
    "           ['Training points', 'True intensity', 'MCPM-Normal','LGCP', 'ICM'],prop={'size': 12},\n",
    "           loc='upper right',fancybox=True, shadow=False, ncol=1)\n",
    "\n",
    "ax1.tick_params(axis='y', labelsize=13)\n",
    "ax3.tick_params(axis='y', labelsize=13)\n",
    "\n",
    "\n",
    "\n",
    "bbox_props = dict(boxstyle=\"round,pad=0.3\", fc=\"white\", ec=\"black\", lw=0.5)\n",
    "\n",
    "\n",
    "plt.text(-5.6, 110,'Task # 1', fontdict=font,bbox=bbox_props )\n",
    "plt.text(0.2, 110, 'Task # 2', fontdict=font,bbox=bbox_props )\n",
    "plt.text(-5.6, 50, 'Task # 3', fontdict=font,bbox=bbox_props )\n",
    "plt.text(0.2, 50, 'Task # 4', fontdict=font,bbox=bbox_props )\n",
    "\n",
    "\n",
    "\n",
    "f.subplots_adjust(hspace=0.07)\n",
    "f.subplots_adjust(wspace=0.03)\n",
    "#f.suptitle('Normal prior', fontsize=14)\n",
    "\n",
    "#f.savefig('synthetic_noise.png')\n",
    "plt.show()\n"
   ]
  },
  {
   "cell_type": "markdown",
   "metadata": {},
   "source": [
    "## Compute perf"
   ]
  },
  {
   "cell_type": "code",
   "execution_count": 34,
   "metadata": {},
   "outputs": [],
   "source": [
    "RMSE_MT_Normal = np.zeros((n_tasks))\n",
    "RMSE_ST_Normal = np.zeros((n_tasks))\n",
    "RMSE_ICM = np.zeros((n_tasks))\n",
    "RMSE_MT_GP = np.zeros((n_tasks))\n",
    "\n",
    "NLPL_MT_Normal = np.zeros((n_tasks))\n",
    "NLPL_MT_GP = np.zeros((n_tasks))\n",
    "NLPL_ST_Normal = np.zeros((n_tasks))\n",
    "NLPL_ICM = np.zeros((n_tasks))"
   ]
  },
  {
   "cell_type": "code",
   "execution_count": null,
   "metadata": {},
   "outputs": [],
   "source": []
  },
  {
   "cell_type": "code",
   "execution_count": 35,
   "metadata": {},
   "outputs": [],
   "source": [
    "for task in xrange(n_tasks):\n",
    "    RMSE_MT_Normal[task] = np.sqrt(np.sum(np.square(outputs_noMissing[indeces_missing[:,task],task] - predictions_MT_Normal[indeces_missing[:,task],task]))/n_missing_values)\n",
    "    RMSE_ST_Normal[task] = np.sqrt(np.sum(np.square(outputs_noMissing[indeces_missing[:,task],task] - predictions_ST_Normal[indeces_missing[:,task],task]))/n_missing_values)\n",
    "    RMSE_ICM[task] = np.sqrt(np.sum(np.square(outputs_noMissing[indeces_missing[:,task],task] - posterior_mean[indeces_missing[:,task],task]))/n_missing_values)\n",
    "    RMSE_MT_GP[task] = np.sqrt(np.sum(np.square(outputs_noMissing[indeces_missing[:,task],task] - predictions_MT_GP[indeces_missing[:,task],task]))/n_missing_values)\n",
    "\n",
    "    \n",
    "    NLPL_MT_Normal[task] = - np.sum(poisson.logpmf(np.around(outputs_noMissing[indeces_missing[:,task],task]),predictions_MT_Normal[indeces_missing[:,task],task]))/n_missing_values\n",
    "    NLPL_ST_Normal[task] = - np.sum(poisson.logpmf(np.around(outputs_noMissing[indeces_missing[:,task],task]),predictions_ST_Normal[indeces_missing[:,task],task]))/n_missing_values\n",
    "\n",
    "    NLPL_ICM[task] = - np.sum(poisson.logpmf(np.around(outputs_noMissing[indeces_missing[:,task],task]),posterior_mean[indeces_missing[:,task],task]))/n_missing_values\n",
    "    NLPL_MT_GP[task] = - np.sum(poisson.logpmf(np.around(outputs_noMissing[indeces_missing[:,task],task]),predictions_MT_GP[indeces_missing[:,task],task]))/n_missing_values\n"
   ]
  },
  {
   "cell_type": "code",
   "execution_count": 36,
   "metadata": {},
   "outputs": [
    {
     "data": {
      "text/plain": [
       "array([17.86133812,  6.78434146,  4.94193268,  5.54924301])"
      ]
     },
     "execution_count": 36,
     "metadata": {},
     "output_type": "execute_result"
    }
   ],
   "source": [
    "RMSE_MT_Normal"
   ]
  },
  {
   "cell_type": "code",
   "execution_count": 37,
   "metadata": {},
   "outputs": [
    {
     "data": {
      "text/plain": [
       "array([17.92180402,  8.52390213,  7.26085376,  5.75760377])"
      ]
     },
     "execution_count": 37,
     "metadata": {},
     "output_type": "execute_result"
    }
   ],
   "source": [
    "RMSE_ICM"
   ]
  },
  {
   "cell_type": "code",
   "execution_count": 38,
   "metadata": {},
   "outputs": [
    {
     "data": {
      "text/plain": [
       "array([7.84416355, 3.4713037 , 3.02927179, 3.21089003])"
      ]
     },
     "execution_count": 38,
     "metadata": {},
     "output_type": "execute_result"
    }
   ],
   "source": [
    "NLPL_MT_Normal"
   ]
  },
  {
   "cell_type": "code",
   "execution_count": 39,
   "metadata": {},
   "outputs": [
    {
     "data": {
      "text/plain": [
       "array([7.86961306, 3.929407  , 3.58918824, 3.25293771])"
      ]
     },
     "execution_count": 39,
     "metadata": {},
     "output_type": "execute_result"
    }
   ],
   "source": [
    "NLPL_ICM"
   ]
  },
  {
   "cell_type": "code",
   "execution_count": 40,
   "metadata": {},
   "outputs": [
    {
     "data": {
      "text/plain": [
       "array([17.44796131,  6.39437366,  5.05449114,  5.26794648])"
      ]
     },
     "execution_count": 40,
     "metadata": {},
     "output_type": "execute_result"
    }
   ],
   "source": [
    "RMSE_MT_GP"
   ]
  },
  {
   "cell_type": "code",
   "execution_count": 41,
   "metadata": {},
   "outputs": [
    {
     "data": {
      "text/plain": [
       "array([7.53368095, 3.36775309, 3.04949624, 3.12935792])"
      ]
     },
     "execution_count": 41,
     "metadata": {},
     "output_type": "execute_result"
    }
   ],
   "source": [
    "NLPL_MT_GP"
   ]
  },
  {
   "cell_type": "code",
   "execution_count": 42,
   "metadata": {},
   "outputs": [
    {
     "data": {
      "text/plain": [
       "array([28.61193695, 32.34253484,  9.14009226,  9.90300674])"
      ]
     },
     "execution_count": 42,
     "metadata": {},
     "output_type": "execute_result"
    }
   ],
   "source": [
    "RMSE_ST_Normal"
   ]
  },
  {
   "cell_type": "code",
   "execution_count": 43,
   "metadata": {},
   "outputs": [
    {
     "data": {
      "text/plain": [
       "array([24.38660545, 15.00559522,  4.95513638,  5.53967405])"
      ]
     },
     "execution_count": 43,
     "metadata": {},
     "output_type": "execute_result"
    }
   ],
   "source": [
    "NLPL_ST_Normal"
   ]
  },
  {
   "cell_type": "code",
   "execution_count": 51,
   "metadata": {},
   "outputs": [],
   "source": [
    "## Use this if you want to compute nlpl using samples from posterior distributions\n",
    "np.random.seed(1)\n",
    "n_samples = 100\n",
    "intensity_sample = np.zeros((n_samples, N_all, n_tasks))\n",
    "latent_fun_sample = np.zeros((n_samples, N_all, n_latent))\n",
    "weights_sample = np.zeros((n_samples, n_tasks, n_latent))\n",
    "nlpl_fold_task = np.zeros((n_samples, n_tasks))\n",
    "\n",
    "diagonal_variance = np.zeros((n_latent, n_tasks))\n",
    "for q in xrange(n_latent):\n",
    "    diagonal_variance[q] = np.diagonal(vars_w_MT_Normal[q])\n",
    "latent_fun_sample = np.random.normal(latent_means_MT_Normal, np.sqrt(latent_vars_MT_Normal), size = (n_samples, N_all, n_latent)) \n",
    "weights_sample = np.random.normal(means_w_MT_Normal, np.sqrt(diagonal_variance), size = (n_samples, n_latent,n_tasks))\n",
    "\n",
    "for i in xrange(n_samples):\n",
    "    intensity_sample[i] = np.exp(np.transpose(np.dot(np.transpose(weights_sample[i]), np.transpose(latent_fun_sample[i]))) + np.transpose(offsets_MT_Normal))\n",
    "\n"
   ]
  },
  {
   "cell_type": "code",
   "execution_count": 52,
   "metadata": {},
   "outputs": [],
   "source": [
    "for i in xrange(n_samples):\n",
    "    for task in xrange(n_tasks):\n",
    "        true_counts =  np.around(outputs_noMissing[indeces_missing[:,task],task])\n",
    "        pred_counts = intensity_sample[i, :,task][indeces_missing[:,task]]\n",
    "        nlpl_fold_task[i,task] = - np.sum(poisson.logpmf(true_counts, pred_counts))\n"
   ]
  },
  {
   "cell_type": "code",
   "execution_count": 53,
   "metadata": {},
   "outputs": [
    {
     "data": {
      "text/plain": [
       "array([7.93371568, 3.77618963, 3.1154574 , 3.32578665])"
      ]
     },
     "execution_count": 53,
     "metadata": {},
     "output_type": "execute_result"
    }
   ],
   "source": [
    "np.mean(nlpl_fold_task, axis = 0)/n_missing_values"
   ]
  },
  {
   "cell_type": "code",
   "execution_count": null,
   "metadata": {},
   "outputs": [],
   "source": []
  },
  {
   "cell_type": "code",
   "execution_count": 17,
   "metadata": {},
   "outputs": [
    {
     "data": {
      "text/plain": [
       "[<matplotlib.lines.Line2D at 0x1a1f94f6a0>,\n",
       " <matplotlib.lines.Line2D at 0x1a1f94f7f0>,\n",
       " <matplotlib.lines.Line2D at 0x1a1f94f940>,\n",
       " <matplotlib.lines.Line2D at 0x1a1f94fa90>,\n",
       " <matplotlib.lines.Line2D at 0x1a1f94fbe0>,\n",
       " <matplotlib.lines.Line2D at 0x1a1f94fd30>,\n",
       " <matplotlib.lines.Line2D at 0x1a1f94fe80>,\n",
       " <matplotlib.lines.Line2D at 0x1a1f94ffd0>,\n",
       " <matplotlib.lines.Line2D at 0x1a1f958160>,\n",
       " <matplotlib.lines.Line2D at 0x1a1f9582b0>]"
      ]
     },
     "execution_count": 17,
     "metadata": {},
     "output_type": "execute_result"
    },
    {
     "data": {
      "image/png": "[encoded data removed]",
      "text/plain": [
       "<Figure size 432x288 with 1 Axes>"
      ]
     },
     "metadata": {
      "needs_background": "light"
     },
     "output_type": "display_data"
    }
   ],
   "source": [
    "plt.plot(nelbo_values[0])"
   ]
  },
  {
   "cell_type": "code",
   "execution_count": null,
   "metadata": {},
   "outputs": [],
   "source": []
  },
  {
   "cell_type": "code",
   "execution_count": null,
   "metadata": {},
   "outputs": [],
   "source": []
  }
 ],
 "metadata": {
  "kernelspec": {
   "display_name": "Python 3",
   "language": "python",
   "name": "python3"
  },
  "language_info": {
   "codemirror_mode": {
    "name": "ipython",
    "version": 3
   },
   "file_extension": ".py",
   "mimetype": "text/x-python",
   "name": "python",
   "nbconvert_exporter": "python",
   "pygments_lexer": "ipython3",
   "version": "3.7.3"
  }
 },
 "nbformat": 4,
 "nbformat_minor": 2
}
